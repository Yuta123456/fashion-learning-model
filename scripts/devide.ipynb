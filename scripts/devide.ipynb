{
 "cells": [
  {
   "cell_type": "code",
   "execution_count": null,
   "metadata": {},
   "outputs": [],
   "source": [
    "\"\"\"\n",
    "すべてのコーディネートを\n",
    "train,test, validateの三種に分ける。\n",
    "そして、画像フォルダとcoordinatesフォルダも分ける\n",
    "\"\"\""
   ]
  },
  {
   "cell_type": "code",
   "execution_count": 2,
   "metadata": {},
   "outputs": [],
   "source": [
    "import glob\n",
    "import random\n",
    "import shutil\n",
    "import os\n",
    "import json\n",
    "from PIL import Image\n",
    "import sys\n",
    "sys.path.append(\"C:/Users/yuuta/Documents/fashion\")\n",
    "from utils.util import can_open_images, open_json\n",
    "# fix seed\n",
    "seed_value = 42\n",
    "random.seed(seed_value)"
   ]
  },
  {
   "cell_type": "code",
   "execution_count": 45,
   "metadata": {},
   "outputs": [],
   "source": [
    "import importlib\n",
    "import utils\n",
    "importlib.reload(utils.util)\n",
    "from utils.util import can_open_images, open_json"
   ]
  },
  {
   "cell_type": "code",
   "execution_count": 10,
   "metadata": {},
   "outputs": [],
   "source": [
    "# 画像をすべて移す\n",
    "dirpath = glob.glob('C:/Users/yuuta/Documents/fashion/IQON3000/IQON3000/**/**/*.jpg')\n",
    "\n",
    "for fp in dirpath:\n",
    "    _, img_path = os.path.split(fp)\n",
    "    img_path = img_path.replace('_m', '')\n",
    "    shutil.copy(fp, f'C:/Users/yuuta/Documents/fashion/data/images/{img_path}')"
   ]
  },
  {
   "cell_type": "code",
   "execution_count": 11,
   "metadata": {},
   "outputs": [],
   "source": [
    "# userごとに分ける\n",
    "dirpath = glob.glob('C:/Users/yuuta/Documents/fashion/IQON3000/IQON3000/**/')\n",
    "\n",
    "random.shuffle(dirpath)\n",
    "\n",
    "# 分割の比率を設定\n",
    "total_length = len(dirpath)\n",
    "ratio_1 = int(total_length * 0.6)\n",
    "ratio_2 = int(total_length * 0.8)\n",
    "\n",
    "# リストを分割\n",
    "train = dirpath[:ratio_1]\n",
    "test = dirpath[ratio_1:ratio_2]\n",
    "validate = dirpath[ratio_2:]"
   ]
  },
  {
   "cell_type": "code",
   "execution_count": 49,
   "metadata": {},
   "outputs": [],
   "source": [
    "\n",
    "'''\n",
    "data/{kind}/{user_id}/coordinates.jsonに対して、ファイルを意味のあるコーディネートに絞りコピーしていく関数\n",
    "'''\n",
    "def copy_coordinates(filepaths, user_id, kind):\n",
    "    for fp in filepaths:\n",
    "        _, coordinate_file_name  = os.path.split(fp)\n",
    "        # 1. jsonファイルが開けるかの確認\n",
    "        coordinate = open_json(fp)\n",
    "        if not coordinate:\n",
    "            continue\n",
    "\n",
    "        # 2. そもそもitemsがあるか確認\n",
    "        if len(coordinate[\"items\"]) == 0:\n",
    "            continue\n",
    "\n",
    "        # 3. すべての画像が開けるかの確認\n",
    "        image_ids = list(map(lambda x: x[\"itemId\"], coordinate[\"items\"]))\n",
    "        if not can_open_images(image_ids):\n",
    "            continue\n",
    "        user_dir_path = f'C:/Users/yuuta/Documents/fashion/data/{kind}/{user_id}'\n",
    "        if not os.path.exists(user_dir_path):\n",
    "            os.mkdir(user_dir_path)\n",
    "        shutil.copy(fp, f'{user_dir_path}/{coordinate_file_name}')\n",
    "\n",
    "def copy_user_coordinates(dir_path, kind):\n",
    "    for cnt, user_dirpath in enumerate(dir_path):\n",
    "        # dir_pathはtailが\\\\なので二回かける\n",
    "        if cnt % 3000 == 0:\n",
    "            print(f'{cnt * 100 / len(dir_path)}')\n",
    "        _, user_id = os.path.split(os.path.split(user_dirpath)[0])\n",
    "        user_coordinates_paths = glob.glob(user_dirpath + '**/*_new.json')\n",
    "        copy_coordinates(user_coordinates_paths, user_id, kind)\n",
    "\n",
    "def recreate_dataset(kind):\n",
    "    # ディレクトリが存在する場合は削除\n",
    "    path = f'C:/Users/yuuta/Documents/fashion/data/{kind}'\n",
    "    if os.path.exists(path):\n",
    "        shutil.rmtree(path)\n",
    "\n",
    "    # 新しいディレクトリを作成\n",
    "    os.mkdir(path)\n"
   ]
  },
  {
   "cell_type": "code",
   "execution_count": 51,
   "metadata": {},
   "outputs": [
    {
     "name": "stdout",
     "output_type": "stream",
     "text": [
      "0.0\n",
      "0.0\n",
      "0.0\n"
     ]
    }
   ],
   "source": [
    "copy_user_coordinates(train, 'train')\n",
    "copy_user_coordinates(test, 'test')\n",
    "copy_user_coordinates(validate, 'validate')"
   ]
  },
  {
   "cell_type": "code",
   "execution_count": 50,
   "metadata": {},
   "outputs": [],
   "source": [
    "recreate_dataset('test')\n",
    "recreate_dataset('train')\n",
    "recreate_dataset('validate')"
   ]
  },
  {
   "cell_type": "code",
   "execution_count": 3,
   "metadata": {},
   "outputs": [],
   "source": [
    "\n",
    "# captionの保存\n",
    "captions = {}\n",
    "dirpath = glob.glob('C:/Users/yuuta/Documents/fashion/IQON3000/IQON3000/**/')\n",
    "\n",
    "for dp in dirpath:\n",
    "    filepaths = glob.glob(dp + '**/*_new.json')\n",
    "    for fp in filepaths:\n",
    "        coordinate = open_json(fp)\n",
    "        if coordinate == None:\n",
    "            continue\n",
    "        # print(coordinate)\n",
    "        try:\n",
    "            caption_ids = list(map(lambda x: (x[\"itemId\"], x[\"expressions\"]), coordinate[\"items\"]))\n",
    "        except KeyError as e:\n",
    "            continue\n",
    "\n",
    "        for itemId, caption in caption_ids:\n",
    "            try:\n",
    "                captions[itemId] = caption[0]\n",
    "            except IndexError as e:\n",
    "                continue\n",
    "\n",
    "with open('C:/Users/yuuta/Documents/fashion/data/captions.json', 'w', encoding='shift-jis') as f:\n",
    "    json.dump(captions, f, ensure_ascii=False)\n"
   ]
  }
 ],
 "metadata": {
  "kernelspec": {
   "display_name": "fashion",
   "language": "python",
   "name": "python3"
  },
  "language_info": {
   "codemirror_mode": {
    "name": "ipython",
    "version": 3
   },
   "file_extension": ".py",
   "mimetype": "text/x-python",
   "name": "python",
   "nbconvert_exporter": "python",
   "pygments_lexer": "ipython3",
   "version": "3.11.5"
  }
 },
 "nbformat": 4,
 "nbformat_minor": 2
}
