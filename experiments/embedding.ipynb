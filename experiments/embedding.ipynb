{
 "cells": [
  {
   "cell_type": "code",
   "execution_count": 11,
   "metadata": {},
   "outputs": [],
   "source": [
    "# testの空間への埋め込み"
   ]
  },
  {
   "cell_type": "code",
   "execution_count": 12,
   "metadata": {},
   "outputs": [],
   "source": [
    "import sys\n",
    "import os\n",
    "import torch\n",
    "import pandas as pd\n",
    "sys.path.append(\"C:/Users/yuuta/Documents/fashion\")\n",
    "from utils.util import filter_basic_items, open_json\n",
    "from utils.util import is_target_category\n",
    "from utils.util import calculate_euclid_sum\n",
    "from utils.infer import id_to_vector\n",
    "from utils.util import calc_roc_auc\n",
    "import json\n",
    "from torchvision import transforms\n",
    "import matplotlib.pyplot as plt\n",
    "import glob\n",
    "from PIL import Image\n"
   ]
  },
  {
   "cell_type": "code",
   "execution_count": 13,
   "metadata": {},
   "outputs": [
    {
     "data": {
      "text/plain": [
       "<module 'utils.util' from 'C:\\\\Users/yuuta/Documents/fashion\\\\utils\\\\util.py'>"
      ]
     },
     "execution_count": 13,
     "metadata": {},
     "output_type": "execute_result"
    }
   ],
   "source": [
    "import importlib\n",
    "import utils\n",
    "importlib.reload(utils.util)"
   ]
  },
  {
   "cell_type": "code",
   "execution_count": 14,
   "metadata": {},
   "outputs": [],
   "source": [
    "if torch.cuda.is_available():\n",
    "    device = torch.device(\"cuda\")  # GPUデバイスを取得\n",
    "else:\n",
    "    device = torch.device(\"cpu\")  # CPUデバイスを取得"
   ]
  },
  {
   "cell_type": "code",
   "execution_count": 15,
   "metadata": {},
   "outputs": [],
   "source": [
    "positive_path = glob.glob(\n",
    "    f\"C:/Users/yuuta/Documents/fashion/data/test/**/*.json\"\n",
    ")"
   ]
  },
  {
   "cell_type": "code",
   "execution_count": 16,
   "metadata": {},
   "outputs": [],
   "source": [
    "targets = []\n",
    "p_cnt = 0\n",
    "for fp in positive_path:\n",
    "    json_dict = open_json(fp)\n",
    "    items = filter_basic_items(json_dict[\"items\"])\n",
    "    attributes = []\n",
    "    vectors = []\n",
    "    for item in items:\n",
    "        try:\n",
    "            itemId = str(item[\"itemId\"])\n",
    "        except Exception as e:\n",
    "            print(fp, \" : \", e)\n",
    "            continue\n",
    "\n",
    "        targets.append(itemId)"
   ]
  },
  {
   "cell_type": "code",
   "execution_count": 17,
   "metadata": {},
   "outputs": [],
   "source": [
    "from model_learning.model_structure.image_encoder import ImageEncoderV2\n",
    "\n",
    "model = ImageEncoderV2().to(device)\n",
    "\n",
    "model.load_state_dict(\n",
    "    torch.load(\n",
    "        \"C:/Users/yuuta/Documents/fashion/model_learning/compatibility/models/triplet-image-2024-01-09.pth\"\n",
    "    )\n",
    ")\n",
    "def infer(input_img):\n",
    "    with torch.no_grad():\n",
    "        pred = model(input_img)\n",
    "    return pred"
   ]
  },
  {
   "cell_type": "code",
   "execution_count": 18,
   "metadata": {},
   "outputs": [],
   "source": [
    "transform = transforms.Compose(\n",
    "    [\n",
    "        transforms.Resize(256),\n",
    "        transforms.CenterCrop(224),\n",
    "        transforms.ToTensor(),\n",
    "        transforms.Normalize(mean=[0.485, 0.456, 0.406], std=[0.229, 0.224, 0.225]),\n",
    "    ]\n",
    ")\n",
    "\n",
    "\n",
    "def to_image(itemId):\n",
    "    image_path = f\"C:/Users/yuuta/Documents/fashion/data/images/{itemId}.jpg\"\n",
    "    image = Image.open(image_path)\n",
    "    if image.mode != \"RGB\":\n",
    "        image = image.convert(\"L\")\n",
    "        image = Image.merge(\"RGB\", [image] * 3)\n",
    "\n",
    "    image = transform(image)\n",
    "    return image\n",
    "\n",
    "\n",
    "ids = []\n",
    "# captions = []\n",
    "images = []\n",
    "vectors = {}\n",
    "BATCH_SIZE = 32\n",
    "cnt = 0"
   ]
  },
  {
   "cell_type": "code",
   "execution_count": 19,
   "metadata": {},
   "outputs": [
    {
     "name": "stdout",
     "output_type": "stream",
     "text": [
      "99.83673957825816 %%"
     ]
    }
   ],
   "source": [
    "# vectors = []\n",
    "for i in range(0, len(targets), BATCH_SIZE):\n",
    "    if i % 100 == 0:\n",
    "        print(f\"\\r{i * 100 / len(targets)} %\", end='')\n",
    "    s = i\n",
    "    e = min(i + BATCH_SIZE, len(targets))\n",
    "\n",
    "    images = torch.stack(list(map(to_image, targets[s:e]))).to(torch.device(\"cuda\"))\n",
    "    pred = infer(images)\n",
    "    pred_ids = targets[s:e]\n",
    "    for id, vector in zip(targets[s:e], pred):\n",
    "        vectors[id] = vector.to(\"cpu\").tolist()\n"
   ]
  },
  {
   "cell_type": "code",
   "execution_count": 20,
   "metadata": {},
   "outputs": [],
   "source": [
    "with open(f\"C:/Users/yuuta/Documents/fashion/experiments/data/id_to_vector_compatibility.json\", \"w\") as f:\n",
    "    json.dump(vectors, f)"
   ]
  }
 ],
 "metadata": {
  "kernelspec": {
   "display_name": "fashion",
   "language": "python",
   "name": "python3"
  },
  "language_info": {
   "codemirror_mode": {
    "name": "ipython",
    "version": 3
   },
   "file_extension": ".py",
   "mimetype": "text/x-python",
   "name": "python",
   "nbconvert_exporter": "python",
   "pygments_lexer": "ipython3",
   "version": "3.11.5"
  }
 },
 "nbformat": 4,
 "nbformat_minor": 2
}
