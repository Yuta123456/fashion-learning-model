{
 "cells": [
  {
   "cell_type": "code",
   "execution_count": null,
   "metadata": {},
   "outputs": [],
   "source": [
    "import sys\n",
    "import os\n",
    "import torch\n",
    "sys.path.append(\"C:/Users/yuuta/Documents/fashion\")\n",
    "from utils.util import  open_json\n",
    "from utils.util import is_target_category\n",
    "\n",
    "import json\n",
    "import glob\n",
    "import random\n",
    "\n",
    "from utils.util import get_category\n",
    "from utils.util import calc_compatibility_score\n",
    "from utils.util import get_progress_percent\n",
    "import tomotopy as tp\n",
    "from itertools import chain\n"
   ]
  },
  {
   "cell_type": "code",
   "execution_count": null,
   "metadata": {},
   "outputs": [],
   "source": [
    "import importlib\n",
    "import utils\n",
    "importlib.reload(utils.util)\n",
    "from utils.util import calc_cw_score\n",
    "from utils.util import scale_versatility, scale_compatibility\n",
    "from utils.infer import topic_model_infer"
   ]
  },
  {
   "cell_type": "code",
   "execution_count": null,
   "metadata": {},
   "outputs": [],
   "source": [
    "if torch.cuda.is_available():\n",
    "    device = torch.device(\"cuda\")  # GPUデバイスを取得\n",
    "else:\n",
    "    device = torch.device(\"cpu\")  # CPUデバイスを取得"
   ]
  },
  {
   "cell_type": "code",
   "execution_count": null,
   "metadata": {},
   "outputs": [],
   "source": [
    "filepaths = glob.glob(\n",
    "    f\"C:/Users/yuuta/Documents/fashion/data/test/**/*.json\"\n",
    ")"
   ]
  },
  {
   "cell_type": "code",
   "execution_count": null,
   "metadata": {},
   "outputs": [],
   "source": [
    "id_to_vector_compatibility = open_json('C:/Users/yuuta/Documents/fashion/experiments/data/id_to_vector_compatibility.json')"
   ]
  },
  {
   "cell_type": "code",
   "execution_count": null,
   "metadata": {},
   "outputs": [],
   "source": [
    "items = {\"tops\": [], \"bottoms\": [], \"shoes\": []}\n",
    "for fp in filepaths:\n",
    "    json_dict = open_json(fp)\n",
    "    if json_dict == None:\n",
    "        continue\n",
    "    for item in list(filter(is_target_category, json_dict[\"items\"])):\n",
    "        category = get_category(item)\n",
    "        if category == None:\n",
    "            continue\n",
    "        items[category].append(str(item['itemId']))"
   ]
  },
  {
   "cell_type": "code",
   "execution_count": null,
   "metadata": {},
   "outputs": [],
   "source": [
    "categories = ['tops', 'bottoms', 'shoes']\n",
    "# 枚数\n",
    "T = 3"
   ]
  },
  {
   "cell_type": "code",
   "execution_count": null,
   "metadata": {},
   "outputs": [],
   "source": [
    "mdl = tp.LDAModel.load(\n",
    "    \"C:/Users/yuuta/Documents/fashion/model_learning/topic_model/models/lda.bin\"\n",
    ")\n",
    "with open(\n",
    "    \"C:/Users/yuuta/Documents/fashion/data/attributes_test.json\",\n",
    "    encoding=\"shift-jis\"\n",
    ") as f:\n",
    "    to_attributes = json.load(f)"
   ]
  },
  {
   "cell_type": "code",
   "execution_count": null,
   "metadata": {},
   "outputs": [],
   "source": [
    "# (cw, proposal_score, topic_model_score)の配列\n",
    "com_score = []\n",
    "dataset = {\n",
    "    'tops':items[\"tops\"],\n",
    "    'bottoms':items[\"bottoms\"],\n",
    "    'shoes':items[\"shoes\"],\n",
    "}\n",
    "N = 100000\n",
    "for i in range(N):\n",
    "    if i % 100 == 0:\n",
    "        print(get_progress_percent(i, N), end='')\n",
    "    \n",
    "    cw = {\n",
    "        'tops':[random.choice(dataset['tops'])],\n",
    "        'bottoms':[random.choice(dataset['bottoms'])],\n",
    "        'shoes':[random.choice(dataset['shoes'])],\n",
    "    }\n",
    "    pc = calc_compatibility_score(cw, id_to_vector_compatibility)\n",
    "    attributes = []\n",
    "    for itemId in list(chain(*list(cw.values()))):\n",
    "        attr = to_attributes[itemId]\n",
    "        attributes += attr\n",
    "    tc = topic_model_infer(mdl, attributes)\n",
    "    com_score.append((cw, pc, tc))"
   ]
  },
  {
   "cell_type": "code",
   "execution_count": null,
   "metadata": {},
   "outputs": [],
   "source": [
    "proposed_ranking = sorted(com_score, key=lambda x: x[1], reverse=True)\n",
    "topic_model_ranking = sorted(com_score, key=lambda x: x[2], reverse=True)"
   ]
  }
 ],
 "metadata": {
  "language_info": {
   "name": "python"
  }
 },
 "nbformat": 4,
 "nbformat_minor": 2
}
