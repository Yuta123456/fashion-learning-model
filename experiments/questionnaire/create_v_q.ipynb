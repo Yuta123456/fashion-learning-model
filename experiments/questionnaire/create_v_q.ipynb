{
 "cells": [
  {
   "cell_type": "code",
   "execution_count": 36,
   "metadata": {},
   "outputs": [],
   "source": [
    "import sys\n",
    "import os\n",
    "import torch\n",
    "sys.path.append(\"C:/Users/yuuta/Documents/fashion\")\n",
    "from utils.util import open_json\n",
    "from utils.util import is_target_category\n",
    "import glob\n",
    "import random\n",
    "from PIL import Image\n",
    "from utils.util import get_category\n"
   ]
  },
  {
   "cell_type": "code",
   "execution_count": 71,
   "metadata": {},
   "outputs": [
    {
     "data": {
      "text/plain": [
       "<module 'utils.versatility' from 'C:\\\\Users/yuuta/Documents/fashion\\\\utils\\\\versatility.py'>"
      ]
     },
     "execution_count": 71,
     "metadata": {},
     "output_type": "execute_result"
    }
   ],
   "source": [
    "import importlib\n",
    "import utils\n",
    "importlib.reload(utils.util)\n",
    "importlib.reload(utils.versatility)"
   ]
  },
  {
   "cell_type": "code",
   "execution_count": 4,
   "metadata": {},
   "outputs": [],
   "source": [
    "if torch.cuda.is_available():\n",
    "    device = torch.device(\"cuda\")  # GPUデバイスを取得\n",
    "else:\n",
    "    device = torch.device(\"cpu\")  # CPUデバイスを取得"
   ]
  },
  {
   "cell_type": "code",
   "execution_count": 5,
   "metadata": {},
   "outputs": [],
   "source": [
    "filepaths = glob.glob(\n",
    "    f\"C:/Users/yuuta/Documents/fashion/data/test/**/*.json\"\n",
    ")"
   ]
  },
  {
   "cell_type": "code",
   "execution_count": 60,
   "metadata": {},
   "outputs": [],
   "source": [
    "id_to_vector_versatility = open_json('C:/Users/yuuta/Documents/fashion/experiments/data/id_to_vector_versatility.json')"
   ]
  },
  {
   "cell_type": "code",
   "execution_count": 61,
   "metadata": {},
   "outputs": [],
   "source": [
    "items = {\"tops\": [], \"bottoms\": [], \"shoes\": []}\n",
    "for fp in filepaths:\n",
    "    json_dict = open_json(fp)\n",
    "    if json_dict == None:\n",
    "        continue\n",
    "    for item in list(filter(is_target_category, json_dict[\"items\"])):\n",
    "        category = get_category(item)\n",
    "        if category == None:\n",
    "            continue\n",
    "        items[category].append(str(item['itemId']))"
   ]
  },
  {
   "cell_type": "code",
   "execution_count": 62,
   "metadata": {},
   "outputs": [],
   "source": [
    "categories = ['tops', 'bottoms', 'shoes']\n",
    "# 枚数\n",
    "T = 3"
   ]
  },
  {
   "cell_type": "code",
   "execution_count": 78,
   "metadata": {},
   "outputs": [],
   "source": [
    "from utils.save_image import save_combined_image\n",
    "from utils.versatility import calc_increase_v\n",
    "dataset = {\n",
    "    'tops':items[\"tops\"],\n",
    "    'bottoms':items[\"bottoms\"],\n",
    "    'shoes':items[\"shoes\"],\n",
    "}\n",
    "N = 3\n",
    "\n",
    "TEST_KIND = 'ver'\n",
    "for cat in categories:\n",
    "    dir_path = f'C:/Users/yuuta/Documents/fashion/experiments/questionnaire/images/versatility/{TEST_KIND}/{cat}/'\n",
    "    if not os.path.exists(dir_path):\n",
    "        os.makedirs(dir_path)\n",
    "    for i in range(N):\n",
    "        ver_score = []\n",
    "        dir_path = f'C:/Users/yuuta/Documents/fashion/experiments/questionnaire/images/versatility/{TEST_KIND}/{cat}/test{i+1}'\n",
    "        if not os.path.exists(dir_path):\n",
    "            os.makedirs(dir_path)\n",
    "        anchor = random.choice(dataset[cat])\n",
    "        anchor_v = id_to_vector_versatility[anchor]\n",
    "        anchor_cover_clusters = calc_increase_v(torch.tensor(anchor_v))\n",
    "        anchor_img = Image.open(f\"C:/Users/yuuta/Documents/fashion/data/images/{anchor}.jpg\")\n",
    "        anchor_img.save(f'C:/Users/yuuta/Documents/fashion/experiments/questionnaire/images/versatility/{TEST_KIND}/{cat}/test{i+1}/anchor.png')\n",
    "        for item in dataset[cat]:\n",
    "            v = id_to_vector_versatility[item]\n",
    "            cover_clusters = calc_increase_v(torch.tensor(v))\n",
    "            # d = torch.norm(torch.tensor(v) - torch.tensor(anchor_v), p=2)\n",
    "            d = len(anchor_cover_clusters & cover_clusters)\n",
    "            score = d\n",
    "            ver_score.append((item, score))\n",
    "        ranking = sorted(ver_score, key=lambda x: x[1], reverse=True)\n",
    "        divs = [0, len(dataset[cat]) // 4, len(dataset[cat]) // 2, (len(dataset[cat]) * 3) // 4]\n",
    "        for div, name in zip(divs, ['0%', '25%', '50%', '75%']):\n",
    "            for rank in range(div, div + 10, 1):\n",
    "                item = ranking[rank][0]\n",
    "                item_img = Image.open(f\"C:/Users/yuuta/Documents/fashion/data/images/{item}.jpg\")\n",
    "                dir_path = f'C:/Users/yuuta/Documents/fashion/experiments/questionnaire/images/versatility/{TEST_KIND}/{cat}/test{i+1}/{name}/'\n",
    "                if not os.path.exists(dir_path):\n",
    "                    os.makedirs(dir_path)\n",
    "                item_img.save(f'C:/Users/yuuta/Documents/fashion/experiments/questionnaire/images/versatility/{TEST_KIND}/{cat}/test{i+1}/{name}/{rank}.png')"
   ]
  },
  {
   "cell_type": "code",
   "execution_count": null,
   "metadata": {},
   "outputs": [],
   "source": [
    "# ranking = sorted(ver_score, key=lambda x: x[1])\n",
    "# item_ids = list(map(lambda x: x[0], ranking[:30]))\n",
    "# item_ids[0] = anchor\n",
    "# save_combined_image(item_ids, f'C:/Users/yuuta/Documents/fashion/experiments/questionnaire/images/versatility/sample_ver_{cat}.png', W=10)\n",
    "        "
   ]
  },
  {
   "cell_type": "code",
   "execution_count": 73,
   "metadata": {},
   "outputs": [],
   "source": [
    "ranking = sorted(ver_score, key=lambda x: x[1], reverse=True)"
   ]
  },
  {
   "cell_type": "code",
   "execution_count": 75,
   "metadata": {},
   "outputs": [
    {
     "data": {
      "text/plain": [
       "[('14543191', 389),\n",
       " ('40117067', 388),\n",
       " ('32179679', 386),\n",
       " ('16180526', 385),\n",
       " ('31286538', 385),\n",
       " ('38402518', 384),\n",
       " ('33392977', 383),\n",
       " ('41863393', 382),\n",
       " ('36276221', 380),\n",
       " ('12757608', 379),\n",
       " ('38383315', 376),\n",
       " ('12874847', 375),\n",
       " ('41706382', 374),\n",
       " ('42518355', 372),\n",
       " ('31401974', 371),\n",
       " ('31401974', 371),\n",
       " ('37658874', 369),\n",
       " ('41790650', 368),\n",
       " ('41790650', 368),\n",
       " ('16908952', 361)]"
      ]
     },
     "execution_count": 75,
     "metadata": {},
     "output_type": "execute_result"
    }
   ],
   "source": [
    "ranking[-20:]"
   ]
  }
 ],
 "metadata": {
  "kernelspec": {
   "display_name": "fashion",
   "language": "python",
   "name": "python3"
  },
  "language_info": {
   "codemirror_mode": {
    "name": "ipython",
    "version": 3
   },
   "file_extension": ".py",
   "mimetype": "text/x-python",
   "name": "python",
   "nbconvert_exporter": "python",
   "pygments_lexer": "ipython3",
   "version": "3.11.5"
  }
 },
 "nbformat": 4,
 "nbformat_minor": 2
}
