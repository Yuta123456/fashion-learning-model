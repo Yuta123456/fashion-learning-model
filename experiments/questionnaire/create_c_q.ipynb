{
 "cells": [
  {
   "cell_type": "code",
   "execution_count": 2,
   "metadata": {},
   "outputs": [],
   "source": [
    "import sys\n",
    "import os\n",
    "import torch\n",
    "sys.path.append(\"C:/Users/yuuta/Documents/fashion\")\n",
    "from utils.util import  open_json\n",
    "from utils.util import is_target_category\n",
    "\n",
    "import json\n",
    "import glob\n",
    "import random\n",
    "\n",
    "from utils.util import get_category\n",
    "from utils.util import calc_compatibility_score\n",
    "from utils.util import get_progress_percent\n",
    "import tomotopy as tp\n",
    "from itertools import chain\n"
   ]
  },
  {
   "cell_type": "code",
   "execution_count": 3,
   "metadata": {},
   "outputs": [],
   "source": [
    "import importlib\n",
    "import utils\n",
    "importlib.reload(utils.util)\n",
    "from utils.util import calc_cw_score\n",
    "from utils.util import scale_versatility, scale_compatibility\n",
    "from utils.infer import topic_model_infer"
   ]
  },
  {
   "cell_type": "code",
   "execution_count": 4,
   "metadata": {},
   "outputs": [],
   "source": [
    "if torch.cuda.is_available():\n",
    "    device = torch.device(\"cuda\")  # GPUデバイスを取得\n",
    "else:\n",
    "    device = torch.device(\"cpu\")  # CPUデバイスを取得"
   ]
  },
  {
   "cell_type": "code",
   "execution_count": 5,
   "metadata": {},
   "outputs": [],
   "source": [
    "filepaths = glob.glob(\n",
    "    f\"C:/Users/yuuta/Documents/fashion/data/test/**/*.json\"\n",
    ")"
   ]
  },
  {
   "cell_type": "code",
   "execution_count": 6,
   "metadata": {},
   "outputs": [],
   "source": [
    "id_to_vector_compatibility = open_json('C:/Users/yuuta/Documents/fashion/experiments/data/id_to_vector_compatibility.json')"
   ]
  },
  {
   "cell_type": "code",
   "execution_count": 7,
   "metadata": {},
   "outputs": [],
   "source": [
    "items = {\"tops\": [], \"bottoms\": [], \"shoes\": []}\n",
    "for fp in filepaths:\n",
    "    json_dict = open_json(fp)\n",
    "    if json_dict == None:\n",
    "        continue\n",
    "    for item in list(filter(is_target_category, json_dict[\"items\"])):\n",
    "        category = get_category(item)\n",
    "        if category == None:\n",
    "            continue\n",
    "        items[category].append(str(item['itemId']))"
   ]
  },
  {
   "cell_type": "code",
   "execution_count": 8,
   "metadata": {},
   "outputs": [],
   "source": [
    "categories = ['tops', 'bottoms', 'shoes']\n",
    "# 枚数\n",
    "T = 3"
   ]
  },
  {
   "cell_type": "code",
   "execution_count": 9,
   "metadata": {},
   "outputs": [],
   "source": [
    "mdl = tp.LDAModel.load(\n",
    "    \"C:/Users/yuuta/Documents/fashion/model_learning/topic_model/models/lda.bin\"\n",
    ")\n",
    "with open(\n",
    "    \"C:/Users/yuuta/Documents/fashion/data/attributes_test.json\",\n",
    "    encoding=\"shift-jis\"\n",
    ") as f:\n",
    "    to_attributes = json.load(f)"
   ]
  },
  {
   "cell_type": "code",
   "execution_count": 10,
   "metadata": {},
   "outputs": [
    {
     "name": "stdout",
     "output_type": "stream",
     "text": [
      "【******************* 】"
     ]
    }
   ],
   "source": [
    "# (cw, proposal_score, topic_model_score)の配列\n",
    "com_score = []\n",
    "dataset = {\n",
    "    'tops':items[\"tops\"],\n",
    "    'bottoms':items[\"bottoms\"],\n",
    "    'shoes':items[\"shoes\"],\n",
    "}\n",
    "N = 100000\n",
    "for i in range(N):\n",
    "    if i % 100 == 0:\n",
    "        print(get_progress_percent(i, N), end='')\n",
    "    \n",
    "    cw = {\n",
    "        'tops':[random.choice(dataset['tops'])],\n",
    "        'bottoms':[random.choice(dataset['bottoms'])],\n",
    "        'shoes':[random.choice(dataset['shoes'])],\n",
    "    }\n",
    "    pc = calc_compatibility_score(cw, id_to_vector_compatibility)\n",
    "    attributes = []\n",
    "    for itemId in list(chain(*list(cw.values()))):\n",
    "        attr = to_attributes[itemId]\n",
    "        attributes += attr\n",
    "    tc = topic_model_infer(mdl, attributes)\n",
    "    com_score.append((cw, pc, tc))"
   ]
  },
  {
   "cell_type": "code",
   "execution_count": 11,
   "metadata": {},
   "outputs": [],
   "source": [
    "proposed_ranking = sorted(com_score, key=lambda x: x[1], reverse=True)\n",
    "topic_model_ranking = sorted(com_score, key=lambda x: x[2], reverse=True)"
   ]
  },
  {
   "cell_type": "code",
   "execution_count": 12,
   "metadata": {},
   "outputs": [
    {
     "data": {
      "text/plain": [
       "(({'tops': ['39821188'], 'bottoms': ['19968934'], 'shoes': ['29921333']},\n",
       "  0.01596080814986102,\n",
       "  -41.20652770996094),\n",
       " ({'tops': ['9312811'], 'bottoms': ['9465634'], 'shoes': ['38787338']},\n",
       "  0.0015566368700805824,\n",
       "  -46.337181091308594))"
      ]
     },
     "execution_count": 12,
     "metadata": {},
     "output_type": "execute_result"
    }
   ],
   "source": [
    "proposed_ranking[0], proposed_ranking[-1]"
   ]
  },
  {
   "cell_type": "code",
   "execution_count": 14,
   "metadata": {},
   "outputs": [],
   "source": [
    "import importlib\n",
    "import utils\n",
    "# importlib.reload(utils.save_image)\n",
    "\n",
    "from utils.save_image import save_combined_image\n"
   ]
  },
  {
   "cell_type": "code",
   "execution_count": 15,
   "metadata": {},
   "outputs": [],
   "source": [
    "def save_image(ranking, rank, path):\n",
    "    item_ids = list(chain(*list(ranking[rank][0].values())))\n",
    "    img = save_combined_image(item_ids, f'C:/Users/yuuta/Documents/fashion/experiments/questionnaire/images/compatibility/{path}', W=1)\n",
    "    return img"
   ]
  },
  {
   "cell_type": "code",
   "execution_count": 17,
   "metadata": {},
   "outputs": [
    {
     "name": "stdout",
     "output_type": "stream",
     "text": [
      "1 3 size: (150, 450)\n",
      "1 3 size: (150, 450)\n",
      "1 3 size: (150, 450)\n",
      "1 3 size: (150, 450)\n",
      "1 3 size: (150, 450)\n",
      "1 3 size: (150, 450)\n",
      "1 3 size: (150, 450)\n",
      "1 3 size: (150, 450)\n",
      "1 3 size: (150, 450)\n",
      "1 3 size: (150, 450)\n",
      "1 3 size: (150, 450)\n",
      "1 3 size: (150, 450)\n",
      "1 3 size: (150, 450)\n",
      "1 3 size: (150, 450)\n",
      "1 3 size: (150, 450)\n",
      "1 3 size: (150, 450)\n",
      "1 3 size: (150, 450)\n",
      "1 3 size: (150, 450)\n",
      "1 3 size: (150, 450)\n",
      "1 3 size: (150, 450)\n",
      "1 3 size: (150, 450)\n",
      "1 3 size: (150, 450)\n",
      "1 3 size: (150, 450)\n",
      "1 3 size: (150, 450)\n",
      "1 3 size: (150, 450)\n",
      "1 3 size: (150, 450)\n",
      "1 3 size: (150, 450)\n",
      "1 3 size: (150, 450)\n",
      "1 3 size: (150, 450)\n",
      "1 3 size: (150, 450)\n",
      "1 3 size: (150, 450)\n",
      "1 3 size: (150, 450)\n",
      "1 3 size: (150, 450)\n",
      "1 3 size: (150, 450)\n",
      "1 3 size: (150, 450)\n",
      "1 3 size: (150, 450)\n",
      "1 3 size: (150, 450)\n",
      "1 3 size: (150, 450)\n",
      "1 3 size: (150, 450)\n",
      "1 3 size: (150, 450)\n"
     ]
    }
   ],
   "source": [
    "for rank in range(1, N, 5000):\n",
    "    save_image(proposed_ranking, rank, f'proposed/{rank}.png')\n",
    "    save_image(topic_model_ranking, rank, f'lda/{rank}.png')"
   ]
  }
 ],
 "metadata": {
  "kernelspec": {
   "display_name": "fashion",
   "language": "python",
   "name": "python3"
  },
  "language_info": {
   "codemirror_mode": {
    "name": "ipython",
    "version": 3
   },
   "file_extension": ".py",
   "mimetype": "text/x-python",
   "name": "python",
   "nbconvert_exporter": "python",
   "pygments_lexer": "ipython3",
   "version": "3.11.5"
  }
 },
 "nbformat": 4,
 "nbformat_minor": 2
}
