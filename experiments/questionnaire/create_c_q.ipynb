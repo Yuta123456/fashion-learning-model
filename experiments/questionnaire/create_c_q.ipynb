{
 "cells": [
  {
   "cell_type": "code",
   "execution_count": null,
   "metadata": {},
   "outputs": [],
   "source": [
    "import sys\n",
    "import os\n",
    "import torch\n",
    "sys.path.append(\"C:/Users/yuuta/Documents/fashion\")\n",
    "from utils.util import filter_basic_items, open_json\n",
    "from utils.util import is_target_category\n",
    "from utils.util import calculate_euclid_sum\n",
    "from utils.infer import id_to_vector\n",
    "from utils.util import calc_roc_auc\n",
    "from utils.util import calc_cw_score\n",
    "from utils.util import scale_versability, scale_compatibility\n",
    "import json\n",
    "import glob\n",
    "import random\n",
    "import pandas as pd\n",
    "from utils.util import get_category\n",
    "from utils.util import calc_compatibility_score\n",
    "from utils.util import get_progress_percent"
   ]
  },
  {
   "cell_type": "code",
   "execution_count": null,
   "metadata": {},
   "outputs": [],
   "source": [
    "import importlib\n",
    "import utils\n",
    "importlib.reload(utils.util)\n",
    "from utils.util import calc_cw_score\n",
    "from utils.util import scale_versability, scale_compatibility"
   ]
  },
  {
   "cell_type": "code",
   "execution_count": null,
   "metadata": {},
   "outputs": [],
   "source": [
    "if torch.cuda.is_available():\n",
    "    device = torch.device(\"cuda\")  # GPUデバイスを取得\n",
    "else:\n",
    "    device = torch.device(\"cpu\")  # CPUデバイスを取得"
   ]
  },
  {
   "cell_type": "code",
   "execution_count": null,
   "metadata": {},
   "outputs": [],
   "source": [
    "filepaths = glob.glob(\n",
    "    f\"C:/Users/yuuta/Documents/fashion/data/test/**/*.json\"\n",
    ")"
   ]
  },
  {
   "cell_type": "code",
   "execution_count": null,
   "metadata": {},
   "outputs": [],
   "source": [
    "id_to_vector_compatibility = open_json('C:/Users/yuuta/Documents/fashion/experiments/data/id_to_vector_compatibility.json')"
   ]
  },
  {
   "cell_type": "code",
   "execution_count": null,
   "metadata": {},
   "outputs": [],
   "source": [
    "items = {\"tops\": [], \"bottoms\": [], \"shoes\": []}\n",
    "for fp in filepaths:\n",
    "    json_dict = open_json(fp)\n",
    "    if json_dict == None:\n",
    "        continue\n",
    "    for item in list(map(is_target_category, json_dict[\"items\"])):\n",
    "        category = get_category(item)\n",
    "        if category == None:\n",
    "            continue\n",
    "        items[category].append(str(item['itemId']))"
   ]
  },
  {
   "cell_type": "code",
   "execution_count": null,
   "metadata": {},
   "outputs": [],
   "source": [
    "categories = ['tops', 'bottoms', 'shoes']\n",
    "# 枚数\n",
    "T = 3"
   ]
  },
  {
   "cell_type": "code",
   "execution_count": null,
   "metadata": {},
   "outputs": [],
   "source": [
    "# (cw, proposal_score, topic_model_score)の配列\n",
    "com_score = []\n",
    "\n",
    "N = 50000\n",
    "for i in range(N):\n",
    "    if i % 100 == 0:\n",
    "        print(get_progress_percent(i, N), end='')\n",
    "    dataset = {\n",
    "        'tops':random.sample(items[\"tops\"], 1000),\n",
    "        'bottoms':random.sample(items[\"bottoms\"], 1000),\n",
    "        'shoes':random.sample(items[\"shoes\"], 1000),\n",
    "    }\n",
    "\n",
    "    # cwの初期化\n",
    "    cw = {\n",
    "        'tops':random.sample(dataset[\"tops\"], T),\n",
    "        'bottoms':random.sample(dataset[\"bottoms\"], T),\n",
    "        'shoes':random.sample(dataset[\"shoes\"], T),\n",
    "    }\n",
    "                    \n",
    "    c = calc_compatibility_score(cw, id_to_vector_compatibility)\n",
    "    # print('======')\n",
    "    # print(c, v)\n",
    "    # c, v = scale_compatibility(v), scale_versability(v)\n",
    "    # print(c, v)\n",
    "    # print('======')\n",
    "    com_score.append(c)"
   ]
  }
 ],
 "metadata": {
  "language_info": {
   "name": "python"
  }
 },
 "nbformat": 4,
 "nbformat_minor": 2
}
