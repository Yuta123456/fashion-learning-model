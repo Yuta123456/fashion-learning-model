{
 "cells": [
  {
   "cell_type": "code",
   "execution_count": 6,
   "metadata": {},
   "outputs": [],
   "source": [
    "# 最適化の近似がどの程度できているのか？"
   ]
  },
  {
   "cell_type": "code",
   "execution_count": 7,
   "metadata": {},
   "outputs": [],
   "source": [
    "import sys\n",
    "import os\n",
    "import glob\n",
    "import random\n",
    "import torch\n",
    "sys.path.append(\"C:/Users/yuuta/Documents/fashion\")\n",
    "from utils.util import  open_json\n",
    "import copy\n",
    "from utils.util import calc_increase_c\n",
    "from utils.versatility import calc_increase_v\n",
    "from utils.util import calc_cw_score\n",
    "from itertools import combinations"
   ]
  },
  {
   "cell_type": "code",
   "execution_count": 8,
   "metadata": {},
   "outputs": [],
   "source": [
    "filepaths = glob.glob(\n",
    "    f\"C:/Users/yuuta/Documents/fashion/data/test/**/*.json\"\n",
    ")"
   ]
  },
  {
   "cell_type": "code",
   "execution_count": 9,
   "metadata": {},
   "outputs": [],
   "source": [
    "ver = open_json('C:/Users/yuuta/Documents/fashion/experiments/data/id_to_vector_versatility.json')\n",
    "com = open_json('C:/Users/yuuta/Documents/fashion/experiments/data/id_to_vector_compatibility.json')"
   ]
  },
  {
   "cell_type": "code",
   "execution_count": 10,
   "metadata": {},
   "outputs": [],
   "source": [
    "from utils.util import filter_basic_items, get_category\n",
    "\n",
    "items = {\"tops\": [], \"bottoms\": [], \"shoes\": []}\n",
    "for fp in filepaths:\n",
    "    json_dict = open_json(fp)\n",
    "    if json_dict == None:\n",
    "        continue\n",
    "    for item in filter_basic_items(json_dict[\"items\"]):\n",
    "        category = get_category(item)\n",
    "        if category == None:\n",
    "            continue\n",
    "        items[category].append(str(item['itemId']))"
   ]
  },
  {
   "cell_type": "code",
   "execution_count": 11,
   "metadata": {},
   "outputs": [],
   "source": [
    "categories = ['tops', 'bottoms', 'shoes']\n",
    "# 枚数\n",
    "T = 3"
   ]
  },
  {
   "cell_type": "code",
   "execution_count": 14,
   "metadata": {},
   "outputs": [],
   "source": [
    "import importlib\n",
    "import utils\n",
    "importlib.reload(utils.util)\n",
    "from utils.util import calc_cw_score\n",
    "from utils.util import calc_increase_c\n",
    "from utils.util import optimize_cw, scale_compatibility, scale_versatility"
   ]
  },
  {
   "cell_type": "code",
   "execution_count": 24,
   "metadata": {},
   "outputs": [
    {
     "name": "stdout",
     "output_type": "stream",
     "text": [
      "0 fin submoduler 1.9481572229480002 0\n",
      "【*                   】"
     ]
    },
    {
     "ename": "KeyboardInterrupt",
     "evalue": "",
     "output_type": "error",
     "traceback": [
      "\u001b[1;31m---------------------------------------------------------------------------\u001b[0m",
      "\u001b[1;31mKeyboardInterrupt\u001b[0m                         Traceback (most recent call last)",
      "Cell \u001b[1;32mIn[24], line 39\u001b[0m\n\u001b[0;32m     33\u001b[0m \u001b[38;5;28mprint\u001b[39m(get_progress_percent(i, \u001b[38;5;28mint\u001b[39m(size)), end\u001b[38;5;241m=\u001b[39m\u001b[38;5;124m'\u001b[39m\u001b[38;5;124m'\u001b[39m)\n\u001b[0;32m     34\u001b[0m cw \u001b[38;5;241m=\u001b[39m {\n\u001b[0;32m     35\u001b[0m     \u001b[38;5;124m'\u001b[39m\u001b[38;5;124mtops\u001b[39m\u001b[38;5;124m'\u001b[39m: tops,\n\u001b[0;32m     36\u001b[0m     \u001b[38;5;124m'\u001b[39m\u001b[38;5;124mbottoms\u001b[39m\u001b[38;5;124m'\u001b[39m: bottoms,\n\u001b[0;32m     37\u001b[0m     \u001b[38;5;124m'\u001b[39m\u001b[38;5;124mshoes\u001b[39m\u001b[38;5;124m'\u001b[39m: shoes\n\u001b[0;32m     38\u001b[0m }\n\u001b[1;32m---> 39\u001b[0m c, v \u001b[38;5;241m=\u001b[39m \u001b[43mcalc_cw_score\u001b[49m\u001b[43m(\u001b[49m\u001b[43mcw\u001b[49m\u001b[43m,\u001b[49m\u001b[43m \u001b[49m\u001b[43mcom\u001b[49m\u001b[43m,\u001b[49m\u001b[43m \u001b[49m\u001b[43mver\u001b[49m\u001b[43m)\u001b[49m\n\u001b[0;32m     40\u001b[0m c, v \u001b[38;5;241m=\u001b[39m scale_compatibility(c), scale_versatility(v)\n\u001b[0;32m     41\u001b[0m greedy_score \u001b[38;5;241m=\u001b[39m \u001b[38;5;28mmax\u001b[39m(greedy_score, c \u001b[38;5;241m+\u001b[39m v)\n",
      "File \u001b[1;32mC:\\Users/yuuta/Documents/fashion\\utils\\util.py:246\u001b[0m, in \u001b[0;36mcalc_cw_score\u001b[1;34m(cw, com, ver)\u001b[0m\n\u001b[0;32m    242\u001b[0m     \u001b[38;5;28;01mfor\u001b[39;00m cat \u001b[38;5;129;01min\u001b[39;00m categories:\n\u001b[0;32m    243\u001b[0m         \u001b[38;5;66;03m# print(cw[cat])\u001b[39;00m\n\u001b[0;32m    244\u001b[0m         \u001b[38;5;66;03m# categoryのアイテム集合\u001b[39;00m\n\u001b[0;32m    245\u001b[0m         vectors \u001b[38;5;241m=\u001b[39m [torch\u001b[38;5;241m.\u001b[39mtensor(ver[itemId]) \u001b[38;5;28;01mfor\u001b[39;00m itemId \u001b[38;5;129;01min\u001b[39;00m cw[cat]]\n\u001b[1;32m--> 246\u001b[0m         ver_score \u001b[38;5;241m+\u001b[39m\u001b[38;5;241m=\u001b[39m \u001b[38;5;28mlen\u001b[39m(\u001b[43mcalc_versatility\u001b[49m\u001b[43m(\u001b[49m\u001b[43mvectors\u001b[49m\u001b[43m)\u001b[49m)\n\u001b[0;32m    248\u001b[0m \u001b[38;5;28;01mif\u001b[39;00m com \u001b[38;5;241m!=\u001b[39m \u001b[38;5;28;01mNone\u001b[39;00m:\n\u001b[0;32m    249\u001b[0m     \u001b[38;5;66;03m# compatibilityの計算\u001b[39;00m\n\u001b[0;32m    250\u001b[0m     coordinates \u001b[38;5;241m=\u001b[39m \u001b[38;5;28mlist\u001b[39m(product(\u001b[38;5;241m*\u001b[39m[cw[c] \u001b[38;5;28;01mfor\u001b[39;00m c \u001b[38;5;129;01min\u001b[39;00m categories]))\n",
      "File \u001b[1;32mC:\\Users/yuuta/Documents/fashion\\utils\\versatility.py:12\u001b[0m, in \u001b[0;36mcalc_versatility\u001b[1;34m(vectors)\u001b[0m\n\u001b[0;32m     10\u001b[0m covered_centroid_ids \u001b[38;5;241m=\u001b[39m \u001b[38;5;28mset\u001b[39m()\n\u001b[0;32m     11\u001b[0m \u001b[38;5;28;01mfor\u001b[39;00m v \u001b[38;5;129;01min\u001b[39;00m vectors:\n\u001b[1;32m---> 12\u001b[0m     distances \u001b[38;5;241m=\u001b[39m torch\u001b[38;5;241m.\u001b[39mnorm(\u001b[43mv\u001b[49m\u001b[43m \u001b[49m\u001b[38;5;241;43m-\u001b[39;49m\u001b[43m \u001b[49m\u001b[43mcentroids\u001b[49m, p\u001b[38;5;241m=\u001b[39m\u001b[38;5;241m2\u001b[39m, dim\u001b[38;5;241m=\u001b[39m\u001b[38;5;241m1\u001b[39m)\n\u001b[0;32m     13\u001b[0m     sorted_indices \u001b[38;5;241m=\u001b[39m torch\u001b[38;5;241m.\u001b[39margsort(distances)\n\u001b[0;32m     14\u001b[0m     k_min_indices \u001b[38;5;241m=\u001b[39m sorted_indices[:NEAREST_ITEM_LENGTH]\n",
      "File \u001b[1;32mc:\\Users\\yuuta\\anaconda3\\envs\\fashion\\Lib\\site-packages\\torch\\_tensor.py:1036\u001b[0m, in \u001b[0;36mTensor.__array_wrap__\u001b[1;34m(self, array)\u001b[0m\n\u001b[0;32m   1032\u001b[0m         \u001b[38;5;28;01mreturn\u001b[39;00m \u001b[38;5;28mself\u001b[39m\u001b[38;5;241m.\u001b[39mnumpy()\u001b[38;5;241m.\u001b[39mastype(dtype, copy\u001b[38;5;241m=\u001b[39m\u001b[38;5;28;01mFalse\u001b[39;00m)\n\u001b[0;32m   1034\u001b[0m \u001b[38;5;66;03m# Wrap Numpy array again in a suitable tensor when done, to support e.g.\u001b[39;00m\n\u001b[0;32m   1035\u001b[0m \u001b[38;5;66;03m# `numpy.sin(tensor) -> tensor` or `numpy.greater(tensor, 0) -> ByteTensor`\u001b[39;00m\n\u001b[1;32m-> 1036\u001b[0m \u001b[38;5;28;01mdef\u001b[39;00m \u001b[38;5;21m__array_wrap__\u001b[39m(\u001b[38;5;28mself\u001b[39m, array):\n\u001b[0;32m   1037\u001b[0m     \u001b[38;5;28;01mif\u001b[39;00m has_torch_function_unary(\u001b[38;5;28mself\u001b[39m):\n\u001b[0;32m   1038\u001b[0m         \u001b[38;5;28;01mreturn\u001b[39;00m handle_torch_function(\n\u001b[0;32m   1039\u001b[0m             Tensor\u001b[38;5;241m.\u001b[39m__array_wrap__, (\u001b[38;5;28mself\u001b[39m,), \u001b[38;5;28mself\u001b[39m, array\u001b[38;5;241m=\u001b[39marray\n\u001b[0;32m   1040\u001b[0m         )\n",
      "\u001b[1;31mKeyboardInterrupt\u001b[0m: "
     ]
    }
   ],
   "source": [
    "from utils.util import get_progress_percent\n",
    "\n",
    "for i in range(100):\n",
    "    dataset = {\n",
    "        'tops':random.sample(items[\"tops\"], 10),\n",
    "        'bottoms':random.sample(items[\"bottoms\"], 10),\n",
    "        'shoes':random.sample(items[\"shoes\"], 10),\n",
    "    }\n",
    "\n",
    "    # cwの初期化\n",
    "    cw = {\n",
    "        'tops':random.sample(dataset[\"tops\"], T),\n",
    "        'bottoms':random.sample(dataset[\"bottoms\"], T),\n",
    "        'shoes':random.sample(dataset[\"shoes\"], T),\n",
    "    }\n",
    "    cw = optimize_cw(\n",
    "        cw,\n",
    "        dataset,\n",
    "        com,\n",
    "        ver,\n",
    "    )\n",
    "    c, v = calc_cw_score(cw, com, ver)\n",
    "    c, v = scale_compatibility(c), scale_versatility(v)\n",
    "    submoduler = c + v\n",
    "    print(f'{i} fin submoduler', c, v)\n",
    "    greedy_score = 0\n",
    "    i = 0\n",
    "    size = pow(10, 3) * pow(9, 3) * pow(8, 3) / (pow(3, 3) * pow(2, 3)) \n",
    "    for tops in list(combinations(dataset['tops'], T)):\n",
    "        for bottoms in list(combinations(dataset['bottoms'], T)):\n",
    "            for shoes in list(combinations(dataset['shoes'], T)):\n",
    "                i += 1\n",
    "                print(get_progress_percent(i, int(size)), end='')\n",
    "                cw = {\n",
    "                    'tops': tops,\n",
    "                    'bottoms': bottoms,\n",
    "                    'shoes': shoes\n",
    "                }\n",
    "                c, v = calc_cw_score(cw, com, ver)\n",
    "                c, v = scale_compatibility(c), scale_versatility(v)\n",
    "                greedy_score = max(greedy_score, c + v)\n",
    "    print()\n",
    "    print('greedy score: ', greedy_score)\n",
    "    with open('C:/Users/yuuta/Documents/fashion/experiments/optimization/result/optim.txt', 'a') as f:\n",
    "        f.write(f'{submoduler} {greedy_score}\\n')"
   ]
  },
  {
   "cell_type": "code",
   "execution_count": null,
   "metadata": {},
   "outputs": [],
   "source": [
    "# compatibilityは、最小化しなきゃいけない値"
   ]
  }
 ],
 "metadata": {
  "kernelspec": {
   "display_name": "fashion",
   "language": "python",
   "name": "python3"
  },
  "language_info": {
   "codemirror_mode": {
    "name": "ipython",
    "version": 3
   },
   "file_extension": ".py",
   "mimetype": "text/x-python",
   "name": "python",
   "nbconvert_exporter": "python",
   "pygments_lexer": "ipython3",
   "version": "3.11.5"
  }
 },
 "nbformat": 4,
 "nbformat_minor": 2
}
