{
 "cells": [
  {
   "cell_type": "code",
   "execution_count": 13,
   "metadata": {},
   "outputs": [],
   "source": [
    "\n",
    "import sys\n",
    "import os\n",
    "import random\n",
    "import glob\n",
    "import torch\n",
    "import pandas as pd\n",
    "sys.path.append(\"C:/Users/yuuta/Documents/fashion\")\n",
    "from utils.util import filter_basic_items, open_json\n",
    "from utils.util import is_target_category\n",
    "from utils.util import calculate_euclid_sum\n",
    "# from utils.infer import id_to_vector\n",
    "from utils.util import calc_roc_auc\n",
    "import json\n",
    "import tomotopy as tp"
   ]
  },
  {
   "cell_type": "code",
   "execution_count": 14,
   "metadata": {},
   "outputs": [
    {
     "data": {
      "text/plain": [
       "<module 'utils.util' from 'C:\\\\Users/yuuta/Documents/fashion\\\\utils\\\\util.py'>"
      ]
     },
     "execution_count": 14,
     "metadata": {},
     "output_type": "execute_result"
    }
   ],
   "source": [
    "import importlib\n",
    "import utils\n",
    "importlib.reload(utils.util)"
   ]
  },
  {
   "cell_type": "code",
   "execution_count": 15,
   "metadata": {},
   "outputs": [],
   "source": [
    "if torch.cuda.is_available():\n",
    "    device = torch.device(\"cuda\")  # GPUデバイスを取得\n",
    "else:\n",
    "    device = torch.device(\"cpu\")  # CPUデバイスを取得"
   ]
  },
  {
   "cell_type": "code",
   "execution_count": 16,
   "metadata": {},
   "outputs": [],
   "source": [
    "negative_path = glob.glob(\n",
    "    \"C:/Users/yuuta/Documents/fashion/model_learning/compatibility/data/negative_coordinates/**.json\"\n",
    ")\n",
    "positive_path = glob.glob(\n",
    "    \"C:/Users/yuuta/Documents/fashion/data/test/**/*.json\"\n",
    ")\n",
    "negative_path = random.sample(negative_path, 10000)\n",
    "positive_path = random.sample(positive_path, 20000)"
   ]
  },
  {
   "cell_type": "code",
   "execution_count": 17,
   "metadata": {},
   "outputs": [
    {
     "name": "stdout",
     "output_type": "stream",
     "text": [
      "10000 20000\n"
     ]
    }
   ],
   "source": [
    "print(len(negative_path), len(positive_path))"
   ]
  },
  {
   "cell_type": "code",
   "execution_count": 18,
   "metadata": {},
   "outputs": [],
   "source": [
    "id_to_vector = open_json('C:/Users/yuuta/Documents/fashion/model_learning/compatibility/data/id_to_vector.json')"
   ]
  },
  {
   "cell_type": "code",
   "execution_count": 19,
   "metadata": {},
   "outputs": [],
   "source": [
    "with open(\n",
    "    \"C:/Users/yuuta/Documents/fashion/data/attributes_test.json\",\n",
    "    encoding=\"shift-jis\"\n",
    ") as f:\n",
    "    to_attributes = json.load(f)\n",
    "\n",
    "with open(\n",
    "    \"C:/Users/yuuta/Documents/fashion/data/attributes_train.json\",\n",
    "    encoding=\"shift-jis\"\n",
    ") as f:\n",
    "    to_attributes_2 = json.load(f)\n",
    "\n",
    "to_attributes = {**to_attributes, **to_attributes_2}"
   ]
  },
  {
   "cell_type": "code",
   "execution_count": 20,
   "metadata": {},
   "outputs": [],
   "source": [
    "lda = tp.LDAModel.load(\n",
    "    \"C:/Users/yuuta/Documents/fashion/model_learning/topic_model/models/lda.bin\"\n",
    ")\n",
    "ctm = tp.CTModel.load(\n",
    "    \"C:/Users/yuuta/Documents/fashion/model_learning/topic_model/models/ctm.bin\"\n",
    ")\n",
    "# mdl = tp.MGLDAModel.load(\n",
    "#     \"C:/Users/yuuta/Documents/fashion/model_learning/topic_model/models/MGLDA.bin\"\n",
    "# )"
   ]
  },
  {
   "cell_type": "code",
   "execution_count": 21,
   "metadata": {},
   "outputs": [],
   "source": [
    "labels = []\n",
    "proposal_score = []\n",
    "lda_score = []\n",
    "ctm_score = []"
   ]
  },
  {
   "cell_type": "code",
   "execution_count": 22,
   "metadata": {},
   "outputs": [
    {
     "name": "stderr",
     "output_type": "stream",
     "text": [
      "c:\\Users\\yuuta\\anaconda3\\envs\\fashion\\Lib\\site-packages\\tqdm\\auto.py:21: TqdmWarning: IProgress not found. Please update jupyter and ipywidgets. See https://ipywidgets.readthedocs.io/en/stable/user_install.html\n",
      "  from .autonotebook import tqdm as notebook_tqdm\n",
      "c:\\Users\\yuuta\\anaconda3\\envs\\fashion\\Lib\\site-packages\\torchvision\\models\\_utils.py:208: UserWarning: The parameter 'pretrained' is deprecated since 0.13 and may be removed in the future, please use 'weights' instead.\n",
      "  warnings.warn(\n",
      "c:\\Users\\yuuta\\anaconda3\\envs\\fashion\\Lib\\site-packages\\torchvision\\models\\_utils.py:223: UserWarning: Arguments other than a weight enum or `None` for 'weights' are deprecated since 0.13 and may be removed in the future. The current behavior is equivalent to passing `weights=ResNet50_Weights.IMAGENET1K_V1`. You can also use `weights=ResNet50_Weights.DEFAULT` to get the most up-to-date weights.\n",
      "  warnings.warn(msg)\n"
     ]
    }
   ],
   "source": [
    "from utils.infer import topic_model_infer\n",
    "from utils.util import calculate_euclid_max\n",
    "p_cnt = 0\n",
    "for fp in positive_path:\n",
    "    if p_cnt > 10000:\n",
    "        break\n",
    "    json_dict = open_json(fp)\n",
    "    items = filter_basic_items(json_dict[\"items\"])\n",
    "    vectors = []\n",
    "    attributes = []\n",
    "    for item in items:\n",
    "        itemId = str(item[\"itemId\"])\n",
    "        vector = id_to_vector[itemId]\n",
    "        vectors.append(torch.tensor(vector))\n",
    "\n",
    "        attr = to_attributes[itemId]\n",
    "        attributes += attr\n",
    "    if len(vectors) != 3:\n",
    "        continue\n",
    "    ps = 1 / calculate_euclid_max(vectors)\n",
    "    proposal_score.append(ps.to(\"cpu\"))\n",
    "    ls = topic_model_infer(lda, attributes)\n",
    "    cs = topic_model_infer(ctm, attributes)\n",
    "    lda_score.append(ls)\n",
    "    ctm_score.append(cs)\n",
    "    p_cnt += 1\n",
    "    labels.append(0)\n"
   ]
  },
  {
   "cell_type": "code",
   "execution_count": 23,
   "metadata": {},
   "outputs": [],
   "source": [
    "n_cnt = 0\n",
    "for fp in negative_path:\n",
    "    json_dict = open_json(fp)\n",
    "    items = filter_basic_items(json_dict[\"items\"])\n",
    "    vectors = []\n",
    "    attributes = []\n",
    "    for item in items:\n",
    "        itemId = str(item[\"itemId\"])\n",
    "        vector = id_to_vector[itemId]\n",
    "        vectors.append(torch.tensor(vector))\n",
    "\n",
    "        attr = to_attributes[itemId]\n",
    "        attributes += attr\n",
    "    if len(vectors) != 3:\n",
    "        continue\n",
    "    ps = 1 / calculate_euclid_max(vectors)\n",
    "    proposal_score.append(ps.to(\"cpu\"))\n",
    "    ls = topic_model_infer(lda, attributes)\n",
    "    cs = topic_model_infer(ctm, attributes)\n",
    "    lda_score.append(ls)\n",
    "    ctm_score.append(cs)\n",
    "    labels.append(1)"
   ]
  },
  {
   "cell_type": "code",
   "execution_count": 25,
   "metadata": {},
   "outputs": [],
   "source": [
    "labels = [1 if i == 0 else 0 for i in labels]"
   ]
  },
  {
   "cell_type": "code",
   "execution_count": 26,
   "metadata": {},
   "outputs": [
    {
     "name": "stdout",
     "output_type": "stream",
     "text": [
      "0.6257779201551971 0.5025603583826832 0.4976513477639371\n"
     ]
    },
    {
     "data": {
      "image/png": "[encoded data removed]",
      "text/plain": [
       "<Figure size 640x480 with 1 Axes>"
      ]
     },
     "metadata": {},
     "output_type": "display_data"
    }
   ],
   "source": [
    "pro_auc = calc_roc_auc(labels, proposal_score, \"proposal_model_randomly_coordinates\")\n",
    "lda_auc = calc_roc_auc(labels, lda_score, \"lda_model_randomly_coordinates\")\n",
    "ctm_auc = calc_roc_auc(labels, ctm_score, \"ct_model_randomly_coordinates\")\n",
    "print(pro_auc, lda_auc, ctm_auc)"
   ]
  }
 ],
 "metadata": {
  "kernelspec": {
   "display_name": "fashion",
   "language": "python",
   "name": "python3"
  },
  "language_info": {
   "codemirror_mode": {
    "name": "ipython",
    "version": 3
   },
   "file_extension": ".py",
   "mimetype": "text/x-python",
   "name": "python",
   "nbconvert_exporter": "python",
   "pygments_lexer": "ipython3",
   "version": "3.11.5"
  }
 },
 "nbformat": 4,
 "nbformat_minor": 2
}
