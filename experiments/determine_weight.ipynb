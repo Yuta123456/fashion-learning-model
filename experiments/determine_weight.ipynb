{
 "cells": [
  {
   "cell_type": "code",
   "execution_count": 1,
   "metadata": {},
   "outputs": [
    {
     "name": "stderr",
     "output_type": "stream",
     "text": [
      "c:\\Users\\yuuta\\anaconda3\\envs\\fashion\\Lib\\site-packages\\tqdm\\auto.py:21: TqdmWarning: IProgress not found. Please update jupyter and ipywidgets. See https://ipywidgets.readthedocs.io/en/stable/user_install.html\n",
      "  from .autonotebook import tqdm as notebook_tqdm\n",
      "c:\\Users\\yuuta\\anaconda3\\envs\\fashion\\Lib\\site-packages\\torchvision\\models\\_utils.py:208: UserWarning: The parameter 'pretrained' is deprecated since 0.13 and may be removed in the future, please use 'weights' instead.\n",
      "  warnings.warn(\n",
      "c:\\Users\\yuuta\\anaconda3\\envs\\fashion\\Lib\\site-packages\\torchvision\\models\\_utils.py:223: UserWarning: Arguments other than a weight enum or `None` for 'weights' are deprecated since 0.13 and may be removed in the future. The current behavior is equivalent to passing `weights=ResNet50_Weights.IMAGENET1K_V1`. You can also use `weights=ResNet50_Weights.DEFAULT` to get the most up-to-date weights.\n",
      "  warnings.warn(msg)\n"
     ]
    }
   ],
   "source": [
    "import sys\n",
    "import os\n",
    "import torch\n",
    "sys.path.append(\"C:/Users/yuuta/Documents/fashion\")\n",
    "from utils.util import filter_basic_items, open_json\n",
    "from utils.util import is_target_category\n",
    "from utils.util import calculate_euclid_sum\n",
    "from utils.infer import id_to_vector\n",
    "from utils.util import calc_roc_auc\n",
    "from utils.util import calc_cw_score\n",
    "from utils.util import scale_versability, scale_compatibility\n",
    "import json\n",
    "import glob\n",
    "import random\n",
    "import pandas as pd\n",
    "from utils.util import get_category\n"
   ]
  },
  {
   "cell_type": "code",
   "execution_count": 30,
   "metadata": {},
   "outputs": [],
   "source": [
    "import importlib\n",
    "import utils\n",
    "importlib.reload(utils.util)\n",
    "from utils.util import calc_cw_score\n",
    "from utils.util import scale_versability, scale_compatibility"
   ]
  },
  {
   "cell_type": "code",
   "execution_count": 3,
   "metadata": {},
   "outputs": [],
   "source": [
    "if torch.cuda.is_available():\n",
    "    device = torch.device(\"cuda\")  # GPUデバイスを取得\n",
    "else:\n",
    "    device = torch.device(\"cpu\")  # CPUデバイスを取得"
   ]
  },
  {
   "cell_type": "code",
   "execution_count": 4,
   "metadata": {},
   "outputs": [],
   "source": [
    "filepaths = glob.glob(\n",
    "    f\"C:/Users/yuuta/Documents/fashion/data/test/**/*.json\"\n",
    ")"
   ]
  },
  {
   "cell_type": "code",
   "execution_count": 5,
   "metadata": {},
   "outputs": [],
   "source": [
    "id_to_vector_versatility = open_json('C:/Users/yuuta/Documents/fashion/experiments/data/id_to_vector_versatility.json')\n",
    "id_to_vector_compatibility = open_json('C:/Users/yuuta/Documents/fashion/experiments/data/id_to_vector_compatibility.json')"
   ]
  },
  {
   "cell_type": "code",
   "execution_count": 6,
   "metadata": {},
   "outputs": [],
   "source": [
    "items = {\"tops\": [], \"bottoms\": [], \"shoes\": []}\n",
    "for fp in filepaths:\n",
    "    json_dict = open_json(fp)\n",
    "    if json_dict == None:\n",
    "        continue\n",
    "    for item in filter_basic_items(json_dict[\"items\"]):\n",
    "        category = get_category(item)\n",
    "        if category == None:\n",
    "            continue\n",
    "        items[category].append(str(item['itemId']))"
   ]
  },
  {
   "cell_type": "code",
   "execution_count": 7,
   "metadata": {},
   "outputs": [],
   "source": [
    "categories = ['tops', 'bottoms', 'shoes']\n",
    "# 枚数\n",
    "T = 3"
   ]
  },
  {
   "cell_type": "code",
   "execution_count": 31,
   "metadata": {},
   "outputs": [
    {
     "name": "stdout",
     "output_type": "stream",
     "text": [
      " 99.8%"
     ]
    }
   ],
   "source": [
    "com_score = []\n",
    "ver_score = []\n",
    "N = 50000\n",
    "for i in range(N):\n",
    "    if i % 100 == 0:\n",
    "        print(f'\\r {i * 100 / N}%', end='')\n",
    "    dataset = {\n",
    "        'tops':random.sample(items[\"tops\"], 10),\n",
    "        'bottoms':random.sample(items[\"bottoms\"], 10),\n",
    "        'shoes':random.sample(items[\"shoes\"], 10),\n",
    "    }\n",
    "\n",
    "    # cwの初期化\n",
    "    cw = {\n",
    "        'tops':random.sample(dataset[\"tops\"], T),\n",
    "        'bottoms':random.sample(dataset[\"bottoms\"], T),\n",
    "        'shoes':random.sample(dataset[\"shoes\"], T),\n",
    "    }\n",
    "                    \n",
    "    c, v = calc_cw_score(cw, id_to_vector_versatility, id_to_vector_compatibility)\n",
    "    # print('======')\n",
    "    # print(c, v)\n",
    "    # c, v = scale_compatibility(v), scale_versability(v)\n",
    "    # print(c, v)\n",
    "    # print('======')\n",
    "    com_score.append(c)\n",
    "    ver_score.append(v)"
   ]
  },
  {
   "cell_type": "code",
   "execution_count": 32,
   "metadata": {},
   "outputs": [
    {
     "name": "stdout",
     "output_type": "stream",
     "text": [
      "       compatibiltity   versatility\n",
      "count    50000.000000  50000.000000\n",
      "mean         0.315186      0.307970\n",
      "std          0.105947      0.133647\n",
      "min          0.010347      0.002577\n",
      "25%          0.237198      0.206186\n",
      "50%          0.309805      0.296392\n",
      "75%          0.384801      0.394330\n",
      "max          0.973879      0.920103\n"
     ]
    }
   ],
   "source": [
    "df = pd.DataFrame({'compatibiltity': com_score, 'versatility':ver_score})\n",
    "\n",
    "print(df.describe())"
   ]
  },
  {
   "cell_type": "code",
   "execution_count": 22,
   "metadata": {},
   "outputs": [],
   "source": [
    "com = df.describe()['compatibiltity']\n",
    "ver = df.describe()['versatility']"
   ]
  },
  {
   "cell_type": "code",
   "execution_count": 25,
   "metadata": {},
   "outputs": [
    {
     "name": "stdout",
     "output_type": "stream",
     "text": [
      "min_value = 7.839434299071509e-05\n",
      "max_value = 0.0003497860890687236\n",
      "\n"
     ]
    }
   ],
   "source": [
    "print(\n",
    "    f'min_value = {com[\"min\"]}\\nmax_value = {com[\"max\"]}\\n'\n",
    ")"
   ]
  },
  {
   "cell_type": "code",
   "execution_count": 26,
   "metadata": {},
   "outputs": [
    {
     "name": "stdout",
     "output_type": "stream",
     "text": [
      "min_value = 642.0\n",
      "max_value = 1030.0\n",
      "\n"
     ]
    }
   ],
   "source": [
    "print(\n",
    "    f'min_value = {ver[\"min\"]}\\nmax_value = {ver[\"max\"]}\\n'\n",
    ")"
   ]
  }
 ],
 "metadata": {
  "kernelspec": {
   "display_name": "fashion",
   "language": "python",
   "name": "python3"
  },
  "language_info": {
   "codemirror_mode": {
    "name": "ipython",
    "version": 3
   },
   "file_extension": ".py",
   "mimetype": "text/x-python",
   "name": "python",
   "nbconvert_exporter": "python",
   "pygments_lexer": "ipython3",
   "version": "3.11.5"
  }
 },
 "nbformat": 4,
 "nbformat_minor": 2
}
