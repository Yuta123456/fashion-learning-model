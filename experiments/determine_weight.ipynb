{
 "cells": [
  {
   "cell_type": "code",
   "execution_count": 9,
   "metadata": {},
   "outputs": [],
   "source": [
    "import sys\n",
    "import os\n",
    "import torch\n",
    "sys.path.append(\"C:/Users/yuuta/Documents/fashion\")\n",
    "from utils.util import filter_basic_items, open_json\n",
    "from utils.util import is_target_category\n",
    "from utils.util import calculate_euclid_sum\n",
    "from utils.infer import id_to_vector\n",
    "from utils.util import calc_roc_auc\n",
    "from utils.util import calc_cw_score\n",
    "\n",
    "import json\n",
    "import glob\n",
    "import random\n",
    "import pandas as pd\n",
    "from utils.util import get_category\n"
   ]
  },
  {
   "cell_type": "code",
   "execution_count": 10,
   "metadata": {},
   "outputs": [],
   "source": [
    "if torch.cuda.is_available():\n",
    "    device = torch.device(\"cuda\")  # GPUデバイスを取得\n",
    "else:\n",
    "    device = torch.device(\"cpu\")  # CPUデバイスを取得"
   ]
  },
  {
   "cell_type": "code",
   "execution_count": 11,
   "metadata": {},
   "outputs": [],
   "source": [
    "filepaths = glob.glob(\n",
    "    f\"C:/Users/yuuta/Documents/fashion/data/test/**/*.json\"\n",
    ")"
   ]
  },
  {
   "cell_type": "code",
   "execution_count": 12,
   "metadata": {},
   "outputs": [],
   "source": [
    "ver = open_json('C:/Users/yuuta/Documents/fashion/experiments/data/id_to_vector_versatility.json')\n",
    "com = open_json('C:/Users/yuuta/Documents/fashion/experiments/data/id_to_vector_compatibility.json')"
   ]
  },
  {
   "cell_type": "code",
   "execution_count": 13,
   "metadata": {},
   "outputs": [],
   "source": [
    "items = {\"tops\": [], \"bottoms\": [], \"shoes\": []}\n",
    "for fp in filepaths:\n",
    "    json_dict = open_json(fp)\n",
    "    if json_dict == None:\n",
    "        continue\n",
    "    for item in filter_basic_items(json_dict[\"items\"]):\n",
    "        category = get_category(item)\n",
    "        if category == None:\n",
    "            continue\n",
    "        items[category].append(str(item['itemId']))"
   ]
  },
  {
   "cell_type": "code",
   "execution_count": 14,
   "metadata": {},
   "outputs": [],
   "source": [
    "categories = ['tops', 'bottoms', 'shoes']\n",
    "# 枚数\n",
    "T = 3"
   ]
  },
  {
   "cell_type": "code",
   "execution_count": 15,
   "metadata": {},
   "outputs": [],
   "source": [
    "import importlib\n",
    "import utils\n",
    "importlib.reload(utils.util)\n",
    "importlib.reload(utils.versatility)\n",
    "from utils.util import calc_cw_score\n",
    "from utils.util import calc_increase_c, get_progress_percent\n",
    "from utils.versatility import calc_increase_v\n",
    "from utils.util import scale_increase_versatility\n",
    "from utils.util import scale_versatility, scale_compatibility\n",
    "from utils.util import scale_increase_compatibility"
   ]
  },
  {
   "cell_type": "code",
   "execution_count": 16,
   "metadata": {},
   "outputs": [
    {
     "name": "stdout",
     "output_type": "stream",
     "text": [
      "【                                                                                                    】[('9071925', '11695462', '37510596'), ('9071925', '41632926', '37510596'), ('9071925', '28570274', '37510596'), ('39560414', '11695462', '37510596'), ('39560414', '41632926', '37510596'), ('39560414', '28570274', '37510596'), ('13973444', '11695462', '37510596'), ('13973444', '41632926', '37510596'), ('13973444', '28570274', '37510596')]\n"
     ]
    }
   ],
   "source": [
    "inc_ver_scores = []\n",
    "ver_scores = []\n",
    "inc_com_scores = []\n",
    "com_scores = []\n",
    "dataset = {\n",
    "    'tops':items[\"tops\"],\n",
    "    'bottoms':items[\"bottoms\"],\n",
    "    'shoes':items[\"shoes\"],\n",
    "}\n",
    "N = 100\n",
    "for i in range(N):\n",
    "    if i % 10 == 0:\n",
    "        print(get_progress_percent(i, N, div=100), end='')\n",
    "    \n",
    "    # cwの初期化\n",
    "    cw = {\n",
    "        'tops':random.sample(dataset[\"tops\"], T),\n",
    "        'bottoms':random.sample(dataset[\"bottoms\"], T),\n",
    "        'shoes':random.sample(dataset[\"shoes\"], T),\n",
    "    }\n",
    "    eps = 10e-3\n",
    "    increase_score = eps + 1\n",
    "    pre_cw_score = 0\n",
    "    while increase_score > eps:\n",
    "        for cat in categories:\n",
    "            # そのレイヤを空にする\n",
    "            cw[cat] = []\n",
    "            # それぞれのスコアを初期化\n",
    "            ver_set = set()\n",
    "            for _ in range(T):\n",
    "                # 追加するアイテムと、そのアイテムが追加されたことによるCWスコアの上昇値を初期化\n",
    "                add_item = None\n",
    "                max_increase_score = -1\n",
    "                for item in dataset[cat]:\n",
    "                    if item in cw[cat]:\n",
    "                        continue\n",
    "                    # 増加分を計算\n",
    "                    increase_c, increase_v = 0, 0\n",
    "                    if com != None:\n",
    "                        increase_c = calc_increase_c(cw, com, item, cat)\n",
    "                    if ver != None:\n",
    "                        cover_clusters = calc_increase_v(torch.tensor(ver[item]))\n",
    "                        increase_v = len(cover_clusters.union(ver_set)) - len(ver_set)\n",
    "\n",
    "                    inc_com_scores.append(increase_c)\n",
    "                    inc_ver_scores.append(increase_v)\n",
    "                    increase_c, increase_v = scale_increase_compatibility(increase_c), scale_increase_versatility(increase_v)\n",
    "                    # increase_v = 0\n",
    "                    # increase_c = 0\n",
    "                    increase = increase_c + increase_v\n",
    "                    if increase > max_increase_score:\n",
    "                        max_increase_score = increase\n",
    "                        add_item = item\n",
    "\n",
    "                if com != None:\n",
    "                    increase_c = calc_increase_c(cw, com, add_item, cat)\n",
    "                    increase_c = scale_increase_compatibility(increase_c)\n",
    "                    # inc_com_scores.append(increase_c)\n",
    "                    \n",
    "                if ver != None:\n",
    "                    cover_clusters = calc_increase_v(torch.tensor(ver[add_item]))\n",
    "                    # increase_v =  len(ver_set.union(\n",
    "                    #     cover_clusters\n",
    "                    # )) - len(ver_set)\n",
    "                    # increase_v = scale_increase_versatility(increase_v)\n",
    "\n",
    "                    ver_set = ver_set.union(\n",
    "                        cover_clusters\n",
    "                    )\n",
    "\n",
    "                cw[cat].append(add_item)\n",
    "\n",
    "        c, v = calc_cw_score(cw, com, ver)\n",
    "        ver_scores.append(v)\n",
    "        com_scores.append(c)\n",
    "        c, v = scale_compatibility(c), scale_versatility(v)\n",
    "        score = c + v\n",
    "        increase_score = score - pre_cw_score\n",
    "        pre_cw_score = score\n",
    "        # print(c, v)"
   ]
  },
  {
   "cell_type": "code",
   "execution_count": null,
   "metadata": {},
   "outputs": [
    {
     "name": "stdout",
     "output_type": "stream",
     "text": [
      "       compatibiltity  versatility\n",
      "count       10.000000    10.000000\n",
      "mean         3.987917     1.287487\n",
      "std          1.262666     1.144187\n",
      "min          2.054351     0.000000\n",
      "25%          3.086953     0.123454\n",
      "50%          3.984471     1.359611\n",
      "75%          4.685213     2.130378\n",
      "max          5.923189     3.070082\n",
      "       compatibiltity  versatility\n",
      "count      234.000000   234.000000\n",
      "mean         4.805071     4.868959\n",
      "std          1.160991     1.100510\n",
      "min          2.997178     3.315154\n",
      "25%          3.902596     3.872068\n",
      "50%          4.655278     4.634721\n",
      "75%          5.705053     6.294822\n",
      "max          7.681937     6.294822\n"
     ]
    }
   ],
   "source": [
    "\n",
    "# df1 = pd.DataFrame({'compatibiltity': list(map(scale_compatibility, com_scores)), 'versatility': list(map(scale_versatility,ver_scores))})\n",
    "# df2 = pd.DataFrame({'compatibiltity':  list(map(scale_increase_compatibility, inc_com_scores)), 'versatility': list(map(scale_increase_versatility,inc_ver_scores))})\n",
    "df1 = pd.DataFrame({'compatibiltity': com_scores, 'versatility': ver_scores})\n",
    "df2 = pd.DataFrame({'compatibiltity':  inc_com_scores, 'versatility': inc_ver_scores})\n",
    "# df1 = pd.Series(ver_scores)\n",
    "# df2 = pd.Series([c.item() for c in inc_ver_scores])\n",
    "# df2 = pd.Series(inc_ver_scores)\n",
    "# df2 = pd.DataFrame({'inc':  list(map(scale_increase_compatibility, inc_com_scores)), 'cw': list(map(scale_compatibility, com_scores))})\n",
    "print(df1.describe())\n",
    "print(df2.describe())"
   ]
  },
  {
   "cell_type": "code",
   "execution_count": null,
   "metadata": {},
   "outputs": [
    {
     "data": {
      "text/plain": [
       "[74208.45125706775, 74893.0940488335, 38796.05644528226]"
      ]
     },
     "execution_count": 14,
     "metadata": {},
     "output_type": "execute_result"
    }
   ],
   "source": [
    "com_scores[:3]"
   ]
  },
  {
   "cell_type": "code",
   "execution_count": null,
   "metadata": {},
   "outputs": [
    {
     "name": "stdout",
     "output_type": "stream",
     "text": [
      "[6.294821943820937, 4.890121185095234, 3.896898426400292, 6.294821943820937, 4.677287736803461]\n"
     ]
    }
   ],
   "source": [
    "print(inc_ver_scores[:5])"
   ]
  },
  {
   "cell_type": "code",
   "execution_count": null,
   "metadata": {},
   "outputs": [
    {
     "ename": "NameError",
     "evalue": "name 'df' is not defined",
     "output_type": "error",
     "traceback": [
      "\u001b[1;31m---------------------------------------------------------------------------\u001b[0m",
      "\u001b[1;31mNameError\u001b[0m                                 Traceback (most recent call last)",
      "Cell \u001b[1;32mIn[11], line 1\u001b[0m\n\u001b[1;32m----> 1\u001b[0m com \u001b[38;5;241m=\u001b[39m \u001b[43mdf\u001b[49m\u001b[38;5;241m.\u001b[39mdescribe()[\u001b[38;5;124m'\u001b[39m\u001b[38;5;124mcompatibiltity\u001b[39m\u001b[38;5;124m'\u001b[39m]\n\u001b[0;32m      2\u001b[0m ver \u001b[38;5;241m=\u001b[39m df\u001b[38;5;241m.\u001b[39mdescribe()[\u001b[38;5;124m'\u001b[39m\u001b[38;5;124mversatility\u001b[39m\u001b[38;5;124m'\u001b[39m]\n",
      "\u001b[1;31mNameError\u001b[0m: name 'df' is not defined"
     ]
    }
   ],
   "source": [
    "com = df.describe()['compatibiltity']\n",
    "ver = df.describe()['versatility']"
   ]
  },
  {
   "cell_type": "code",
   "execution_count": null,
   "metadata": {},
   "outputs": [],
   "source": [
    "print(\n",
    "    f'min_value = {com[\"min\"]}\\nmax_value = {com[\"max\"]}\\n'\n",
    ")"
   ]
  },
  {
   "cell_type": "code",
   "execution_count": null,
   "metadata": {},
   "outputs": [],
   "source": [
    "print(\n",
    "    f'min_value = {ver[\"min\"]}\\nmax_value = {ver[\"max\"]}\\n'\n",
    ")"
   ]
  }
 ],
 "metadata": {
  "kernelspec": {
   "display_name": "fashion",
   "language": "python",
   "name": "python3"
  },
  "language_info": {
   "codemirror_mode": {
    "name": "ipython",
    "version": 3
   },
   "file_extension": ".py",
   "mimetype": "text/x-python",
   "name": "python",
   "nbconvert_exporter": "python",
   "pygments_lexer": "ipython3",
   "version": "3.11.5"
  }
 },
 "nbformat": 4,
 "nbformat_minor": 2
}
