{
 "cells": [
  {
   "cell_type": "code",
   "execution_count": 1,
   "metadata": {},
   "outputs": [
    {
     "name": "stderr",
     "output_type": "stream",
     "text": [
      "c:\\Users\\yuuta\\anaconda3\\envs\\fashion\\Lib\\site-packages\\tqdm\\auto.py:21: TqdmWarning: IProgress not found. Please update jupyter and ipywidgets. See https://ipywidgets.readthedocs.io/en/stable/user_install.html\n",
      "  from .autonotebook import tqdm as notebook_tqdm\n"
     ]
    },
    {
     "name": "stdout",
     "output_type": "stream",
     "text": [
      "size:  53072\n"
     ]
    }
   ],
   "source": [
    "import glob\n",
    "import json\n",
    "import sys\n",
    "\n",
    "from fashion_clip.fashion_clip import FashionCLIP\n",
    "import numpy as np\n",
    "from sklearn.metrics import *\n",
    "import pandas as pd\n",
    "import os\n",
    "\n",
    "sys.path.append(\"C:/Users/yuuta/Documents/fashion\")\n",
    "from utils.util import get_progress_percent, is_target_category\n",
    "\n",
    "fclip = FashionCLIP(\"fashion-clip\")\n",
    "\n",
    "# ターゲットのディレクトリ\n",
    "KIND = \"test\"\n",
    "BATCH_SIZE = 512\n",
    "\n",
    "coordinates_file = glob.glob(\n",
    "    f\"C:/Users/yuuta/Documents/fashion/data/{KIND}/**/*_new.json\"\n",
    ")\n",
    "\n",
    "print(\"size: \", len(coordinates_file))\n"
   ]
  },
  {
   "cell_type": "code",
   "execution_count": 2,
   "metadata": {},
   "outputs": [
    {
     "name": "stdout",
     "output_type": "stream",
     "text": [
      "【******************* 】95682\n"
     ]
    }
   ],
   "source": [
    "images = []\n",
    "item_set = set()\n",
    "for i, fp in enumerate(coordinates_file):\n",
    "    json_dict = pd.read_json(fp, encoding=\"shift-jis\")\n",
    "    if i % 1000 == 0:\n",
    "        print(get_progress_percent(i, len(coordinates_file)), end=\"\")\n",
    "    for item in filter(is_target_category, json_dict[\"items\"]):\n",
    "        item_id = item[\"itemId\"]\n",
    "        if item_id in item_set:\n",
    "            continue\n",
    "        item_set.add(item_id)\n",
    "        images.append(f\"C:/Users/yuuta/Documents/fashion/data/images/{item_id}.jpg\")\n",
    "\n",
    "print(len(images))\n",
    "\n"
   ]
  },
  {
   "cell_type": "code",
   "execution_count": 3,
   "metadata": {},
   "outputs": [
    {
     "name": "stderr",
     "output_type": "stream",
     "text": [
      "187it [10:30,  3.37s/it]                         "
     ]
    },
    {
     "name": "stdout",
     "output_type": "stream",
     "text": [
      "image fin\n"
     ]
    },
    {
     "name": "stderr",
     "output_type": "stream",
     "text": [
      "\n"
     ]
    }
   ],
   "source": [
    "image_embeddings = fclip.encode_images(images, batch_size=BATCH_SIZE)\n",
    "image_embeddings = image_embeddings / np.linalg.norm(\n",
    "    image_embeddings, ord=2, axis=-1, keepdims=True\n",
    ")\n",
    "print(\"image fin\")"
   ]
  },
  {
   "cell_type": "code",
   "execution_count": 4,
   "metadata": {},
   "outputs": [],
   "source": [
    "# 6795055 in item_set"
   ]
  },
  {
   "cell_type": "code",
   "execution_count": 5,
   "metadata": {},
   "outputs": [],
   "source": [
    "# for fp in coordinates_file:\n",
    "#     json_dict = pd.read_json(fp, encoding=\"shift-jis\")\n",
    "#     coordinate_attributes = \"\"\n",
    "#     for item in filter(is_target_category, json_dict[\"items\"]):\n",
    "#         item_id = item[\"itemId\"]\n",
    "#         if item_id not in item_set:\n",
    "#             print(item_id, ' not in')\n",
    "#             break"
   ]
  },
  {
   "cell_type": "code",
   "execution_count": 6,
   "metadata": {},
   "outputs": [
    {
     "name": "stderr",
     "output_type": "stream",
     "text": [
      "1it [00:00, 45.45it/s]                           \n",
      "1it [00:00,  9.42it/s]                            \n",
      "1it [00:00,  4.90it/s]                            \n",
      "1it [00:00, 30.30it/s]                            "
     ]
    },
    {
     "name": "stdout",
     "output_type": "stream",
     "text": [
      "materials fin\n",
      "colors fin\n",
      "patterns fin\n",
      "category fin\n"
     ]
    },
    {
     "name": "stderr",
     "output_type": "stream",
     "text": [
      "\n"
     ]
    }
   ],
   "source": [
    "category = [\n",
    "    \"tops\",\n",
    "    \"bottoms\",\n",
    "    \"shoes\",\n",
    "    \"others\",\n",
    "]\n",
    "materials = [\n",
    "    \"Cotton\",\n",
    "    \"Polyester\",\n",
    "    \"Rayon\",\n",
    "    \"Linen\",\n",
    "    \"Wool\",\n",
    "    \"Silk\",\n",
    "    \"Nylon\",\n",
    "    \"Polyurethane\",\n",
    "    \"Denim\",\n",
    "    \"Spandex\",\n",
    "]\n",
    "colors = [\n",
    "    \"Black\",\n",
    "    \"White\",\n",
    "    \"Gray\",\n",
    "    \"Navy\",\n",
    "    \"Blue\",\n",
    "    \"Red\",\n",
    "    \"Green\",\n",
    "    \"Brown\",\n",
    "    \"Beige\",\n",
    "    \"Pink\",\n",
    "    \"Yellow\",\n",
    "    \"Orange\",\n",
    "    \"Purple\",\n",
    "    \"Lavender\",\n",
    "    \"Teal\",\n",
    "    \"Turquoise\",\n",
    "    \"Magenta\",\n",
    "    \"Olive\",\n",
    "    \"Maroon\",\n",
    "    \"Charcoal\",\n",
    "]\n",
    "patterns = [\n",
    "    \"crochet\",\n",
    "    \"camouflage\",\n",
    "    \"floral\",\n",
    "    \"geo\",\n",
    "    \"horizontal_striped\",\n",
    "    \"lace\",\n",
    "    \"leopard\",\n",
    "    \"plaid\",\n",
    "    \"paisley\",\n",
    "    \"plain\",\n",
    "    \"polka\",\n",
    "    \"tribal\",\n",
    "    \"vertical\",\n",
    "    \"zebra\",\n",
    "]\n",
    "\n",
    "category_embeddings = fclip.encode_text(category, batch_size=BATCH_SIZE)\n",
    "material_embeddings = category_embeddings / np.linalg.norm(\n",
    "    category_embeddings, ord=2, axis=-1, keepdims=True\n",
    ")\n",
    "\n",
    "material_embeddings = fclip.encode_text(materials, batch_size=BATCH_SIZE)\n",
    "material_embeddings = material_embeddings / np.linalg.norm(\n",
    "    material_embeddings, ord=2, axis=-1, keepdims=True\n",
    ")\n",
    "\n",
    "color_embeddings = fclip.encode_text(colors, batch_size=BATCH_SIZE)\n",
    "color_embeddings = color_embeddings / np.linalg.norm(\n",
    "    color_embeddings, ord=2, axis=-1, keepdims=True\n",
    ")\n",
    "\n",
    "patterns_embeddings = fclip.encode_text(patterns, batch_size=BATCH_SIZE)\n",
    "patterns_embeddings = patterns_embeddings / np.linalg.norm(\n",
    "    patterns_embeddings, ord=2, axis=-1, keepdims=True\n",
    ")\n",
    "\n",
    "predicted_materials = material_embeddings.dot(image_embeddings.T)\n",
    "predicted_materials = [materials[k] for k in np.argmax(predicted_materials, axis=0)]\n",
    "\n",
    "print(\"materials fin\")\n",
    "\n",
    "predicted_colors = color_embeddings.dot(image_embeddings.T)\n",
    "predicted_colors = [colors[k] for k in np.argmax(predicted_colors, axis=0)]\n",
    "\n",
    "print(\"colors fin\")\n",
    "\n",
    "predicted_patterns = patterns_embeddings.dot(image_embeddings.T)\n",
    "predicted_patterns = [patterns[k] for k in np.argmax(predicted_patterns, axis=0)]\n",
    "\n",
    "print(\"patterns fin\")\n",
    "\n",
    "predicted_cateogories = category_embeddings.dot(image_embeddings.T)\n",
    "predicted_cateogories = [category[k] for k in np.argmax(predicted_cateogories, axis=0)]\n",
    "\n",
    "print(\"category fin\")"
   ]
  },
  {
   "cell_type": "code",
   "execution_count": 7,
   "metadata": {},
   "outputs": [],
   "source": [
    "item_id_to_attributes = {}\n",
    "for image_path, m, c, p, category in zip(\n",
    "    images,\n",
    "    predicted_materials,\n",
    "    predicted_colors,\n",
    "    predicted_patterns,\n",
    "    predicted_cateogories,\n",
    "):\n",
    "    item_id = image_path.split(\"/\")[-1][:-4]\n",
    "    item_id_to_attributes[item_id] = [\n",
    "        category + \"_\" + m,\n",
    "        category + \"_\" + c,\n",
    "        category + \"_\" + p,\n",
    "    ]\n",
    "\n",
    "with open(\n",
    "    f\"C:/Users/yuuta/Documents/fashion/data/attributes_{KIND}.json\",\n",
    "    \"w\",\n",
    "    encoding=\"utf-8\",\n",
    ") as f:\n",
    "    json.dump(item_id_to_attributes, f)"
   ]
  }
 ],
 "metadata": {
  "kernelspec": {
   "display_name": "fashion",
   "language": "python",
   "name": "python3"
  },
  "language_info": {
   "codemirror_mode": {
    "name": "ipython",
    "version": 3
   },
   "file_extension": ".py",
   "mimetype": "text/x-python",
   "name": "python",
   "nbconvert_exporter": "python",
   "pygments_lexer": "ipython3",
   "version": "3.11.5"
  }
 },
 "nbformat": 4,
 "nbformat_minor": 2
}
