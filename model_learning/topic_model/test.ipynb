{
 "cells": [
  {
   "cell_type": "code",
   "execution_count": 1,
   "metadata": {},
   "outputs": [
    {
     "name": "stderr",
     "output_type": "stream",
     "text": [
      "c:\\Users\\yuuta\\anaconda3\\envs\\fashion\\Lib\\site-packages\\tqdm\\auto.py:21: TqdmWarning: IProgress not found. Please update jupyter and ipywidgets. See https://ipywidgets.readthedocs.io/en/stable/user_install.html\n",
      "  from .autonotebook import tqdm as notebook_tqdm\n",
      "c:\\Users\\yuuta\\anaconda3\\envs\\fashion\\Lib\\site-packages\\torchvision\\models\\_utils.py:208: UserWarning: The parameter 'pretrained' is deprecated since 0.13 and may be removed in the future, please use 'weights' instead.\n",
      "  warnings.warn(\n",
      "c:\\Users\\yuuta\\anaconda3\\envs\\fashion\\Lib\\site-packages\\torchvision\\models\\_utils.py:223: UserWarning: Arguments other than a weight enum or `None` for 'weights' are deprecated since 0.13 and may be removed in the future. The current behavior is equivalent to passing `weights=ResNet50_Weights.IMAGENET1K_V1`. You can also use `weights=ResNet50_Weights.DEFAULT` to get the most up-to-date weights.\n",
      "  warnings.warn(msg)\n"
     ]
    }
   ],
   "source": [
    "import json\n",
    "import pandas as pd\n",
    "import glob\n",
    "\n",
    "import sys\n",
    "\n",
    "import random\n",
    "import tomotopy as tp\n",
    "sys.path.append(\"C:/Users/yuuta/Documents/fashion\")\n",
    "\n",
    "from utils.util import filter_basic_items, is_target_category\n",
    "from utils.util import calc_roc_auc\n",
    "from utils.infer import topic_model_infer\n",
    "from utils.util import open_json"
   ]
  },
  {
   "cell_type": "code",
   "execution_count": 2,
   "metadata": {},
   "outputs": [
    {
     "data": {
      "text/plain": [
       "<module 'utils.infer' from 'C:\\\\Users/yuuta/Documents/fashion\\\\utils\\\\infer.py'>"
      ]
     },
     "execution_count": 2,
     "metadata": {},
     "output_type": "execute_result"
    }
   ],
   "source": [
    "import importlib\n",
    "import utils\n",
    "importlib.reload(utils.infer)"
   ]
  },
  {
   "cell_type": "code",
   "execution_count": 3,
   "metadata": {},
   "outputs": [],
   "source": [
    "negative_path = glob.glob(\n",
    "    \"C:/Users/yuuta/Documents/fashion/model_learning/compatibility/data/negative_coordinates/**.json\"\n",
    "    # \"C:/Users/yuuta/Documents/fashion/model_learning/compatibility/data/negative_coordinates_random/**.json\"\n",
    "    # \"C:/Users/yuuta/Documents/fashion/data/test/**/*.json\"\n",
    "    # negative_coordinates_random\n",
    ")\n",
    "positive_path = glob.glob(\n",
    "    # \"C:/Users/yuuta/Documents/fashion/data/train/**/*.json\"\n",
    "    \"C:/Users/yuuta/Documents/fashion/data/test/**/*.json\"\n",
    ")"
   ]
  },
  {
   "cell_type": "code",
   "execution_count": 4,
   "metadata": {},
   "outputs": [],
   "source": [
    "with open(\n",
    "    \"C:/Users/yuuta/Documents/fashion/data/attributes_test.json\",\n",
    "    encoding=\"shift-jis\"\n",
    ") as f:\n",
    "    to_attributes = json.load(f)\n",
    "\n",
    "with open(\n",
    "    \"C:/Users/yuuta/Documents/fashion/data/attributes_train.json\",\n",
    "    encoding=\"shift-jis\"\n",
    ") as f:\n",
    "    to_attributes_2 = json.load(f)\n",
    "\n",
    "to_attributes = {**to_attributes, **to_attributes_2}\n",
    "\n"
   ]
  },
  {
   "cell_type": "code",
   "execution_count": 5,
   "metadata": {},
   "outputs": [],
   "source": [
    "mdl = tp.LDAModel.load(\n",
    "    \"C:/Users/yuuta/Documents/fashion/model_learning/topic_model/models/lda.bin\"\n",
    ")\n",
    "# mdl = tp.CTModel.load(\n",
    "#     \"C:/Users/yuuta/Documents/fashion/model_learning/topic_model/models/ctm.bin\"\n",
    "# )\n",
    "# mdl = tp.MGLDAModel.load(\n",
    "#     \"C:/Users/yuuta/Documents/fashion/model_learning/topic_model/models/MGLDA.bin\"\n",
    "# )"
   ]
  },
  {
   "cell_type": "code",
   "execution_count": 6,
   "metadata": {},
   "outputs": [
    {
     "name": "stdout",
     "output_type": "stream",
     "text": [
      "Top 10 words of topic #0\n",
      "[('shoes_geo', 0.05892040953040123), ('tops_Silk', 0.05633905157446861), ('shoes_plain', 0.0532621294260025), ('shoes_Black', 0.046146754175424576), ('bottoms_Blue', 0.04549586772918701), ('tops_Denim', 0.038439661264419556), ('tops_plainbottoms_Silk', 0.03178286552429199), ('tops_plainbottoms_Denim', 0.03130209818482399), ('tops_Wool', 0.03064381331205368), ('tops_White', 0.02626512013375759)]\n",
      "Top 10 words of topic #1\n",
      "[('bottoms_Silk', 0.10476075857877731), ('shoes_geo', 0.05496559292078018), ('shoes_Black', 0.04259951785206795), ('shoes_plain', 0.03865671157836914), ('tops_White', 0.03354209288954735), ('bottoms_plaintops_Silk', 0.029764719307422638), ('bottoms_Beige', 0.029709575697779655), ('tops_plainshoes_Silk', 0.02932356670498848), ('bottoms_Gray', 0.024953391402959824), ('tops_Beige', 0.022444332018494606)]\n",
      "Top 10 words of topic #2\n",
      "[('bottoms_Denim', 0.09622325003147125), ('bottoms_Blue', 0.07847441732883453), ('shoes_geo', 0.05021021515130997), ('shoes_plain', 0.03914784640073776), ('shoes_Black', 0.036912739276885986), ('tops_White', 0.03311211243271828), ('shoes_White', 0.025567445904016495), ('tops_plainshoes_Silk', 0.020465364679694176), ('tops_plainshoes_Denim', 0.019795775413513184), ('bottoms_verticaltops_Silk', 0.018145378679037094)]\n",
      "Top 10 words of topic #3\n",
      "[('tops_Silk', 0.07432086765766144), ('shoes_geo', 0.054040104150772095), ('tops_White', 0.048316001892089844), ('shoes_plain', 0.04717876389622688), ('tops_Blue', 0.04572141170501709), ('shoes_Black', 0.04522860795259476), ('tops_Black', 0.041909556835889816), ('tops_Denim', 0.037234243005514145), ('tops_plaintops_Silk', 0.03530514985322952), ('tops_Beige', 0.02744135446846485)]\n"
     ]
    }
   ],
   "source": [
    "for k in range(mdl.k):\n",
    "    print('Top 10 words of topic #{}'.format(k))\n",
    "    print(mdl.get_topic_words(k, top_n=10))"
   ]
  },
  {
   "cell_type": "code",
   "execution_count": 7,
   "metadata": {},
   "outputs": [
    {
     "name": "stdout",
     "output_type": "stream",
     "text": [
      "10000 53072\n"
     ]
    }
   ],
   "source": [
    "print(len(negative_path), len(positive_path))"
   ]
  },
  {
   "cell_type": "code",
   "execution_count": 8,
   "metadata": {},
   "outputs": [],
   "source": [
    "negative_path = random.sample(negative_path, 10000)\n",
    "positive_path = random.sample(positive_path, 20000)"
   ]
  },
  {
   "cell_type": "code",
   "execution_count": 9,
   "metadata": {},
   "outputs": [],
   "source": [
    "topic_model_score = []\n",
    "labels = []\n",
    "\n",
    "# ポジティブなもの\n",
    "p_score = 0\n",
    "p_cnt = 0\n",
    "for fp in positive_path:\n",
    "    json_dict = open_json(fp)\n",
    "    items = filter_basic_items(json_dict[\"items\"])\n",
    "    # items = list(filter(is_target_category, json_dict[\"items\"]))\n",
    "    attributes = []\n",
    "    if len(items) != 3:\n",
    "        continue\n",
    "    for item in items:\n",
    "        try:\n",
    "            itemId = str(item[\"itemId\"])\n",
    "        except Exception as e:\n",
    "            print(fp, \" : \", e)\n",
    "            continue\n",
    "        attr = to_attributes[itemId]\n",
    "        attributes += attr\n",
    "    score = topic_model_infer(mdl, attributes)\n",
    "    topic_model_score.append(score)\n",
    "    labels.append(0)\n",
    "    p_cnt += 1\n",
    "    p_score += score"
   ]
  },
  {
   "cell_type": "code",
   "execution_count": 10,
   "metadata": {},
   "outputs": [],
   "source": [
    "# ネガティブなもの\n",
    "n_score = 0\n",
    "n_cnt = 0\n",
    "for fp in negative_path:\n",
    "    json_dict = pd.read_json(fp, encoding=\"shift-jis\")\n",
    "    # items = list(filter(is_target_category, json_dict[\"items\"]))\n",
    "    items = filter_basic_items(json_dict[\"items\"])\n",
    "    attributes = []\n",
    "    if len(items) != 3:\n",
    "        continue\n",
    "    for item in items:\n",
    "        try:\n",
    "            itemId = str(item[\"itemId\"])\n",
    "        except Exception as e:\n",
    "            print(fp, \" : \", e)\n",
    "            continue\n",
    "        attr = to_attributes[itemId]\n",
    "        attributes += attr\n",
    "    if len(attributes) != 9:\n",
    "        continue\n",
    "    score = topic_model_infer(mdl, attributes)\n",
    "    topic_model_score.append(score)\n",
    "    labels.append(1)\n",
    "    n_cnt += 1\n",
    "    n_score += score"
   ]
  },
  {
   "cell_type": "code",
   "execution_count": 11,
   "metadata": {},
   "outputs": [
    {
     "name": "stdout",
     "output_type": "stream",
     "text": [
      "-44.81099889907837 -44.629512505014\n"
     ]
    }
   ],
   "source": [
    "print(n_score / n_cnt, p_score / p_cnt)"
   ]
  },
  {
   "cell_type": "code",
   "execution_count": 12,
   "metadata": {},
   "outputs": [
    {
     "name": "stdout",
     "output_type": "stream",
     "text": [
      "0.4906154081009566\n"
     ]
    },
    {
     "data": {
      "image/png": "[encoded data removed]",
      "text/plain": [
       "<Figure size 640x480 with 1 Axes>"
      ]
     },
     "metadata": {},
     "output_type": "display_data"
    }
   ],
   "source": [
    "# t_auc = calc_roc_auc(labels, topic_model_score, \"topic_model\")\n",
    "t_auc = calc_roc_auc(labels, topic_model_score, \"ctm_random\")\n",
    "\n",
    "# print(t_auc, p_auc, len(labels))\n",
    "print(t_auc)"
   ]
  }
 ],
 "metadata": {
  "kernelspec": {
   "display_name": "fashion",
   "language": "python",
   "name": "python3"
  },
  "language_info": {
   "codemirror_mode": {
    "name": "ipython",
    "version": 3
   },
   "file_extension": ".py",
   "mimetype": "text/x-python",
   "name": "python",
   "nbconvert_exporter": "python",
   "pygments_lexer": "ipython3",
   "version": "3.11.5"
  }
 },
 "nbformat": 4,
 "nbformat_minor": 2
}
