{
 "cells": [
  {
   "cell_type": "code",
   "execution_count": 13,
   "metadata": {},
   "outputs": [],
   "source": [
    "import json\n",
    "import pandas as pd\n",
    "import glob\n",
    "\n",
    "import sys\n",
    "\n",
    "import random\n",
    "import tomotopy as tp\n",
    "sys.path.append(\"C:/Users/yuuta/Documents/fashion\")\n",
    "\n",
    "from utils.util import filter_basic_items, is_target_category\n",
    "from utils.util import calc_roc_auc\n",
    "from utils.infer import topic_model_infer\n",
    "from utils.util import open_json"
   ]
  },
  {
   "cell_type": "code",
   "execution_count": 14,
   "metadata": {},
   "outputs": [
    {
     "name": "stderr",
     "output_type": "stream",
     "text": [
      "c:\\Users\\yuuta\\anaconda3\\envs\\fashion\\Lib\\site-packages\\torchvision\\models\\_utils.py:208: UserWarning: The parameter 'pretrained' is deprecated since 0.13 and may be removed in the future, please use 'weights' instead.\n",
      "  warnings.warn(\n",
      "c:\\Users\\yuuta\\anaconda3\\envs\\fashion\\Lib\\site-packages\\torchvision\\models\\_utils.py:223: UserWarning: Arguments other than a weight enum or `None` for 'weights' are deprecated since 0.13 and may be removed in the future. The current behavior is equivalent to passing `weights=ResNet50_Weights.IMAGENET1K_V1`. You can also use `weights=ResNet50_Weights.DEFAULT` to get the most up-to-date weights.\n",
      "  warnings.warn(msg)\n"
     ]
    },
    {
     "data": {
      "text/plain": [
       "<module 'utils.infer' from 'C:\\\\Users/yuuta/Documents/fashion\\\\utils\\\\infer.py'>"
      ]
     },
     "execution_count": 14,
     "metadata": {},
     "output_type": "execute_result"
    }
   ],
   "source": [
    "import importlib\n",
    "import utils\n",
    "importlib.reload(utils.infer)"
   ]
  },
  {
   "cell_type": "code",
   "execution_count": 15,
   "metadata": {},
   "outputs": [],
   "source": [
    "negative_path = glob.glob(\n",
    "    \"C:/Users/yuuta/Documents/fashion/model_learning/compatibility/data/negative_coordinates/**.json\"\n",
    "    # \"C:/Users/yuuta/Documents/fashion/model_learning/compatibility/data/negative_coordinates_random/**.json\"\n",
    "    # \"C:/Users/yuuta/Documents/fashion/data/test/**/*.json\"\n",
    "    # negative_coordinates_random\n",
    ")\n",
    "positive_path = glob.glob(\n",
    "    # \"C:/Users/yuuta/Documents/fashion/data/train/**/*.json\"\n",
    "    \"C:/Users/yuuta/Documents/fashion/data/test/**/*.json\"\n",
    ")"
   ]
  },
  {
   "cell_type": "code",
   "execution_count": 16,
   "metadata": {},
   "outputs": [],
   "source": [
    "with open(\n",
    "    \"C:/Users/yuuta/Documents/fashion/data/attributes_test.json\",\n",
    "    encoding=\"shift-jis\"\n",
    ") as f:\n",
    "    to_attributes = json.load(f)\n",
    "\n",
    "with open(\n",
    "    \"C:/Users/yuuta/Documents/fashion/data/attributes_train.json\",\n",
    "    encoding=\"shift-jis\"\n",
    ") as f:\n",
    "    to_attributes_2 = json.load(f)\n",
    "\n",
    "to_attributes = {**to_attributes, **to_attributes_2}\n",
    "\n"
   ]
  },
  {
   "cell_type": "code",
   "execution_count": 17,
   "metadata": {},
   "outputs": [],
   "source": [
    "mdl = tp.LDAModel.load(\n",
    "    \"C:/Users/yuuta/Documents/fashion/model_learning/topic_model/models/lda.bin\"\n",
    ")\n",
    "# mdl = tp.CTModel.load(\n",
    "#     \"C:/Users/yuuta/Documents/fashion/model_learning/topic_model/models/ctm.bin\"\n",
    "# )\n",
    "# mdl = tp.MGLDAModel.load(\n",
    "#     \"C:/Users/yuuta/Documents/fashion/model_learning/topic_model/models/MGLDA.bin\"\n",
    "# )"
   ]
  },
  {
   "cell_type": "code",
   "execution_count": 18,
   "metadata": {},
   "outputs": [
    {
     "name": "stdout",
     "output_type": "stream",
     "text": [
      "Top 10 words of topic #0\n",
      "[('tops_Silk', 0.08155467361211777), ('tops_plain', 0.07201647013425827), ('tops_White', 0.06978165358304977), ('tops_geo', 0.05954144895076752), ('tops_Denim', 0.049256160855293274), ('tops_Black', 0.047504376620054245), ('tops_Blue', 0.04580411687493324), ('tops_Beige', 0.04043927788734436), ('tops_Navy', 0.036027614027261734), ('tops_plaintops_Silk', 0.03593745082616806)]\n",
      "Top 10 words of topic #1\n",
      "[('bottoms_Silk', 0.07537300139665604), ('tops_White', 0.04121190682053566), ('shoes_geo', 0.04112592339515686), ('shoes_Black', 0.03366551175713539), ('shoes_plain', 0.030241310596466064), ('tops_Beige', 0.025233983993530273), ('bottoms_Beige', 0.02395433373749256), ('bottoms_Gray', 0.023220937699079514), ('bottoms_plaintops_Silk', 0.02199692465364933), ('tops_Black', 0.021991867572069168)]\n",
      "Top 10 words of topic #2\n",
      "[('shoes_geo', 0.07347127050161362), ('shoes_plain', 0.057757165282964706), ('tops_Blue', 0.05738463252782822), ('shoes_Black', 0.05336901918053627), ('tops_Denim', 0.05203854665160179), ('tops_White', 0.05130799487233162), ('tops_Silk', 0.0489179790019989), ('tops_Black', 0.03663408011198044), ('shoes_White', 0.03559388965368271), ('tops_Navy', 0.02725786715745926)]\n",
      "Top 10 words of topic #3\n",
      "[('', 0.23827692866325378), ('others_Beige', 0.0516723208129406), ('others_plain', 0.02782585844397545), ('others_Black', 0.026374099776148796), ('others_geo', 0.025809526443481445), ('tops_White', 0.019679883494973183), ('others_Wool', 0.01935727149248123), ('tops_Silk', 0.01777109131217003), ('others_Brown', 0.016991443932056427), ('others_Silk', 0.016749484464526176)]\n",
      "Top 10 words of topic #4\n",
      "[('bottoms_Blue', 0.10542710870504379), ('bottoms_Denim', 0.10060163587331772), ('tops_White', 0.04595009982585907), ('shoes_geo', 0.03766103461384773), ('shoes_plain', 0.03130346164107323), ('shoes_Black', 0.030413011088967323), ('tops_Gray', 0.021744193509221077), ('shoes_White', 0.021515032276511192), ('tops_Beige', 0.019616272300481796), ('tops_Navy', 0.019341280683875084)]\n",
      "Top 10 words of topic #5\n",
      "[('tops_Silk', 0.05717558041214943), ('bottoms_Blue', 0.04764869436621666), ('tops_White', 0.04542245715856552), ('shoes_geo', 0.0437404103577137), ('tops_Denim', 0.03860945999622345), ('shoes_plain', 0.036955684423446655), ('shoes_Black', 0.033916693180799484), ('tops_plainbottoms_Silk', 0.026637248694896698), ('tops_plainbottoms_Denim', 0.025372181087732315), ('tops_Wool', 0.022891514003276825)]\n",
      "Top 10 words of topic #6\n",
      "[('tops_Silk', 0.07934771478176117), ('shoes_geo', 0.06129032373428345), ('shoes_plain', 0.05802198871970177), ('tops_plaintops_Silk', 0.05175472050905228), ('tops_Beige', 0.050350964069366455), ('tops_White', 0.048528920859098434), ('shoes_Black', 0.0476498007774353), ('tops_plainshoes_Silk', 0.042290009558200836), ('tops_Wool', 0.03628506138920784), ('tops_Black', 0.036171626299619675)]\n"
     ]
    }
   ],
   "source": [
    "for k in range(mdl.k):\n",
    "    print('Top 10 words of topic #{}'.format(k))\n",
    "    print(mdl.get_topic_words(k, top_n=10))"
   ]
  },
  {
   "cell_type": "code",
   "execution_count": 19,
   "metadata": {},
   "outputs": [
    {
     "name": "stdout",
     "output_type": "stream",
     "text": [
      "10000 53072\n"
     ]
    }
   ],
   "source": [
    "print(len(negative_path), len(positive_path))"
   ]
  },
  {
   "cell_type": "code",
   "execution_count": 20,
   "metadata": {},
   "outputs": [],
   "source": [
    "negative_path = random.sample(negative_path, 10000)\n",
    "positive_path = random.sample(positive_path, 20000)"
   ]
  },
  {
   "cell_type": "code",
   "execution_count": 21,
   "metadata": {},
   "outputs": [],
   "source": [
    "topic_model_score = []\n",
    "labels = []\n",
    "\n",
    "# ポジティブなもの\n",
    "p_score = 0\n",
    "p_cnt = 0\n",
    "for fp in positive_path:\n",
    "    json_dict = open_json(fp)\n",
    "    items = filter_basic_items(json_dict[\"items\"])\n",
    "    # items = list(filter(is_target_category, json_dict[\"items\"]))\n",
    "    attributes = []\n",
    "    if len(items) != 3:\n",
    "        continue\n",
    "    for item in items:\n",
    "        try:\n",
    "            itemId = str(item[\"itemId\"])\n",
    "        except Exception as e:\n",
    "            print(fp, \" : \", e)\n",
    "            continue\n",
    "        attr = to_attributes[itemId]\n",
    "        attributes += attr\n",
    "    score = topic_model_infer(mdl, attributes)\n",
    "    topic_model_score.append(score)\n",
    "    labels.append(0)\n",
    "    p_cnt += 1\n",
    "    p_score += score"
   ]
  },
  {
   "cell_type": "code",
   "execution_count": 22,
   "metadata": {},
   "outputs": [],
   "source": [
    "# ネガティブなもの\n",
    "n_score = 0\n",
    "n_cnt = 0\n",
    "for fp in negative_path:\n",
    "    json_dict = pd.read_json(fp, encoding=\"shift-jis\")\n",
    "    # items = list(filter(is_target_category, json_dict[\"items\"]))\n",
    "    items = filter_basic_items(json_dict[\"items\"])\n",
    "    attributes = []\n",
    "    if len(items) != 3:\n",
    "        continue\n",
    "    for item in items:\n",
    "        try:\n",
    "            itemId = str(item[\"itemId\"])\n",
    "        except Exception as e:\n",
    "            print(fp, \" : \", e)\n",
    "            continue\n",
    "        attr = to_attributes[itemId]\n",
    "        attributes += attr\n",
    "    if len(attributes) != 9:\n",
    "        continue\n",
    "    score = topic_model_infer(mdl, attributes)\n",
    "    topic_model_score.append(score)\n",
    "    labels.append(1)\n",
    "    n_cnt += 1\n",
    "    n_score += score"
   ]
  },
  {
   "cell_type": "code",
   "execution_count": 23,
   "metadata": {},
   "outputs": [
    {
     "name": "stdout",
     "output_type": "stream",
     "text": [
      "-44.9888750289917 -44.97592592447479\n"
     ]
    }
   ],
   "source": [
    "print(n_score / n_cnt, p_score / p_cnt)"
   ]
  },
  {
   "cell_type": "code",
   "execution_count": 24,
   "metadata": {},
   "outputs": [
    {
     "name": "stdout",
     "output_type": "stream",
     "text": [
      "0.49650281132649954\n"
     ]
    },
    {
     "data": {
      "image/png": "[encoded data removed]",
      "text/plain": [
       "<Figure size 640x480 with 1 Axes>"
      ]
     },
     "metadata": {},
     "output_type": "display_data"
    }
   ],
   "source": [
    "# t_auc = calc_roc_auc(labels, topic_model_score, \"topic_model\")\n",
    "t_auc = calc_roc_auc(labels, topic_model_score, \"ctm_random\")\n",
    "\n",
    "# print(t_auc, p_auc, len(labels))\n",
    "print(t_auc)"
   ]
  }
 ],
 "metadata": {
  "kernelspec": {
   "display_name": "fashion",
   "language": "python",
   "name": "python3"
  },
  "language_info": {
   "codemirror_mode": {
    "name": "ipython",
    "version": 3
   },
   "file_extension": ".py",
   "mimetype": "text/x-python",
   "name": "python",
   "nbconvert_exporter": "python",
   "pygments_lexer": "ipython3",
   "version": "3.11.5"
  }
 },
 "nbformat": 4,
 "nbformat_minor": 2
}
