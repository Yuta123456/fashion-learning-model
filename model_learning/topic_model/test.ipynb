{
 "cells": [
  {
   "cell_type": "code",
   "execution_count": 27,
   "metadata": {},
   "outputs": [],
   "source": [
    "import json\n",
    "import pandas as pd\n",
    "import glob\n",
    "\n",
    "import sys\n",
    "\n",
    "import random\n",
    "import tomotopy as tp\n",
    "sys.path.append(\"C:/Users/yuuta/Documents/fashion\")\n",
    "\n",
    "from utils.util import filter_basic_items, is_target_category\n",
    "from utils.util import calc_roc_auc\n",
    "from utils.infer import topic_model_infer\n",
    "from utils.util import open_json"
   ]
  },
  {
   "cell_type": "code",
   "execution_count": 28,
   "metadata": {},
   "outputs": [
    {
     "name": "stderr",
     "output_type": "stream",
     "text": [
      "c:\\Users\\yuuta\\anaconda3\\envs\\fashion\\Lib\\site-packages\\torchvision\\models\\_utils.py:208: UserWarning: The parameter 'pretrained' is deprecated since 0.13 and may be removed in the future, please use 'weights' instead.\n",
      "  warnings.warn(\n",
      "c:\\Users\\yuuta\\anaconda3\\envs\\fashion\\Lib\\site-packages\\torchvision\\models\\_utils.py:223: UserWarning: Arguments other than a weight enum or `None` for 'weights' are deprecated since 0.13 and may be removed in the future. The current behavior is equivalent to passing `weights=ResNet50_Weights.IMAGENET1K_V1`. You can also use `weights=ResNet50_Weights.DEFAULT` to get the most up-to-date weights.\n",
      "  warnings.warn(msg)\n"
     ]
    },
    {
     "data": {
      "text/plain": [
       "<module 'utils.infer' from 'C:\\\\Users/yuuta/Documents/fashion\\\\utils\\\\infer.py'>"
      ]
     },
     "execution_count": 28,
     "metadata": {},
     "output_type": "execute_result"
    }
   ],
   "source": [
    "import importlib\n",
    "import utils\n",
    "importlib.reload(utils.infer)"
   ]
  },
  {
   "cell_type": "code",
   "execution_count": 29,
   "metadata": {},
   "outputs": [],
   "source": [
    "negative_path = glob.glob(\n",
    "    \"C:/Users/yuuta/Documents/fashion/model_learning/compatibility/data/negative_coordinates/**.json\"\n",
    "    # \"C:/Users/yuuta/Documents/fashion/model_learning/compatibility/data/negative_coordinates_random/**.json\"\n",
    "    # \"C:/Users/yuuta/Documents/fashion/data/test/**/*.json\"\n",
    "    # negative_coordinates_random\n",
    ")\n",
    "positive_path = glob.glob(\n",
    "    \"C:/Users/yuuta/Documents/fashion/data/test/**/*.json\"\n",
    ")"
   ]
  },
  {
   "cell_type": "code",
   "execution_count": 30,
   "metadata": {},
   "outputs": [],
   "source": [
    "with open(\n",
    "    \"C:/Users/yuuta/Documents/fashion/data/attributes_test.json\",\n",
    "    encoding=\"shift-jis\"\n",
    ") as f:\n",
    "    to_attributes = json.load(f)\n",
    "\n",
    "with open(\n",
    "    \"C:/Users/yuuta/Documents/fashion/data/attributes_train.json\",\n",
    "    encoding=\"shift-jis\"\n",
    ") as f:\n",
    "    to_attributes_2 = json.load(f)\n",
    "\n",
    "to_attributes = {**to_attributes, **to_attributes_2}\n",
    "\n"
   ]
  },
  {
   "cell_type": "code",
   "execution_count": 31,
   "metadata": {},
   "outputs": [],
   "source": [
    "# mdl = tp.LDAModel.load(\n",
    "#     \"C:/Users/yuuta/Documents/fashion/model_learning/topic_model/models/lda.bin\"\n",
    "# )\n",
    "# mdl = tp.CTModel.load(\n",
    "#     \"C:/Users/yuuta/Documents/fashion/model_learning/topic_model/models/ctm.bin\"\n",
    "# )\n",
    "mdl = tp.MGLDAModel.load(\n",
    "    \"C:/Users/yuuta/Documents/fashion/model_learning/topic_model/models/MGLDA.bin\"\n",
    ")"
   ]
  },
  {
   "cell_type": "code",
   "execution_count": 32,
   "metadata": {},
   "outputs": [
    {
     "name": "stdout",
     "output_type": "stream",
     "text": [
      "Top 10 words of topic #0\n",
      "[('tops_Silk', 0.053122829645872116), ('bottoms_Blue', 0.0451885461807251), ('tops_White', 0.0429576113820076), ('shoes_geo', 0.038999803364276886), ('tops_Denim', 0.03167225793004036), ('shoes_plain', 0.030953506007790565), ('shoes_Black', 0.03044944442808628), ('tops_plainbottoms_Silk', 0.023476608097553253), ('tops_plainbottoms_Denim', 0.021777737885713577), ('tops_Black', 0.019621478393673897)]\n",
      "Top 10 words of topic #1\n",
      "[('tops_Silk', 0.07015150040388107), ('tops_White', 0.06482736766338348), ('tops_Blue', 0.05684599280357361), ('tops_Black', 0.04528943449258804), ('tops_Denim', 0.04362745210528374), ('shoes_geo', 0.04144369065761566), ('shoes_Black', 0.035201601684093475), ('shoes_plain', 0.030070722103118896), ('tops_plaintops_Silk', 0.028688959777355194), ('tops_Navy', 0.02839907817542553)]\n",
      "Top 10 words of topic #2\n",
      "[('bottoms_Denim', 0.06662385910749435), ('bottoms_Silk', 0.06299417465925217), ('shoes_geo', 0.05615757033228874), ('bottoms_Blue', 0.04984686151146889), ('tops_White', 0.04355677217245102), ('shoes_plain', 0.03934963792562485), ('shoes_Black', 0.034245386719703674), ('bottoms_plaintops_Silk', 0.024016262963414192), ('shoes_White', 0.023211956024169922), ('tops_plainshoes_Silk', 0.021428046748042107)]\n",
      "Top 10 words of topic #3\n",
      "[('tops_Silk', 0.08120633661746979), ('tops_White', 0.05352227762341499), ('shoes_geo', 0.053327906876802444), ('shoes_plain', 0.0480521060526371), ('tops_plaintops_Silk', 0.04410913959145546), ('shoes_Black', 0.03958306089043617), ('tops_Beige', 0.03632039576768875), ('tops_Black', 0.036042720079422), ('tops_plainshoes_Silk', 0.03114178031682968), ('tops_Gray', 0.03103071078658104)]\n"
     ]
    }
   ],
   "source": [
    "for k in range(mdl.k):\n",
    "    print('Top 10 words of topic #{}'.format(k))\n",
    "    print(mdl.get_topic_words(k, top_n=10))"
   ]
  },
  {
   "cell_type": "code",
   "execution_count": 33,
   "metadata": {},
   "outputs": [
    {
     "name": "stdout",
     "output_type": "stream",
     "text": [
      "10000 53072\n"
     ]
    }
   ],
   "source": [
    "print(len(negative_path), len(positive_path))"
   ]
  },
  {
   "cell_type": "code",
   "execution_count": 34,
   "metadata": {},
   "outputs": [],
   "source": [
    "negative_path = random.sample(negative_path, 10000)\n",
    "positive_path = random.sample(positive_path, 10000)"
   ]
  },
  {
   "cell_type": "code",
   "execution_count": 35,
   "metadata": {},
   "outputs": [],
   "source": [
    "topic_model_score = []\n",
    "labels = []\n",
    "\n",
    "# ポジティブなもの\n",
    "positive_ave = 0\n",
    "for fp in positive_path:\n",
    "    json_dict = open_json(fp)\n",
    "    items = filter_basic_items(json_dict[\"items\"])\n",
    "    # items = list(filter(is_target_category, json_dict[\"items\"]))\n",
    "    attributes = []\n",
    "    if len(items) != 3:\n",
    "        continue\n",
    "    for item in items:\n",
    "        try:\n",
    "            itemId = str(item[\"itemId\"])\n",
    "        except Exception as e:\n",
    "            print(fp, \" : \", e)\n",
    "            continue\n",
    "        attr = to_attributes[itemId]\n",
    "        attributes += attr\n",
    "    score = topic_model_infer(mdl, attributes)\n",
    "    topic_model_score.append(score)\n",
    "    labels.append(0)"
   ]
  },
  {
   "cell_type": "code",
   "execution_count": 36,
   "metadata": {},
   "outputs": [],
   "source": [
    "# ネガティブなもの\n",
    "for fp in negative_path:\n",
    "    json_dict = pd.read_json(fp, encoding=\"shift-jis\")\n",
    "    # items = list(filter(is_target_category, json_dict[\"items\"]))\n",
    "    items = filter_basic_items(json_dict[\"items\"])\n",
    "    attributes = []\n",
    "    if len(items) != 3:\n",
    "        continue\n",
    "    for item in items:\n",
    "        try:\n",
    "            itemId = str(item[\"itemId\"])\n",
    "        except Exception as e:\n",
    "            print(fp, \" : \", e)\n",
    "            continue\n",
    "        attr = to_attributes[itemId]\n",
    "        attributes += attr\n",
    "    if len(attributes) != 9:\n",
    "        continue\n",
    "    score = topic_model_infer(mdl, attributes)\n",
    "    topic_model_score.append(score)\n",
    "    labels.append(1)"
   ]
  },
  {
   "cell_type": "code",
   "execution_count": 37,
   "metadata": {},
   "outputs": [
    {
     "name": "stdout",
     "output_type": "stream",
     "text": [
      "-41.7883601770401 -41.866571821243504\n"
     ]
    }
   ],
   "source": [
    "print(sum(topic_model_score[:sum(labels)]) / sum(labels), sum(topic_model_score[sum(labels):]) / (len(labels) - sum(labels)))"
   ]
  },
  {
   "cell_type": "code",
   "execution_count": 38,
   "metadata": {},
   "outputs": [
    {
     "name": "stdout",
     "output_type": "stream",
     "text": [
      "10000\n"
     ]
    }
   ],
   "source": [
    "print(sum(labels))"
   ]
  },
  {
   "cell_type": "code",
   "execution_count": 39,
   "metadata": {},
   "outputs": [
    {
     "name": "stdout",
     "output_type": "stream",
     "text": [
      "0.4977785437487252\n"
     ]
    },
    {
     "data": {
      "image/png": "[encoded data removed]",
      "text/plain": [
       "<Figure size 640x480 with 1 Axes>"
      ]
     },
     "metadata": {},
     "output_type": "display_data"
    }
   ],
   "source": [
    "# t_auc = calc_roc_auc(labels, topic_model_score, \"topic_model\")\n",
    "t_auc = calc_roc_auc(labels, topic_model_score, \"ctm_random\")\n",
    "\n",
    "# print(t_auc, p_auc, len(labels))\n",
    "print(t_auc)"
   ]
  }
 ],
 "metadata": {
  "kernelspec": {
   "display_name": "fashion",
   "language": "python",
   "name": "python3"
  },
  "language_info": {
   "codemirror_mode": {
    "name": "ipython",
    "version": 3
   },
   "file_extension": ".py",
   "mimetype": "text/x-python",
   "name": "python",
   "nbconvert_exporter": "python",
   "pygments_lexer": "ipython3",
   "version": "3.11.5"
  }
 },
 "nbformat": 4,
 "nbformat_minor": 2
}
