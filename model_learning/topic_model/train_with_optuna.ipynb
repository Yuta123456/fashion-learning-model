{
 "cells": [
  {
   "cell_type": "code",
   "execution_count": 1,
   "metadata": {},
   "outputs": [
    {
     "name": "stderr",
     "output_type": "stream",
     "text": [
      "c:\\Users\\yuuta\\anaconda3\\envs\\fashion\\Lib\\site-packages\\tqdm\\auto.py:21: TqdmWarning: IProgress not found. Please update jupyter and ipywidgets. See https://ipywidgets.readthedocs.io/en/stable/user_install.html\n",
      "  from .autonotebook import tqdm as notebook_tqdm\n"
     ]
    }
   ],
   "source": [
    "import sys\n",
    "import tomotopy as tp\n",
    "import numpy as np\n",
    "import optuna"
   ]
  },
  {
   "cell_type": "code",
   "execution_count": 2,
   "metadata": {},
   "outputs": [],
   "source": [
    "models = {\n",
    "    'LDA': tp.LDAModel,\n",
    "    'MGLDA': tp.MGLDAModel,\n",
    "    'CT': tp.CTModel,\n",
    "}\n",
    "model_params = {\n",
    "    'LDA': {\n",
    "        'tw': ['tw', 0, 2],\n",
    "        'k': ['k', 1, 10],\n",
    "        'alpha': ['alpha', 0.001, 0.05],\n",
    "        'eta': ['eta', 0.001, 0.05],\n",
    "    },\n",
    "    'CT': {\n",
    "        'tw': ['tw', 0, 2],\n",
    "        'k': ['k', 1, 10],\n",
    "        'smoothing_alpha': ['smoothing_alpha', 0.001, 0.05],\n",
    "        'eta': ['eta', 0.001, 0.05],\n",
    "    },\n",
    "    'MGLDA': {\n",
    "        'eta_g': ['eta_g', 0.001, 0.05],\n",
    "        'eta_l': ['eta_l', 0.001, 0.05],\n",
    "\n",
    "        'alpha_g': ['alpha_g', 0.001, 0.05],\n",
    "        'alpha_l': ['alpha_l', 0.001, 0.05],\n",
    "        'alpha_mg': ['alpha_mg', 0.001, 0.05],\n",
    "        'alpha_ml':['alpha_ml', 0.001, 0.05],\n",
    "        'gamma': ['gamma', 0.001, 0.05],\n",
    "\n",
    "        'k_g': ['k_g', 3, 10],\n",
    "        'k_l': ['k_l', 3, 10],\n",
    "        't': ['t', 1, 10],\n",
    "    },\n",
    "}"
   ]
  },
  {
   "cell_type": "code",
   "execution_count": 3,
   "metadata": {},
   "outputs": [],
   "source": [
    "KIND = 'MGLDA'"
   ]
  },
  {
   "cell_type": "code",
   "execution_count": 4,
   "metadata": {},
   "outputs": [],
   "source": [
    "def to_trial(trial, p):\n",
    "    if type(p[1]) is int and type(p[2]) is int:\n",
    "        return trial.suggest_int(*p)\n",
    "    return trial.suggest_float(*p)\n",
    "\n",
    "class Objective:\n",
    "    def __init__(self, corpus):\n",
    "        # 変数X,yの初期化\n",
    "        self.corpus = corpus\n",
    "\n",
    "    def __call__(self, trial):\n",
    "        # ハイパーパラメータの設定\n",
    "        params = {}\n",
    "        for key, p in model_params[KIND].items():\n",
    "            params[key] = to_trial(trial, p)\n",
    "        mdl = models[KIND](**params)\n",
    "        mdl.add_corpus(self.corpus)\n",
    "        mdl.train(1000)\n",
    "        # 評価指標として正解率の最大化を目指す\n",
    "        \n",
    "        return mdl.perplexity"
   ]
  },
  {
   "cell_type": "code",
   "execution_count": 5,
   "metadata": {},
   "outputs": [
    {
     "name": "stdout",
     "output_type": "stream",
     "text": [
      "Running LDA\n"
     ]
    }
   ],
   "source": [
    "with open('C:/Users/yuuta/Documents/fashion/model_learning/topic_model/train_new.txt', 'r', encoding=\"utf-8\") as f:\n",
    "    input_lines = f.read().splitlines()\n",
    "\n",
    "print('Running LDA')\n",
    "\n",
    "corpus = tp.utils.Corpus()\n",
    "for line in input_lines:\n",
    "    line = list(map(lambda x: x.strip(), line.split(',')))\n",
    "    corpus.add_doc(line)"
   ]
  },
  {
   "cell_type": "code",
   "execution_count": 6,
   "metadata": {},
   "outputs": [
    {
     "name": "stderr",
     "output_type": "stream",
     "text": [
      "[I 2024-01-17 13:25:48,668] A new study created in memory with name: no-name-d11d625f-1ea0-44f6-93bd-41ba5c72aab6\n",
      "[I 2024-01-17 13:26:35,636] Trial 0 finished with value: 189.8610305315515 and parameters: {'eta_g': 0.023686619872055475, 'eta_l': 0.02367070204947931, 'alpha_g': 0.034883818622058235, 'alpha_l': 0.03191694790626813, 'alpha_mg': 0.01818180311381168, 'alpha_ml': 0.021503876664643838, 'gamma': 0.010167851998636585, 'k_g': 9, 'k_l': 4, 't': 10}. Best is trial 0 with value: 189.8610305315515.\n",
      "[I 2024-01-17 13:27:12,909] Trial 1 finished with value: 141.83543622560404 and parameters: {'eta_g': 0.031264356354227085, 'eta_l': 0.02642680151210792, 'alpha_g': 0.010483526495068899, 'alpha_l': 0.02579509639293845, 'alpha_mg': 0.03635532136491412, 'alpha_ml': 0.005839693450313207, 'gamma': 0.019962567210587666, 'k_g': 4, 'k_l': 6, 't': 7}. Best is trial 1 with value: 141.83543622560404.\n",
      "[I 2024-01-17 13:27:48,775] Trial 2 finished with value: 166.64848263331987 and parameters: {'eta_g': 0.025614961963398207, 'eta_l': 0.016702088838374478, 'alpha_g': 0.031602213481495924, 'alpha_l': 0.01825509567882846, 'alpha_mg': 0.021186847960718496, 'alpha_ml': 0.03136819522841528, 'gamma': 0.012052202075891031, 'k_g': 10, 'k_l': 9, 't': 5}. Best is trial 1 with value: 141.83543622560404.\n",
      "[I 2024-01-17 13:28:33,132] Trial 3 finished with value: 218.6596164043599 and parameters: {'eta_g': 0.037516707712806484, 'eta_l': 0.006782499705927541, 'alpha_g': 0.02030893549469962, 'alpha_l': 0.014518689607968836, 'alpha_mg': 0.024210466235221186, 'alpha_ml': 0.04877145054025443, 'gamma': 0.0422470181649021, 'k_g': 9, 'k_l': 4, 't': 9}. Best is trial 1 with value: 141.83543622560404.\n",
      "[I 2024-01-17 13:28:55,067] Trial 4 finished with value: 116.38888937418739 and parameters: {'eta_g': 0.04740797155229957, 'eta_l': 0.01298268453019795, 'alpha_g': 0.03247059713973713, 'alpha_l': 0.04350229482898884, 'alpha_mg': 0.047200641355964155, 'alpha_ml': 0.03980042043245382, 'gamma': 0.022573345367252404, 'k_g': 9, 'k_l': 9, 't': 1}. Best is trial 4 with value: 116.38888937418739.\n",
      "[I 2024-01-17 13:29:15,957] Trial 5 finished with value: 122.72308040319884 and parameters: {'eta_g': 0.03161558330456113, 'eta_l': 0.012343487714596726, 'alpha_g': 0.0416960788083, 'alpha_l': 0.001637754865566172, 'alpha_mg': 0.009142839486885445, 'alpha_ml': 0.024641679417874554, 'gamma': 0.0032144814798158576, 'k_g': 7, 'k_l': 4, 't': 1}. Best is trial 4 with value: 116.38888937418739.\n",
      "[I 2024-01-17 13:29:36,736] Trial 6 finished with value: 110.84799350290861 and parameters: {'eta_g': 0.007917467381735335, 'eta_l': 0.04531009457223036, 'alpha_g': 0.04804212623837056, 'alpha_l': 0.00994316948887481, 'alpha_mg': 0.03162248746876187, 'alpha_ml': 0.021982755062428447, 'gamma': 0.004205698018108186, 'k_g': 6, 'k_l': 4, 't': 1}. Best is trial 6 with value: 110.84799350290861.\n",
      "[I 2024-01-17 13:30:05,906] Trial 7 finished with value: 122.0741019461658 and parameters: {'eta_g': 0.031384138897732075, 'eta_l': 0.04512433663587254, 'alpha_g': 0.02321776153518186, 'alpha_l': 0.009973006791746421, 'alpha_mg': 0.037664923656864774, 'alpha_ml': 0.037670737353716344, 'gamma': 0.009294072212281713, 'k_g': 4, 'k_l': 7, 't': 4}. Best is trial 6 with value: 110.84799350290861.\n",
      "[I 2024-01-17 13:30:25,111] Trial 8 finished with value: 129.06001705158752 and parameters: {'eta_g': 0.02357225913206562, 'eta_l': 0.04288403117641253, 'alpha_g': 0.0023700311610411334, 'alpha_l': 0.04224577115834939, 'alpha_mg': 0.007783940912876863, 'alpha_ml': 0.018938650535651767, 'gamma': 0.014863227145356428, 'k_g': 3, 'k_l': 5, 't': 1}. Best is trial 6 with value: 110.84799350290861.\n",
      "[I 2024-01-17 13:30:52,222] Trial 9 finished with value: 118.02226843810732 and parameters: {'eta_g': 0.00440572559515064, 'eta_l': 0.01723022560476175, 'alpha_g': 0.017983249929660505, 'alpha_l': 0.03469589478961089, 'alpha_mg': 0.028361545477878544, 'alpha_ml': 0.028996296795039126, 'gamma': 0.02689184745840956, 'k_g': 4, 'k_l': 7, 't': 3}. Best is trial 6 with value: 110.84799350290861.\n",
      "[I 2024-01-17 13:31:29,267] Trial 10 finished with value: 208.64971953420982 and parameters: {'eta_g': 0.0014027986864469828, 'eta_l': 0.03542530780728509, 'alpha_g': 0.049448675046500704, 'alpha_l': 0.0075586207191912, 'alpha_mg': 0.04816022163506546, 'alpha_ml': 0.009223562294060798, 'gamma': 0.03424640243087923, 'k_g': 6, 'k_l': 3, 't': 7}. Best is trial 6 with value: 110.84799350290861.\n",
      "[I 2024-01-17 13:31:54,244] Trial 11 finished with value: 139.55729709987165 and parameters: {'eta_g': 0.048245306612726926, 'eta_l': 0.033910934400908324, 'alpha_g': 0.04804379800119583, 'alpha_l': 0.045612817824131936, 'alpha_mg': 0.048368327875083134, 'alpha_ml': 0.04269877848849162, 'gamma': 0.0498252460071818, 'k_g': 7, 'k_l': 10, 't': 2}. Best is trial 6 with value: 110.84799350290861.\n",
      "[I 2024-01-17 13:32:22,712] Trial 12 finished with value: 134.87678484729062 and parameters: {'eta_g': 0.012753933821752973, 'eta_l': 0.0011597903637278958, 'alpha_g': 0.03700517011447245, 'alpha_l': 0.023600734720314546, 'alpha_mg': 0.038261943814001664, 'alpha_ml': 0.015366567981937286, 'gamma': 0.02594876059060067, 'k_g': 6, 'k_l': 8, 't': 3}. Best is trial 6 with value: 110.84799350290861.\n",
      "[I 2024-01-17 13:32:43,560] Trial 13 finished with value: 113.214479051181 and parameters: {'eta_g': 0.047197794766871165, 'eta_l': 0.04852079043656739, 'alpha_g': 0.02932388880359391, 'alpha_l': 0.03931542650195825, 'alpha_mg': 0.03188411661553124, 'alpha_ml': 0.03518322285620147, 'gamma': 0.0012291120254242192, 'k_g': 8, 'k_l': 10, 't': 1}. Best is trial 6 with value: 110.84799350290861.\n",
      "[I 2024-01-17 13:33:09,356] Trial 14 finished with value: 144.25404495546243 and parameters: {'eta_g': 0.012118608869960766, 'eta_l': 0.04975576532494563, 'alpha_g': 0.040686114110668664, 'alpha_l': 0.033276663903803155, 'alpha_mg': 0.030644603968792834, 'alpha_ml': 0.03277145742638969, 'gamma': 0.0017263280420067193, 'k_g': 8, 'k_l': 6, 't': 3}. Best is trial 6 with value: 110.84799350290861.\n",
      "[I 2024-01-17 13:33:45,082] Trial 15 finished with value: 132.96696739977543 and parameters: {'eta_g': 0.014620765584216256, 'eta_l': 0.03954731026178493, 'alpha_g': 0.028526578839259336, 'alpha_l': 0.025912636104221193, 'alpha_mg': 0.013464612121007458, 'alpha_ml': 0.013369948768445569, 'gamma': 0.0013525615451863752, 'k_g': 5, 'k_l': 10, 't': 6}. Best is trial 6 with value: 110.84799350290861.\n",
      "[I 2024-01-17 13:34:07,475] Trial 16 finished with value: 99.70593905076191 and parameters: {'eta_g': 0.04070469401963912, 'eta_l': 0.04978387052812269, 'alpha_g': 0.012256250137731505, 'alpha_l': 0.049353828160732756, 'alpha_mg': 0.03173279938664563, 'alpha_ml': 0.0011443098035431483, 'gamma': 0.007128231422229436, 'k_g': 8, 'k_l': 3, 't': 2}. Best is trial 16 with value: 99.70593905076191.\n",
      "[I 2024-01-17 13:34:35,139] Trial 17 finished with value: 122.34067084050521 and parameters: {'eta_g': 0.038130208241410106, 'eta_l': 0.03201200022996899, 'alpha_g': 0.013424225404048331, 'alpha_l': 0.04848061829933999, 'alpha_mg': 0.042530062712535906, 'alpha_ml': 0.001389648222404595, 'gamma': 0.016645300107764403, 'k_g': 8, 'k_l': 3, 't': 4}. Best is trial 16 with value: 99.70593905076191.\n",
      "[I 2024-01-17 13:34:57,893] Trial 18 finished with value: 101.10375395414448 and parameters: {'eta_g': 0.04063138929665062, 'eta_l': 0.03959181175272244, 'alpha_g': 0.0031859863122435696, 'alpha_l': 0.004592900746754572, 'alpha_mg': 0.024885812720611977, 'alpha_ml': 0.0015125057891452705, 'gamma': 0.007655228405359486, 'k_g': 6, 'k_l': 5, 't': 2}. Best is trial 16 with value: 99.70593905076191.\n",
      "[I 2024-01-17 13:35:29,332] Trial 19 finished with value: 144.4041203825536 and parameters: {'eta_g': 0.04089077927850174, 'eta_l': 0.03941989207621041, 'alpha_g': 0.005546987701089291, 'alpha_l': 0.0015346756298833903, 'alpha_mg': 0.0011541642178736107, 'alpha_ml': 0.001352624258274512, 'gamma': 0.031110903792707426, 'k_g': 5, 'k_l': 5, 't': 5}. Best is trial 16 with value: 99.70593905076191.\n",
      "[I 2024-01-17 13:35:53,072] Trial 20 finished with value: 102.10192808987438 and parameters: {'eta_g': 0.041473043183646724, 'eta_l': 0.026911777103369037, 'alpha_g': 0.008912493413594624, 'alpha_l': 0.018729881402051597, 'alpha_mg': 0.023437678476099334, 'alpha_ml': 0.00807424961382662, 'gamma': 0.007557598081505744, 'k_g': 10, 'k_l': 5, 't': 2}. Best is trial 16 with value: 99.70593905076191.\n",
      "[I 2024-01-17 13:36:19,506] Trial 21 finished with value: 106.63374007041524 and parameters: {'eta_g': 0.04240747242186333, 'eta_l': 0.027966585123093156, 'alpha_g': 0.007925874887147924, 'alpha_l': 0.0190271292804777, 'alpha_mg': 0.02446090867007557, 'alpha_ml': 0.00734732945691853, 'gamma': 0.006455344294866603, 'k_g': 7, 'k_l': 5, 't': 3}. Best is trial 16 with value: 99.70593905076191.\n",
      "[I 2024-01-17 13:36:44,387] Trial 22 finished with value: 115.59892717150397 and parameters: {'eta_g': 0.04264712857830696, 'eta_l': 0.04054491872339603, 'alpha_g': 0.0014049926458664902, 'alpha_l': 0.015471233041933633, 'alpha_mg': 0.017815580058572405, 'alpha_ml': 0.011112017876332054, 'gamma': 0.007543289428802748, 'k_g': 10, 'k_l': 3, 't': 2}. Best is trial 16 with value: 99.70593905076191.\n",
      "[I 2024-01-17 13:37:08,465] Trial 23 finished with value: 107.37045334181573 and parameters: {'eta_g': 0.03603736491483876, 'eta_l': 0.0362555650038546, 'alpha_g': 0.014921896768964679, 'alpha_l': 0.006181924708944027, 'alpha_mg': 0.02649526954010216, 'alpha_ml': 0.0047346821360984065, 'gamma': 0.012987404878509985, 'k_g': 10, 'k_l': 6, 't': 2}. Best is trial 16 with value: 99.70593905076191.\n",
      "[I 2024-01-17 13:37:38,709] Trial 24 finished with value: 121.531890179575 and parameters: {'eta_g': 0.04418784567114504, 'eta_l': 0.021534022916547768, 'alpha_g': 0.008339819991125248, 'alpha_l': 0.029720297904393518, 'alpha_mg': 0.02103702995767768, 'alpha_ml': 0.0037393698236958296, 'gamma': 0.01816942485950218, 'k_g': 8, 'k_l': 5, 't': 4}. Best is trial 16 with value: 99.70593905076191.\n",
      "[I 2024-01-17 13:38:03,703] Trial 25 finished with value: 104.31849440562779 and parameters: {'eta_g': 0.034429959232201685, 'eta_l': 0.03133120133702999, 'alpha_g': 0.012830597541798518, 'alpha_l': 0.038559081319115215, 'alpha_mg': 0.035087846378280954, 'alpha_ml': 0.015020345652969253, 'gamma': 0.0071458508375507514, 'k_g': 9, 'k_l': 4, 't': 2}. Best is trial 16 with value: 99.70593905076191.\n",
      "[I 2024-01-17 13:38:26,468] Trial 26 finished with value: 99.30355226265144 and parameters: {'eta_g': 0.03955090736158796, 'eta_l': 0.04637300671287547, 'alpha_g': 0.00519727348406622, 'alpha_l': 0.012814884637092983, 'alpha_mg': 0.013779920730517209, 'alpha_ml': 0.009438793231005353, 'gamma': 0.01283316158145367, 'k_g': 5, 'k_l': 3, 't': 2}. Best is trial 26 with value: 99.30355226265144.\n",
      "[I 2024-01-17 13:38:54,413] Trial 27 finished with value: 122.25719274649659 and parameters: {'eta_g': 0.027577473789630238, 'eta_l': 0.04534341955051261, 'alpha_g': 0.003909438709974726, 'alpha_l': 0.005045410358824851, 'alpha_mg': 0.013567726754274402, 'alpha_ml': 0.0011064646956828162, 'gamma': 0.021403361383700366, 'k_g': 5, 'k_l': 3, 't': 4}. Best is trial 26 with value: 99.30355226265144.\n",
      "[I 2024-01-17 13:39:27,170] Trial 28 finished with value: 144.667054668389 and parameters: {'eta_g': 0.0495779560894781, 'eta_l': 0.048022690120759264, 'alpha_g': 0.017461834404224618, 'alpha_l': 0.014886219467778775, 'alpha_mg': 0.0038682926816775345, 'alpha_ml': 0.011504509262755754, 'gamma': 0.013520275991754436, 'k_g': 5, 'k_l': 3, 't': 6}. Best is trial 26 with value: 99.30355226265144.\n",
      "[I 2024-01-17 13:40:06,411] Trial 29 finished with value: 151.4653062200415 and parameters: {'eta_g': 0.018799159392829428, 'eta_l': 0.04182298024944303, 'alpha_g': 0.006235670727073896, 'alpha_l': 0.00929179959206949, 'alpha_mg': 0.01588542573610007, 'alpha_ml': 0.018875728935516575, 'gamma': 0.009241617105771418, 'k_g': 3, 'k_l': 4, 't': 8}. Best is trial 26 with value: 99.30355226265144.\n",
      "[I 2024-01-17 13:40:53,350] Trial 30 finished with value: 153.6039400431329 and parameters: {'eta_g': 0.03900747459445588, 'eta_l': 0.03830854785123593, 'alpha_g': 0.010714625671403803, 'alpha_l': 0.012491860563672451, 'alpha_mg': 0.020648081849663415, 'alpha_ml': 0.004307754789769235, 'gamma': 0.011256028267515662, 'k_g': 6, 'k_l': 3, 't': 10}. Best is trial 26 with value: 99.30355226265144.\n",
      "[I 2024-01-17 13:41:20,783] Trial 31 finished with value: 127.14840808287163 and parameters: {'eta_g': 0.044844585276865995, 'eta_l': 0.02339709087158099, 'alpha_g': 0.0013979963906559502, 'alpha_l': 0.019189995502883483, 'alpha_mg': 0.02775637901290034, 'alpha_ml': 0.008413623690375523, 'gamma': 0.006165601371332554, 'k_g': 7, 'k_l': 5, 't': 2}. Best is trial 26 with value: 99.30355226265144.\n",
      "[I 2024-01-17 13:41:50,123] Trial 32 finished with value: 105.6638116556452 and parameters: {'eta_g': 0.04023544699308948, 'eta_l': 0.028952116635484675, 'alpha_g': 0.00974595790392996, 'alpha_l': 0.020744042994332704, 'alpha_mg': 0.023329242017983188, 'alpha_ml': 0.006853602877917073, 'gamma': 0.015204262120321898, 'k_g': 4, 'k_l': 6, 't': 3}. Best is trial 26 with value: 99.30355226265144.\n",
      "[I 2024-01-17 13:42:16,481] Trial 33 finished with value: 108.2112781427568 and parameters: {'eta_g': 0.035200448167735404, 'eta_l': 0.043889124195143646, 'alpha_g': 0.005247572750578041, 'alpha_l': 0.029059895146420264, 'alpha_mg': 0.010647512904718104, 'alpha_ml': 0.010541929066859017, 'gamma': 0.010891379881988381, 'k_g': 10, 'k_l': 4, 't': 2}. Best is trial 26 with value: 99.30355226265144.\n",
      "[I 2024-01-17 13:42:45,588] Trial 34 finished with value: 110.09816138479383 and parameters: {'eta_g': 0.02849976861202204, 'eta_l': 0.047805010316087276, 'alpha_g': 0.01137720156232868, 'alpha_l': 0.023014494278910294, 'alpha_mg': 0.01882162343877036, 'alpha_ml': 0.00618870488308354, 'gamma': 0.00535793586603459, 'k_g': 9, 'k_l': 5, 't': 3}. Best is trial 26 with value: 99.30355226265144.\n",
      "[I 2024-01-17 13:43:09,505] Trial 35 finished with value: 99.17354273023786 and parameters: {'eta_g': 0.04546004871913619, 'eta_l': 0.036889453547656624, 'alpha_g': 0.016160970388428633, 'alpha_l': 0.012463984912073206, 'alpha_mg': 0.03391625403529627, 'alpha_ml': 0.0036466921733297394, 'gamma': 0.019384271405621798, 'k_g': 5, 'k_l': 7, 't': 2}. Best is trial 35 with value: 99.17354273023786.\n",
      "[I 2024-01-17 13:43:30,623] Trial 36 finished with value: 85.59131395724286 and parameters: {'eta_g': 0.04660904217222956, 'eta_l': 0.036519825959961755, 'alpha_g': 0.015693809347047425, 'alpha_l': 0.003926708929927079, 'alpha_mg': 0.042142618258918116, 'alpha_ml': 0.0033205059261165633, 'gamma': 0.019493987701241236, 'k_g': 5, 'k_l': 8, 't': 1}. Best is trial 36 with value: 85.59131395724286.\n",
      "[I 2024-01-17 13:43:49,625] Trial 37 finished with value: 88.87457835614933 and parameters: {'eta_g': 0.045773735176201064, 'eta_l': 0.03616634319933837, 'alpha_g': 0.02105541558790803, 'alpha_l': 0.01352592070498493, 'alpha_mg': 0.04223322939179882, 'alpha_ml': 0.004315915793843777, 'gamma': 0.01942986412971244, 'k_g': 5, 'k_l': 8, 't': 1}. Best is trial 36 with value: 85.59131395724286.\n",
      "[I 2024-01-17 13:44:08,304] Trial 38 finished with value: 92.8018212136191 and parameters: {'eta_g': 0.04553712476779206, 'eta_l': 0.0314476285414166, 'alpha_g': 0.023723244317859486, 'alpha_l': 0.012810191480671822, 'alpha_mg': 0.04342342321301014, 'alpha_ml': 0.017841938350071224, 'gamma': 0.01957394968996517, 'k_g': 5, 'k_l': 8, 't': 1}. Best is trial 36 with value: 85.59131395724286.\n",
      "[I 2024-01-17 13:44:26,644] Trial 39 finished with value: 90.3255002414264 and parameters: {'eta_g': 0.04589797003796364, 'eta_l': 0.03176628225156838, 'alpha_g': 0.023799254302991013, 'alpha_l': 0.01184071871037532, 'alpha_mg': 0.043709825420458016, 'alpha_ml': 0.022382550291714147, 'gamma': 0.022579172987591947, 'k_g': 4, 'k_l': 8, 't': 1}. Best is trial 36 with value: 85.59131395724286.\n",
      "[I 2024-01-17 13:44:45,187] Trial 40 finished with value: 92.53122942663411 and parameters: {'eta_g': 0.04970492500020889, 'eta_l': 0.030558172158554043, 'alpha_g': 0.022864428773263876, 'alpha_l': 0.004115450996259864, 'alpha_mg': 0.04395429160111699, 'alpha_ml': 0.026528617392799943, 'gamma': 0.024137358569092906, 'k_g': 3, 'k_l': 8, 't': 1}. Best is trial 36 with value: 85.59131395724286.\n",
      "[I 2024-01-17 13:45:03,548] Trial 41 finished with value: 92.89818023925714 and parameters: {'eta_g': 0.04931197791525033, 'eta_l': 0.03125515521828368, 'alpha_g': 0.023282914842552464, 'alpha_l': 0.003365845553683317, 'alpha_mg': 0.04383588518463573, 'alpha_ml': 0.027322730100980783, 'gamma': 0.023330076571188563, 'k_g': 3, 'k_l': 8, 't': 1}. Best is trial 36 with value: 85.59131395724286.\n",
      "[I 2024-01-17 13:45:22,392] Trial 42 finished with value: 91.21704528778709 and parameters: {'eta_g': 0.04642544065152941, 'eta_l': 0.033364636791572366, 'alpha_g': 0.02088306622186309, 'alpha_l': 0.007374827274672847, 'alpha_mg': 0.04251321344484602, 'alpha_ml': 0.025060209567274987, 'gamma': 0.028788544762831346, 'k_g': 4, 'k_l': 8, 't': 1}. Best is trial 36 with value: 85.59131395724286.\n",
      "[I 2024-01-17 13:45:41,676] Trial 43 finished with value: 89.6247118269871 and parameters: {'eta_g': 0.047456292250487836, 'eta_l': 0.03392533040466577, 'alpha_g': 0.01985446195332677, 'alpha_l': 0.008607667484180357, 'alpha_mg': 0.0406046948647065, 'alpha_ml': 0.0229438544636603, 'gamma': 0.028970301422638234, 'k_g': 4, 'k_l': 9, 't': 1}. Best is trial 36 with value: 85.59131395724286.\n",
      "[I 2024-01-17 13:46:01,122] Trial 44 finished with value: 90.8283892851114 and parameters: {'eta_g': 0.04722896349316771, 'eta_l': 0.03403639211894616, 'alpha_g': 0.019718943806973116, 'alpha_l': 0.008031204307916047, 'alpha_mg': 0.03989178592397049, 'alpha_ml': 0.023114828510114364, 'gamma': 0.02910700151373315, 'k_g': 4, 'k_l': 9, 't': 1}. Best is trial 36 with value: 85.59131395724286.\n"
     ]
    }
   ],
   "source": [
    "objective = Objective(corpus)\n",
    "study = optuna.create_study(direction='minimize') # 最大化\n",
    "study.optimize(objective, timeout=7200 * 2)\n",
    "\n",
    "# ベストパラメータを出力\n",
    "print('params:', study.best_params)"
   ]
  },
  {
   "cell_type": "code",
   "execution_count": null,
   "metadata": {},
   "outputs": [],
   "source": [
    "# print(KIND, study.best_params)\n",
    "KIND = 'LDA'\n",
    "params = {'tw': 0, 'k': 4, 'alpha': 0.02566824950078614, 'eta': 0.04823495632461025}\n",
    "# mdl = models[KIND](**study.best_params)\n",
    "mdl = models[KIND](**params)\n",
    "mdl.add_corpus(corpus)\n",
    "mdl.train(1000)\n",
    "# MGLDAModel\n",
    "mdl.save('C:/Users/yuuta/Documents/fashion/model_learning/topic_model/models/' + f'{KIND}.bin', True)"
   ]
  },
  {
   "cell_type": "code",
   "execution_count": null,
   "metadata": {},
   "outputs": [
    {
     "name": "stdout",
     "output_type": "stream",
     "text": [
      "Top 10 words of topic #0\n",
      "[('tops_Silk', 0.08674614131450653), ('shoes_geo', 0.04992065578699112), ('tops_White', 0.04979587346315384), ('tops_plaintops_Silk', 0.049421526491642), ('shoes_plain', 0.04735894873738289), ('shoes_Black', 0.04284476116299629), ('tops_Beige', 0.03963711857795715), ('tops_Black', 0.03942425549030304), ('tops_plainshoes_Silk', 0.03416871279478073), ('tops_Gray', 0.026072537526488304)]\n",
      "Top 10 words of topic #1\n",
      "[('shoes_geo', 0.05843142047524452), ('tops_Silk', 0.05638058856129646), ('shoes_plain', 0.05298145115375519), ('shoes_Black', 0.04472843185067177), ('bottoms_Blue', 0.04367108270525932), ('tops_Denim', 0.03834174573421478), ('tops_plainbottoms_Silk', 0.02993970736861229), ('tops_Wool', 0.02986874431371689), ('tops_plainbottoms_Denim', 0.0291307270526886), ('tops_White', 0.0255825687199831)]\n",
      "Top 10 words of topic #2\n",
      "[('bottoms_Denim', 0.060762979090213776), ('bottoms_Silk', 0.05448056012392044), ('shoes_geo', 0.05190655216574669), ('bottoms_Blue', 0.04831906408071518), ('shoes_Black', 0.04000968486070633), ('shoes_plain', 0.03855280950665474), ('tops_White', 0.03422248736023903), ('tops_plainshoes_Silk', 0.024646257981657982), ('shoes_White', 0.023684604093432426), ('tops_plainshoes_Denim', 0.020482929423451424)]\n",
      "Top 10 words of topic #3\n",
      "[('tops_Blue', 0.08242126554250717), ('tops_Denim', 0.06577372550964355), ('shoes_geo', 0.06035405769944191), ('tops_Silk', 0.05679740011692047), ('shoes_Black', 0.04874759912490845), ('shoes_plain', 0.047263167798519135), ('tops_White', 0.0461672805249691), ('tops_Black', 0.04498172923922539), ('tops_Navy', 0.03255833685398102), ('shoes_White', 0.0281648188829422)]\n"
     ]
    }
   ],
   "source": [
    "for k in range(mdl.k):\n",
    "    print('Top 10 words of topic #{}'.format(k))\n",
    "    print(mdl.get_topic_words(k, top_n=10))"
   ]
  }
 ],
 "metadata": {
  "kernelspec": {
   "display_name": "fashion",
   "language": "python",
   "name": "python3"
  },
  "language_info": {
   "codemirror_mode": {
    "name": "ipython",
    "version": 3
   },
   "file_extension": ".py",
   "mimetype": "text/x-python",
   "name": "python",
   "nbconvert_exporter": "python",
   "pygments_lexer": "ipython3",
   "version": "3.11.5"
  }
 },
 "nbformat": 4,
 "nbformat_minor": 2
}
