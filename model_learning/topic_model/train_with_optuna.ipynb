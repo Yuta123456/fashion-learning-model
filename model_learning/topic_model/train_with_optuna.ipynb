{
 "cells": [
  {
   "cell_type": "code",
   "execution_count": 26,
   "metadata": {},
   "outputs": [],
   "source": [
    "import sys\n",
    "import tomotopy as tp\n",
    "import numpy as np\n",
    "import optuna"
   ]
  },
  {
   "cell_type": "code",
   "execution_count": 27,
   "metadata": {},
   "outputs": [],
   "source": [
    "models = {\n",
    "    'LDA': tp.LDAModel,\n",
    "    'MGLDA': tp.MGLDAModel,\n",
    "    'CT': tp.CTModel,\n",
    "}\n",
    "model_params = {\n",
    "    'LDA': {\n",
    "        'tw': ['tw', 0, 2],\n",
    "        'k': ['k', 1, 10],\n",
    "        'alpha': ['alpha', 0.001, 0.05],\n",
    "        'eta': ['eta', 0.001, 0.05],\n",
    "    },\n",
    "    'CT': {\n",
    "        'tw': ['tw', 0, 2],\n",
    "        'k': ['k', 1, 10],\n",
    "        'smoothing_alpha': ['smoothing_alpha', 0.001, 0.05],\n",
    "        'eta': ['eta', 0.001, 0.05],\n",
    "    },\n",
    "    'MGLDA': {\n",
    "        'eta_g': ['eta_g', 0.001, 0.05],\n",
    "        'eta_l': ['eta_l', 0.001, 0.05],\n",
    "\n",
    "        'alpha_g': ['alpha_g', 0.001, 0.05],\n",
    "        'alpha_l': ['alpha_l', 0.001, 0.05],\n",
    "        'alpha_mg': ['alpha_mg', 0.001, 0.05],\n",
    "        'alpha_ml':['alpha_ml', 0.001, 0.05],\n",
    "        'gamma': ['gamma', 0.001, 0.05],\n",
    "\n",
    "        'k_g': ['k_g', 3, 10],\n",
    "        'k_l': ['k_l', 3, 10],\n",
    "        't': ['t', 1, 10],\n",
    "    },\n",
    "}"
   ]
  },
  {
   "cell_type": "code",
   "execution_count": 28,
   "metadata": {},
   "outputs": [],
   "source": [
    "KIND = 'LDA'"
   ]
  },
  {
   "cell_type": "code",
   "execution_count": 29,
   "metadata": {},
   "outputs": [],
   "source": [
    "def to_trial(trial, p):\n",
    "    if type(p[1]) is int and type(p[2]) is int:\n",
    "        return trial.suggest_int(*p)\n",
    "    return trial.suggest_float(*p)\n",
    "\n",
    "class Objective:\n",
    "    def __init__(self, corpus):\n",
    "        # 変数X,yの初期化\n",
    "        self.corpus = corpus\n",
    "\n",
    "    def __call__(self, trial):\n",
    "        # ハイパーパラメータの設定\n",
    "        params = {}\n",
    "        for key, p in model_params[KIND].items():\n",
    "            params[key] = to_trial(trial, p)\n",
    "        mdl = models[KIND](**params)\n",
    "        mdl.add_corpus(self.corpus)\n",
    "        mdl.train(1000)\n",
    "        # 評価指標として正解率の最大化を目指す\n",
    "        \n",
    "        return mdl.perplexity"
   ]
  },
  {
   "cell_type": "code",
   "execution_count": 30,
   "metadata": {},
   "outputs": [
    {
     "data": {
      "text/plain": [
       "<tomotopy.LDAModel at 0x2134e374030>"
      ]
     },
     "execution_count": 30,
     "metadata": {},
     "output_type": "execute_result"
    }
   ],
   "source": [
    "models[KIND](k=3)"
   ]
  },
  {
   "cell_type": "code",
   "execution_count": 31,
   "metadata": {},
   "outputs": [
    {
     "name": "stdout",
     "output_type": "stream",
     "text": [
      "Running LDA\n"
     ]
    }
   ],
   "source": [
    "with open('C:/Users/yuuta/Documents/fashion/model_learning/topic_model/train.txt', 'r', encoding=\"utf-8\") as f:\n",
    "    input_lines = f.read().splitlines()\n",
    "\n",
    "print('Running LDA')\n",
    "\n",
    "corpus = tp.utils.Corpus()\n",
    "for line in input_lines:\n",
    "    line = list(map(lambda x: x.strip(), line.split(',')))\n",
    "    corpus.add_doc(line)"
   ]
  },
  {
   "cell_type": "code",
   "execution_count": 32,
   "metadata": {},
   "outputs": [
    {
     "name": "stderr",
     "output_type": "stream",
     "text": [
      "[I 2024-01-13 15:34:26,657] A new study created in memory with name: no-name-1f5c643b-9a00-4c0b-a050-822a71b90b62\n",
      "[I 2024-01-13 15:34:48,524] Trial 0 finished with value: 135.68720308495466 and parameters: {'tw': 2, 'k': 8, 'alpha': 0.036391676771514704, 'eta': 0.00875386903257592}. Best is trial 0 with value: 135.68720308495466.\n",
      "[I 2024-01-13 15:35:11,308] Trial 1 finished with value: 170.24823082992492 and parameters: {'tw': 1, 'k': 6, 'alpha': 0.02172933683389644, 'eta': 0.032200784227534654}. Best is trial 0 with value: 135.68720308495466.\n",
      "[I 2024-01-13 15:35:35,309] Trial 2 finished with value: 103.30985772931699 and parameters: {'tw': 0, 'k': 2, 'alpha': 0.013547907369925297, 'eta': 0.012007744184023793}. Best is trial 2 with value: 103.30985772931699.\n",
      "[I 2024-01-13 15:35:58,102] Trial 3 finished with value: 101.5056231316964 and parameters: {'tw': 0, 'k': 7, 'alpha': 0.04674808995822662, 'eta': 0.013386335975764548}. Best is trial 3 with value: 101.5056231316964.\n",
      "[I 2024-01-13 15:36:20,977] Trial 4 finished with value: 194.91863218188797 and parameters: {'tw': 2, 'k': 1, 'alpha': 0.028838615791634686, 'eta': 0.0060688655204316905}. Best is trial 3 with value: 101.5056231316964.\n",
      "[I 2024-01-13 15:36:43,093] Trial 5 finished with value: 198.00022239263433 and parameters: {'tw': 1, 'k': 3, 'alpha': 0.016590686437617963, 'eta': 0.04010269062283183}. Best is trial 3 with value: 101.5056231316964.\n",
      "[I 2024-01-13 15:37:06,526] Trial 6 finished with value: 107.95922305511822 and parameters: {'tw': 0, 'k': 10, 'alpha': 0.004948228268725386, 'eta': 0.019875620417681927}. Best is trial 3 with value: 101.5056231316964.\n",
      "[I 2024-01-13 15:37:28,684] Trial 7 finished with value: 139.6760623734642 and parameters: {'tw': 2, 'k': 8, 'alpha': 0.03842216307048333, 'eta': 0.016292045669794343}. Best is trial 3 with value: 101.5056231316964.\n",
      "[I 2024-01-13 15:37:50,357] Trial 8 finished with value: 149.5057356455119 and parameters: {'tw': 1, 'k': 8, 'alpha': 0.0235921629099037, 'eta': 0.029564378190789196}. Best is trial 3 with value: 101.5056231316964.\n",
      "[I 2024-01-13 15:38:16,333] Trial 9 finished with value: 98.77921347802341 and parameters: {'tw': 0, 'k': 9, 'alpha': 0.048982573479035584, 'eta': 0.027434695300592605}. Best is trial 9 with value: 98.77921347802341.\n",
      "[I 2024-01-13 15:38:43,793] Trial 10 finished with value: 100.01396951471266 and parameters: {'tw': 0, 'k': 10, 'alpha': 0.04710870826475958, 'eta': 0.047252797748939354}. Best is trial 9 with value: 98.77921347802341.\n",
      "[I 2024-01-13 15:39:06,843] Trial 11 finished with value: 101.65882878221194 and parameters: {'tw': 0, 'k': 10, 'alpha': 0.047727589110315174, 'eta': 0.049875964714581764}. Best is trial 9 with value: 98.77921347802341.\n",
      "[I 2024-01-13 15:39:39,435] Trial 12 finished with value: 101.96847377255605 and parameters: {'tw': 0, 'k': 10, 'alpha': 0.0499390023354971, 'eta': 0.047078591438314235}. Best is trial 9 with value: 98.77921347802341.\n",
      "[I 2024-01-13 15:40:17,595] Trial 13 finished with value: 102.13974911537326 and parameters: {'tw': 0, 'k': 4, 'alpha': 0.03916928581820018, 'eta': 0.03882656441993177}. Best is trial 9 with value: 98.77921347802341.\n",
      "[I 2024-01-13 15:40:59,391] Trial 14 finished with value: 140.31670258858819 and parameters: {'tw': 1, 'k': 9, 'alpha': 0.03197424638656028, 'eta': 0.02390497311617707}. Best is trial 9 with value: 98.77921347802341.\n",
      "[I 2024-01-13 15:41:38,858] Trial 15 finished with value: 105.97269659142299 and parameters: {'tw': 0, 'k': 6, 'alpha': 0.042447573351166466, 'eta': 0.0010803310541775066}. Best is trial 9 with value: 98.77921347802341.\n",
      "[I 2024-01-13 15:42:20,800] Trial 16 finished with value: 146.81369266650302 and parameters: {'tw': 1, 'k': 9, 'alpha': 0.04321614887862112, 'eta': 0.039407419569854336}. Best is trial 9 with value: 98.77921347802341.\n",
      "[I 2024-01-13 15:42:59,163] Trial 17 finished with value: 99.84902231034464 and parameters: {'tw': 0, 'k': 5, 'alpha': 0.03100903915167515, 'eta': 0.03231288709038727}. Best is trial 9 with value: 98.77921347802341.\n",
      "[I 2024-01-13 15:43:33,378] Trial 18 finished with value: 195.50839002560116 and parameters: {'tw': 1, 'k': 4, 'alpha': 0.03292166816237132, 'eta': 0.03167331233088582}. Best is trial 9 with value: 98.77921347802341.\n",
      "[I 2024-01-13 15:43:58,552] Trial 19 finished with value: 101.12475641244649 and parameters: {'tw': 0, 'k': 5, 'alpha': 0.003897796947573629, 'eta': 0.023775917800409937}. Best is trial 9 with value: 98.77921347802341.\n",
      "[I 2024-01-13 15:44:22,789] Trial 20 finished with value: 178.2738911738312 and parameters: {'tw': 1, 'k': 5, 'alpha': 0.01815505146081526, 'eta': 0.027573492441347696}. Best is trial 9 with value: 98.77921347802341.\n",
      "[I 2024-01-13 15:44:45,397] Trial 21 finished with value: 100.8294047553833 and parameters: {'tw': 0, 'k': 7, 'alpha': 0.04343134707259902, 'eta': 0.03622494504996078}. Best is trial 9 with value: 98.77921347802341.\n",
      "[I 2024-01-13 15:45:08,328] Trial 22 finished with value: 100.25747333107869 and parameters: {'tw': 0, 'k': 9, 'alpha': 0.029038139716954476, 'eta': 0.04588768500345625}. Best is trial 9 with value: 98.77921347802341.\n",
      "[I 2024-01-13 15:45:31,381] Trial 23 finished with value: 98.75884771896392 and parameters: {'tw': 0, 'k': 7, 'alpha': 0.044431358109273636, 'eta': 0.03450120219703704}. Best is trial 23 with value: 98.75884771896392.\n",
      "[I 2024-01-13 15:45:54,017] Trial 24 finished with value: 100.15507078066369 and parameters: {'tw': 0, 'k': 7, 'alpha': 0.03530266849686489, 'eta': 0.0341749322574051}. Best is trial 23 with value: 98.75884771896392.\n",
      "[I 2024-01-13 15:46:16,403] Trial 25 finished with value: 104.67156755603331 and parameters: {'tw': 0, 'k': 6, 'alpha': 0.0426063618502617, 'eta': 0.021254509913874876}. Best is trial 23 with value: 98.75884771896392.\n",
      "[I 2024-01-13 15:46:39,263] Trial 26 finished with value: 96.26448460947522 and parameters: {'tw': 0, 'k': 7, 'alpha': 0.009885605922698458, 'eta': 0.027280102038699804}. Best is trial 26 with value: 96.26448460947522.\n",
      "[I 2024-01-13 15:47:04,383] Trial 27 finished with value: 158.46547192498375 and parameters: {'tw': 1, 'k': 7, 'alpha': 0.009057342215376643, 'eta': 0.026546012414850714}. Best is trial 26 with value: 96.26448460947522.\n",
      "[I 2024-01-13 15:47:26,524] Trial 28 finished with value: 105.48890723565712 and parameters: {'tw': 0, 'k': 8, 'alpha': 0.007837725999158569, 'eta': 0.04259113031747245}. Best is trial 26 with value: 96.26448460947522.\n",
      "[I 2024-01-13 15:47:49,517] Trial 29 finished with value: 138.529030069875 and parameters: {'tw': 2, 'k': 9, 'alpha': 0.012143523659506293, 'eta': 0.019401361094173966}. Best is trial 26 with value: 96.26448460947522.\n",
      "[I 2024-01-13 15:48:10,427] Trial 30 finished with value: 100.28694705917265 and parameters: {'tw': 0, 'k': 8, 'alpha': 0.036674419368759405, 'eta': 0.03554675175097068}. Best is trial 26 with value: 96.26448460947522.\n",
      "[I 2024-01-13 15:48:32,249] Trial 31 finished with value: 100.2477519858944 and parameters: {'tw': 0, 'k': 5, 'alpha': 0.0011335928513656161, 'eta': 0.030186528666260863}. Best is trial 26 with value: 96.26448460947522.\n",
      "[I 2024-01-13 15:48:53,953] Trial 32 finished with value: 101.81037907694288 and parameters: {'tw': 0, 'k': 4, 'alpha': 0.019679724665226096, 'eta': 0.028168162101861266}. Best is trial 26 with value: 96.26448460947522.\n",
      "[I 2024-01-13 15:49:16,052] Trial 33 finished with value: 100.75817582313285 and parameters: {'tw': 0, 'k': 6, 'alpha': 0.02925290084325517, 'eta': 0.03300241690524823}. Best is trial 26 with value: 96.26448460947522.\n",
      "[I 2024-01-13 15:49:38,507] Trial 34 finished with value: 99.95144301470619 and parameters: {'tw': 0, 'k': 7, 'alpha': 0.0240868001909642, 'eta': 0.025083135743646325}. Best is trial 26 with value: 96.26448460947522.\n",
      "[I 2024-01-13 15:49:59,594] Trial 35 finished with value: 100.29941221411507 and parameters: {'tw': 0, 'k': 3, 'alpha': 0.03982864464562, 'eta': 0.031134008856302665}. Best is trial 26 with value: 96.26448460947522.\n",
      "[I 2024-01-13 15:50:22,069] Trial 36 finished with value: 157.649248723115 and parameters: {'tw': 1, 'k': 6, 'alpha': 0.049415666134536324, 'eta': 0.036717835229145075}. Best is trial 26 with value: 96.26448460947522.\n",
      "[I 2024-01-13 15:50:44,822] Trial 37 finished with value: 101.2250739561781 and parameters: {'tw': 0, 'k': 7, 'alpha': 0.04561137226484156, 'eta': 0.015975232752241483}. Best is trial 26 with value: 96.26448460947522.\n",
      "[I 2024-01-13 15:51:12,503] Trial 38 finished with value: 103.925304014678 and parameters: {'tw': 0, 'k': 1, 'alpha': 0.0265282091710133, 'eta': 0.0425740921171759}. Best is trial 26 with value: 96.26448460947522.\n",
      "[I 2024-01-13 15:51:34,491] Trial 39 finished with value: 150.56452226820144 and parameters: {'tw': 1, 'k': 8, 'alpha': 0.012829654127537993, 'eta': 0.021175287673051768}. Best is trial 26 with value: 96.26448460947522.\n",
      "[I 2024-01-13 15:51:57,205] Trial 40 finished with value: 103.2082329372266 and parameters: {'tw': 0, 'k': 5, 'alpha': 0.015230688693503313, 'eta': 0.03323866543090672}. Best is trial 26 with value: 96.26448460947522.\n",
      "[I 2024-01-13 15:52:20,016] Trial 41 finished with value: 98.42000627883019 and parameters: {'tw': 0, 'k': 7, 'alpha': 0.02335489192902561, 'eta': 0.025855215622340826}. Best is trial 26 with value: 96.26448460947522.\n",
      "[I 2024-01-13 15:52:45,099] Trial 42 finished with value: 103.88858078390675 and parameters: {'tw': 0, 'k': 6, 'alpha': 0.02074821686689561, 'eta': 0.02780554637834166}. Best is trial 26 with value: 96.26448460947522.\n",
      "[I 2024-01-13 15:53:10,858] Trial 43 finished with value: 96.39095690437127 and parameters: {'tw': 0, 'k': 7, 'alpha': 0.03389864685904777, 'eta': 0.022988990505792277}. Best is trial 26 with value: 96.26448460947522.\n",
      "[I 2024-01-13 15:53:31,791] Trial 44 finished with value: 97.62214977390063 and parameters: {'tw': 0, 'k': 8, 'alpha': 0.045416809002766664, 'eta': 0.01834863716048763}. Best is trial 26 with value: 96.26448460947522.\n",
      "[I 2024-01-13 15:53:54,584] Trial 45 finished with value: 103.90482834818279 and parameters: {'tw': 0, 'k': 7, 'alpha': 0.03441440016854544, 'eta': 0.008487432268421989}. Best is trial 26 with value: 96.26448460947522.\n",
      "[I 2024-01-13 15:54:15,659] Trial 46 finished with value: 102.28239048549992 and parameters: {'tw': 0, 'k': 8, 'alpha': 0.045690540270763635, 'eta': 0.017042851281575795}. Best is trial 26 with value: 96.26448460947522.\n",
      "[I 2024-01-13 15:54:38,491] Trial 47 finished with value: 102.74136415733648 and parameters: {'tw': 0, 'k': 7, 'alpha': 0.04107857495347562, 'eta': 0.013112714950686862}. Best is trial 26 with value: 96.26448460947522.\n",
      "[I 2024-01-13 15:54:59,728] Trial 48 finished with value: 97.94001460825638 and parameters: {'tw': 0, 'k': 8, 'alpha': 0.037934740234989106, 'eta': 0.02289803697153541}. Best is trial 26 with value: 96.26448460947522.\n",
      "[I 2024-01-13 15:55:22,296] Trial 49 finished with value: 150.94988310599916 and parameters: {'tw': 2, 'k': 8, 'alpha': 0.03658389567441977, 'eta': 0.022897977588530634}. Best is trial 26 with value: 96.26448460947522.\n",
      "[I 2024-01-13 15:55:46,554] Trial 50 finished with value: 99.66581045432737 and parameters: {'tw': 0, 'k': 9, 'alpha': 0.02638854783031934, 'eta': 0.018223469382621205}. Best is trial 26 with value: 96.26448460947522.\n",
      "[I 2024-01-13 15:56:09,057] Trial 51 finished with value: 99.20887669343593 and parameters: {'tw': 0, 'k': 8, 'alpha': 0.044600347221217376, 'eta': 0.014804091856748115}. Best is trial 26 with value: 96.26448460947522.\n",
      "[I 2024-01-13 15:56:33,150] Trial 52 finished with value: 96.31805797623777 and parameters: {'tw': 0, 'k': 7, 'alpha': 0.039639120050518506, 'eta': 0.021535500994893993}. Best is trial 26 with value: 96.26448460947522.\n",
      "[I 2024-01-13 15:56:55,557] Trial 53 finished with value: 104.39451756986031 and parameters: {'tw': 0, 'k': 8, 'alpha': 0.03809812310246336, 'eta': 0.022034185487843215}. Best is trial 26 with value: 96.26448460947522.\n",
      "[I 2024-01-13 15:57:18,735] Trial 54 finished with value: 102.00729506789024 and parameters: {'tw': 0, 'k': 6, 'alpha': 0.04071975457557037, 'eta': 0.02486815197848025}. Best is trial 26 with value: 96.26448460947522.\n",
      "[I 2024-01-13 15:57:41,874] Trial 55 finished with value: 100.97874906144364 and parameters: {'tw': 0, 'k': 7, 'alpha': 0.032275775114759445, 'eta': 0.010560903694616548}. Best is trial 26 with value: 96.26448460947522.\n",
      "[I 2024-01-13 15:58:04,767] Trial 56 finished with value: 143.81533807943265 and parameters: {'tw': 1, 'k': 9, 'alpha': 0.03424384887585309, 'eta': 0.019618517200436957}. Best is trial 26 with value: 96.26448460947522.\n"
     ]
    }
   ],
   "source": [
    "objective = Objective(corpus)\n",
    "study = optuna.create_study(direction='minimize') # 最大化\n",
    "study.optimize(objective, timeout=7200 * 2)\n",
    "\n",
    "# ベストパラメータを出力\n",
    "print('params:', study.best_params)"
   ]
  },
  {
   "cell_type": "code",
   "execution_count": null,
   "metadata": {},
   "outputs": [
    {
     "name": "stdout",
     "output_type": "stream",
     "text": [
      "{'eta': 0.04904295572460257, 'alpha_g': 0.005906699085893546, 'alpha_l': 0.044259914451423986, 'alpha_mg': 0.04611549341559861, 'alpha_ml': 0.0010281711694367847, 'k_g': 4, 'k_l': 3, 't': 1}\n"
     ]
    }
   ],
   "source": [
    "print(KIND, study.best_params)\n",
    "mdl = models[KIND](**study.best_params)\n",
    "# mdl = tp.CTModel(**params)\n",
    "mdl.add_corpus(corpus)\n",
    "mdl.train(1000)\n",
    "# MGLDAModel\n",
    "mdl.save('C:/Users/yuuta/Documents/fashion/model_learning/topic_model/models/' + f'{KIND}.bin', True)"
   ]
  },
  {
   "cell_type": "code",
   "execution_count": null,
   "metadata": {},
   "outputs": [],
   "source": []
  },
  {
   "cell_type": "code",
   "execution_count": null,
   "metadata": {},
   "outputs": [
    {
     "name": "stdout",
     "output_type": "stream",
     "text": [
      "Top 10 words of topic #0\n",
      "[('tops_Silk', 0.053122829645872116), ('bottoms_Blue', 0.0451885461807251), ('tops_White', 0.0429576113820076), ('shoes_geo', 0.038999803364276886), ('tops_Denim', 0.03167225793004036), ('shoes_plain', 0.030953506007790565), ('shoes_Black', 0.03044944442808628), ('tops_plainbottoms_Silk', 0.023476608097553253), ('tops_plainbottoms_Denim', 0.021777737885713577), ('tops_Black', 0.019621478393673897)]\n",
      "Top 10 words of topic #1\n",
      "[('tops_Silk', 0.07015150040388107), ('tops_White', 0.06482736766338348), ('tops_Blue', 0.05684599280357361), ('tops_Black', 0.04528943449258804), ('tops_Denim', 0.04362745210528374), ('shoes_geo', 0.04144369065761566), ('shoes_Black', 0.035201601684093475), ('shoes_plain', 0.030070722103118896), ('tops_plaintops_Silk', 0.028688959777355194), ('tops_Navy', 0.02839907817542553)]\n",
      "Top 10 words of topic #2\n",
      "[('bottoms_Denim', 0.06662385910749435), ('bottoms_Silk', 0.06299417465925217), ('shoes_geo', 0.05615757033228874), ('bottoms_Blue', 0.04984686151146889), ('tops_White', 0.04355677217245102), ('shoes_plain', 0.03934963792562485), ('shoes_Black', 0.034245386719703674), ('bottoms_plaintops_Silk', 0.024016262963414192), ('shoes_White', 0.023211956024169922), ('tops_plainshoes_Silk', 0.021428046748042107)]\n",
      "Top 10 words of topic #3\n",
      "[('tops_Silk', 0.08120633661746979), ('tops_White', 0.05352227762341499), ('shoes_geo', 0.053327906876802444), ('shoes_plain', 0.0480521060526371), ('tops_plaintops_Silk', 0.04410913959145546), ('shoes_Black', 0.03958306089043617), ('tops_Beige', 0.03632039576768875), ('tops_Black', 0.036042720079422), ('tops_plainshoes_Silk', 0.03114178031682968), ('tops_Gray', 0.03103071078658104)]\n"
     ]
    }
   ],
   "source": [
    "for k in range(mdl.k):\n",
    "    print('Top 10 words of topic #{}'.format(k))\n",
    "    print(mdl.get_topic_words(k, top_n=10))"
   ]
  }
 ],
 "metadata": {
  "kernelspec": {
   "display_name": "fashion",
   "language": "python",
   "name": "python3"
  },
  "language_info": {
   "codemirror_mode": {
    "name": "ipython",
    "version": 3
   },
   "file_extension": ".py",
   "mimetype": "text/x-python",
   "name": "python",
   "nbconvert_exporter": "python",
   "pygments_lexer": "ipython3",
   "version": "3.11.5"
  }
 },
 "nbformat": 4,
 "nbformat_minor": 2
}
