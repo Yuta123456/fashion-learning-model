{
 "cells": [
  {
   "cell_type": "code",
   "execution_count": 1,
   "metadata": {},
   "outputs": [],
   "source": [
    "import json\n",
    "import random\n",
    "import pandas as pd\n",
    "import glob\n",
    "import os\n",
    "import sys\n",
    "import matplotlib.pyplot as plt\n",
    "\n",
    "sys.path.append( \"..\")\n",
    "sys.path.append(\"../..\")\n",
    "from utils.util import can_open_images, open_json\n",
    "from utils.util import is_target_category"
   ]
  },
  {
   "cell_type": "code",
   "execution_count": 2,
   "metadata": {},
   "outputs": [],
   "source": [
    "filepaths = glob.glob('C:/Users/yuuta/Documents/fashion/data/test/**/*.json')"
   ]
  },
  {
   "cell_type": "code",
   "execution_count": 4,
   "metadata": {},
   "outputs": [],
   "source": [
    "from utils.util import get_category\n",
    "\n",
    "items = {\"tops\": [], \"bottoms\": [], \"shoes\": []}\n",
    "for fp in filepaths:\n",
    "    json_dict = open_json(fp)\n",
    "    if json_dict == None:\n",
    "        continue\n",
    "    for item in filter(is_target_category, json_dict[\"items\"]):\n",
    "        category = get_category(item)\n",
    "        if category == None:\n",
    "            continue\n",
    "        items[category].append(item)"
   ]
  },
  {
   "cell_type": "code",
   "execution_count": null,
   "metadata": {},
   "outputs": [],
   "source": [
    "random_items = items[\"tops\"] + items[\"bottoms\"] + items[\"shoes\"]\n",
    "\n",
    "for i in range(100000):\n",
    "    # tops = random.choice(items[\"tops\"])\n",
    "    # bottoms = random.choice(items[\"bottoms\"])\n",
    "    # shoes = random.choice(items[\"shoes\"])\n",
    "    # coordinate = {\"items\": [tops, bottoms, shoes]}\n",
    "    coordinate = {\"items\": random.sample(random_items, 3)}\n",
    "    \n",
    "    with open(\n",
    "        f\"C:/Users/yuuta/Documents/fashion/data/negative_coordinates_random/{random.randint(10000000, 1000000000)}.json\",\n",
    "        \"w\",\n",
    "        encoding='shift-jis'\n",
    "    ) as f:\n",
    "        json.dump(coordinate, f, ensure_ascii=False)\n",
    "    if i % 100 == 0:\n",
    "        print(f\"{i / 100}%終わり\")\n",
    "    "
   ]
  },
  {
   "cell_type": "code",
   "execution_count": null,
   "metadata": {},
   "outputs": [],
   "source": []
  },
  {
   "cell_type": "code",
   "execution_count": null,
   "metadata": {},
   "outputs": [],
   "source": []
  }
 ],
 "metadata": {
  "kernelspec": {
   "display_name": "fashion",
   "language": "python",
   "name": "python3"
  },
  "language_info": {
   "codemirror_mode": {
    "name": "ipython",
    "version": 3
   },
   "file_extension": ".py",
   "mimetype": "text/x-python",
   "name": "python",
   "nbconvert_exporter": "python",
   "pygments_lexer": "ipython3",
   "version": "3.11.5"
  }
 },
 "nbformat": 4,
 "nbformat_minor": 2
}
