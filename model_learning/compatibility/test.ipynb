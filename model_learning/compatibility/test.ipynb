{
 "cells": [
  {
   "cell_type": "code",
   "execution_count": 13,
   "metadata": {},
   "outputs": [],
   "source": [
    "\n",
    "import sys\n",
    "import os\n",
    "import random\n",
    "import glob\n",
    "import torch\n",
    "import pandas as pd\n",
    "sys.path.append(\"C:/Users/yuuta/Documents/fashion\")\n",
    "from utils.util import filter_basic_items, open_json\n",
    "from utils.util import is_target_category\n",
    "from utils.util import calculate_euclid_sum\n",
    "# from utils.infer import id_to_vector\n",
    "from utils.util import calc_roc_auc"
   ]
  },
  {
   "cell_type": "code",
   "execution_count": 14,
   "metadata": {},
   "outputs": [
    {
     "data": {
      "text/plain": [
       "<module 'utils.util' from 'C:\\\\Users/yuuta/Documents/fashion\\\\utils\\\\util.py'>"
      ]
     },
     "execution_count": 14,
     "metadata": {},
     "output_type": "execute_result"
    }
   ],
   "source": [
    "import importlib\n",
    "import utils\n",
    "importlib.reload(utils.util)"
   ]
  },
  {
   "cell_type": "code",
   "execution_count": 15,
   "metadata": {},
   "outputs": [],
   "source": [
    "if torch.cuda.is_available():\n",
    "    device = torch.device(\"cuda\")  # GPUデバイスを取得\n",
    "else:\n",
    "    device = torch.device(\"cpu\")  # CPUデバイスを取得"
   ]
  },
  {
   "cell_type": "code",
   "execution_count": 17,
   "metadata": {},
   "outputs": [],
   "source": [
    "negative_path = glob.glob(\n",
    "    # \"C:/Users/yuuta/Documents/fashion/model_learning/compatibility/data/negative_coordinates/**.json\"\n",
    "    \"C:/Users/yuuta/Documents/fashion/model_learning/compatibility/data/negative_coordinates_random/**.json\"\n",
    "    # \"C:/Users/yuuta/Documents/fashion/data/test/**/*.json\"\n",
    "    # negative_coordinates_random\n",
    ")\n",
    "positive_path = glob.glob(\n",
    "    \"C:/Users/yuuta/Documents/fashion/data/test/**/*.json\"\n",
    ")\n",
    "negative_path = random.sample(negative_path, 10000)\n",
    "positive_path = random.sample(positive_path, 20000)"
   ]
  },
  {
   "cell_type": "code",
   "execution_count": 18,
   "metadata": {},
   "outputs": [
    {
     "name": "stdout",
     "output_type": "stream",
     "text": [
      "10000 20000\n"
     ]
    }
   ],
   "source": [
    "print(len(negative_path), len(positive_path))"
   ]
  },
  {
   "cell_type": "code",
   "execution_count": 19,
   "metadata": {},
   "outputs": [],
   "source": [
    "id_to_vector = open_json('C:/Users/yuuta/Documents/fashion/model_learning/compatibility/data/id_to_vector.json')"
   ]
  },
  {
   "cell_type": "code",
   "execution_count": 20,
   "metadata": {},
   "outputs": [],
   "source": [
    "\n",
    "labels = []\n",
    "proposal_score = []\n",
    "positive_ave = 0\n",
    "negative_ave = 0"
   ]
  },
  {
   "cell_type": "code",
   "execution_count": 21,
   "metadata": {},
   "outputs": [
    {
     "name": "stdout",
     "output_type": "stream",
     "text": [
      "positive fin average: 206.2220001220703\n"
     ]
    }
   ],
   "source": [
    "from utils.util import calculate_euclid_max\n",
    "p_cnt = 0\n",
    "for fp in positive_path:\n",
    "    json_dict = open_json(fp)\n",
    "    items = filter_basic_items(json_dict[\"items\"])\n",
    "    vectors = []\n",
    "    for item in items:\n",
    "        try:\n",
    "            itemId = str(item[\"itemId\"])\n",
    "        except Exception as e:\n",
    "            print(fp, \" : \", e)\n",
    "            continue\n",
    "        vector = id_to_vector[itemId]\n",
    "        vectors.append(torch.tensor(vector))\n",
    "    if len(vectors) != 3:\n",
    "        continue\n",
    "    ps = calculate_euclid_max(vectors)\n",
    "    proposal_score.append(ps.to(\"cpu\"))\n",
    "    p_cnt += 1\n",
    "    labels.append(0)\n",
    "    positive_ave += ps\n",
    "positive_ave /= p_cnt\n",
    "print(f\"positive fin average: {positive_ave}\")"
   ]
  },
  {
   "cell_type": "code",
   "execution_count": 22,
   "metadata": {},
   "outputs": [
    {
     "name": "stdout",
     "output_type": "stream",
     "text": [
      "tensor(206.2220) tensor(234.9235)\n"
     ]
    }
   ],
   "source": [
    "n_cnt = 0\n",
    "for fp in negative_path:\n",
    "    json_dict = open_json(fp)\n",
    "    items = filter_basic_items(json_dict[\"items\"])\n",
    "    vectors = []\n",
    "    for item in items:\n",
    "        try:\n",
    "            itemId = str(item[\"itemId\"]) \n",
    "        except Exception as e:\n",
    "            print(fp, \" : \", e)\n",
    "            continue\n",
    "        vector = id_to_vector[itemId]\n",
    "        vectors.append(torch.tensor(vector))\n",
    "        \n",
    "    if len(vectors) != 3:\n",
    "        continue\n",
    "    # print(len(vectors), vectors[0].shape)\n",
    "    ps = calculate_euclid_max(vectors)\n",
    "    proposal_score.append(ps.to(\"cpu\"))\n",
    "    labels.append(1)\n",
    "    n_cnt += 1\n",
    "    negative_ave += ps\n",
    "negative_ave /= n_cnt\n",
    "\n",
    "print(positive_ave, negative_ave)"
   ]
  },
  {
   "cell_type": "code",
   "execution_count": null,
   "metadata": {},
   "outputs": [
    {
     "name": "stdout",
     "output_type": "stream",
     "text": [
      "9815 10000\n"
     ]
    }
   ],
   "source": [
    "print(p_cnt, n_cnt)"
   ]
  },
  {
   "cell_type": "code",
   "execution_count": null,
   "metadata": {},
   "outputs": [
    {
     "name": "stdout",
     "output_type": "stream",
     "text": [
      "19815 19815\n"
     ]
    }
   ],
   "source": [
    "print(len(proposal_score), len(labels))"
   ]
  },
  {
   "cell_type": "code",
   "execution_count": 24,
   "metadata": {},
   "outputs": [
    {
     "name": "stdout",
     "output_type": "stream",
     "text": [
      "0.6259595291837249\n"
     ]
    },
    {
     "data": {
      "image/png": "[encoded data removed]",
      "text/plain": [
       "<Figure size 640x480 with 1 Axes>"
      ]
     },
     "metadata": {},
     "output_type": "display_data"
    }
   ],
   "source": [
    "p_auc = calc_roc_auc(labels, proposal_score, \"proposal_model_randomly_items\")\n",
    "print(p_auc)"
   ]
  }
 ],
 "metadata": {
  "kernelspec": {
   "display_name": "fashion",
   "language": "python",
   "name": "python3"
  },
  "language_info": {
   "codemirror_mode": {
    "name": "ipython",
    "version": 3
   },
   "file_extension": ".py",
   "mimetype": "text/x-python",
   "name": "python",
   "nbconvert_exporter": "python",
   "pygments_lexer": "ipython3",
   "version": "3.11.5"
  }
 },
 "nbformat": 4,
 "nbformat_minor": 2
}
