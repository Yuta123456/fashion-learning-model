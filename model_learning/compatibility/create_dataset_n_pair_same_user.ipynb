{
 "cells": [
  {
   "cell_type": "code",
   "execution_count": 1,
   "metadata": {},
   "outputs": [],
   "source": [
    "import os\n",
    "import sys\n",
    "sys.path.append(\"C:/Users/yuuta/Documents/fashion\")"
   ]
  },
  {
   "cell_type": "code",
   "execution_count": 10,
   "metadata": {},
   "outputs": [],
   "source": [
    "import glob\n",
    "import random\n",
    "from utils.util import is_target_category, open_json\n",
    "from utils.util import get_progress_percent\n",
    "\n",
    "random.seed(42)"
   ]
  },
  {
   "cell_type": "code",
   "execution_count": 3,
   "metadata": {},
   "outputs": [],
   "source": [
    "dirpath = glob.glob('C:/Users/yuuta/Documents/fashion/data/train/**/')\n",
    "random.shuffle(dirpath)"
   ]
  },
  {
   "cell_type": "code",
   "execution_count": 9,
   "metadata": {},
   "outputs": [
    {
     "data": {
      "text/plain": [
       "<module 'utils.util' from 'C:\\\\Users/yuuta/Documents/fashion\\\\utils\\\\util.py'>"
      ]
     },
     "execution_count": 9,
     "metadata": {},
     "output_type": "execute_result"
    }
   ],
   "source": [
    "import importlib\n",
    "import utils.util\n",
    "import pandas as pd\n",
    "importlib.reload(utils.util)"
   ]
  },
  {
   "cell_type": "code",
   "execution_count": 4,
   "metadata": {},
   "outputs": [
    {
     "name": "stdout",
     "output_type": "stream",
     "text": [
      "2140\n"
     ]
    }
   ],
   "source": [
    "print(len(dirpath))"
   ]
  },
  {
   "cell_type": "code",
   "execution_count": 6,
   "metadata": {},
   "outputs": [],
   "source": [
    "# N-pair sampling\n",
    "# triplet loss\n",
    "# csvには，(anchor, positive, negative)で保存 (itemIdごとに)\n",
    "N = 10\n",
    "\n",
    "data = []"
   ]
  },
  {
   "cell_type": "code",
   "execution_count": 11,
   "metadata": {},
   "outputs": [
    {
     "name": "stdout",
     "output_type": "stream",
     "text": [
      "【******************* "
     ]
    }
   ],
   "source": [
    "for cnt, user_dir in enumerate(dirpath):\n",
    "    print(get_progress_percent(cnt, len(dirpath)), end='')\n",
    "    coordinates = []\n",
    "    _, user_id = os.path.split(os.path.split(user_dir)[0])\n",
    "    user_coordinates_paths = glob.glob(user_dir + '*_new.json')\n",
    "    for coordinate_path in user_coordinates_paths:\n",
    "        coordinate = open_json(coordinate_path)\n",
    "        # targetのもののみに絞る\n",
    "        items = list(filter(is_target_category, coordinate[\"items\"]))\n",
    "        # 絞ったアイテムたちのidを取得\n",
    "        item_ids = list(map(lambda x: x[\"itemId\"], items))\n",
    "        coordinates.append(item_ids)\n",
    "    # N-pair samplingをする\n",
    "\n",
    "    # 1. anchorのレイヤを決める\n",
    "    for positive_layer_index, positive_coordinate in enumerate(coordinates):\n",
    "        positive_set = set(positive_coordinate)\n",
    "        # 2. anchorを決める\n",
    "        for anchor_index, anchor_item in enumerate(positive_coordinate):\n",
    "            # 3. そのレイヤはすべてpositive\n",
    "            for positive_item in positive_coordinate[anchor_index+1:]:\n",
    "                # 4. それ以外はすべてnegative\n",
    "                for negative_coordinate in coordinates[positive_layer_index+1:]:\n",
    "                    # 5. negativeのアイテムを決める\n",
    "                    for negative_item in negative_coordinate:\n",
    "                        # anchorと同じコーディネートに含まれるアイテムはネガティブじゃない\n",
    "                        if negative_item in positive_set:\n",
    "                            continue\n",
    "                        data.append([anchor_item, positive_item, negative_item])\n"
   ]
  },
  {
   "cell_type": "code",
   "execution_count": 12,
   "metadata": {},
   "outputs": [
    {
     "name": "stdout",
     "output_type": "stream",
     "text": [
      "186228507\n"
     ]
    }
   ],
   "source": [
    "print(len(data))"
   ]
  },
  {
   "cell_type": "code",
   "execution_count": 13,
   "metadata": {},
   "outputs": [],
   "source": [
    "# DataFrameを作成\n",
    "df = pd.DataFrame(data)\n",
    "\n",
    "# CSVファイルに保存\n",
    "df.to_csv('C:/Users/yuuta/Documents/fashion/model_learning/compatibility/data/triplet_user.csv', index=False)"
   ]
  }
 ],
 "metadata": {
  "kernelspec": {
   "display_name": "fashion",
   "language": "python",
   "name": "python3"
  },
  "language_info": {
   "codemirror_mode": {
    "name": "ipython",
    "version": 3
   },
   "file_extension": ".py",
   "mimetype": "text/x-python",
   "name": "python",
   "nbconvert_exporter": "python",
   "pygments_lexer": "ipython3",
   "version": "3.11.5"
  }
 },
 "nbformat": 4,
 "nbformat_minor": 2
}
