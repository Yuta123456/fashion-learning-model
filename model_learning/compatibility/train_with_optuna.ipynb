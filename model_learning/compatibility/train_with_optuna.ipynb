{
 "cells": [
  {
   "cell_type": "code",
   "execution_count": 1,
   "metadata": {},
   "outputs": [
    {
     "name": "stderr",
     "output_type": "stream",
     "text": [
      "c:\\Users\\yuuta\\anaconda3\\envs\\fashion\\Lib\\site-packages\\tqdm\\auto.py:21: TqdmWarning: IProgress not found. Please update jupyter and ipywidgets. See https://ipywidgets.readthedocs.io/en/stable/user_install.html\n",
      "  from .autonotebook import tqdm as notebook_tqdm\n"
     ]
    }
   ],
   "source": [
    "import torch\n",
    "import torch.nn as nn\n",
    "import sys\n",
    "from torch.utils.data import DataLoader\n",
    "from datetime import datetime\n",
    "import numpy as np\n",
    "import optuna\n",
    "sys.path.append(\"C:/Users/yuuta/Documents/fashion\")\n",
    "from model_learning.model_structure.dataset import TripletDataset\n",
    "from model_learning.model_structure.image_encoder import ImageEncoderV3"
   ]
  },
  {
   "cell_type": "code",
   "execution_count": 2,
   "metadata": {},
   "outputs": [],
   "source": [
    "if torch.cuda.is_available():\n",
    "    device = torch.device(\"cuda\")  # GPUデバイスを取得\n",
    "else:\n",
    "    device = torch.device(\"cpu\")  # CPUデバイスを取得"
   ]
  },
  {
   "cell_type": "code",
   "execution_count": 3,
   "metadata": {},
   "outputs": [
    {
     "data": {
      "text/plain": [
       "<module 'model_learning.model_structure.image_encoder' from 'C:\\\\Users/yuuta/Documents/fashion\\\\model_learning\\\\model_structure\\\\image_encoder.py'>"
      ]
     },
     "execution_count": 3,
     "metadata": {},
     "output_type": "execute_result"
    }
   ],
   "source": [
    "import importlib\n",
    "import model_learning\n",
    "importlib.reload(model_learning.model_structure.image_encoder)"
   ]
  },
  {
   "cell_type": "code",
   "execution_count": 4,
   "metadata": {},
   "outputs": [],
   "source": [
    "dataset = TripletDataset('C:/Users/yuuta/Documents/fashion/model_learning/compatibility/data/triplet_n_pair.csv', limit=70000)"
   ]
  },
  {
   "cell_type": "code",
   "execution_count": 5,
   "metadata": {},
   "outputs": [],
   "source": [
    "LEARNING_LATE = 1e-5\n",
    "BATCH_SIZE = 32\n",
    "EPOCHS = 3"
   ]
  },
  {
   "cell_type": "code",
   "execution_count": 6,
   "metadata": {},
   "outputs": [],
   "source": [
    "train_size = int(0.7 * len(dataset))\n",
    "val_size = len(dataset) - train_size\n",
    "\n",
    "train_dataset, test_dataset = torch.utils.data.random_split(\n",
    "    dataset, [train_size, val_size]\n",
    ")\n",
    "\n",
    "train_dataloader = DataLoader(train_dataset, batch_size=BATCH_SIZE, shuffle=True, pin_memory=True)\n",
    "test_dataloader = DataLoader(test_dataset, batch_size=BATCH_SIZE, shuffle=True, pin_memory=True)\n",
    "\n",
    "loss_fn = nn.TripletMarginLoss(margin=20.0, p=2, eps=1e-6) # , reduction='sum'"
   ]
  },
  {
   "cell_type": "code",
   "execution_count": 7,
   "metadata": {},
   "outputs": [],
   "source": [
    "def train_loop(dataloader, model, loss_fn, optimizer):\n",
    "    size = len(dataloader.dataset)\n",
    "    for batch, (anchor, positive, negative) in enumerate(dataloader):        \n",
    "        optimizer.zero_grad()\n",
    "\n",
    "        anchor_vecter = model(anchor.to(device))\n",
    "        positive_vecter = model(positive.to(device))\n",
    "        negative_vecter = model(negative.to(device))\n",
    "\n",
    "        loss = loss_fn(anchor_vecter, positive_vecter, negative_vecter)\n",
    "        \n",
    "        # バックプロパゲーション\n",
    "        loss.backward()\n",
    "        optimizer.step()\n",
    "\n",
    "        if batch % 500 == 0:\n",
    "            loss, current = loss.item() / BATCH_SIZE, batch * BATCH_SIZE\n",
    "            print(f\"\\rloss: {loss:>15f}  [{current:>5d}/{size:>5d}]\", end='')\n",
    "\n",
    "def test_loop(dataloader, model, loss_fn):\n",
    "    size = len(dataloader.dataset)\n",
    "    test_loss = 0\n",
    "    p_d = 0\n",
    "    n_d = 0\n",
    "    with torch.no_grad():\n",
    "        for (anchor, positive, negative) in dataloader:\n",
    "            anchor_vecter = model(anchor.to(device))\n",
    "            positive_vecter = model(positive.to(device))\n",
    "            negative_vecter = model(negative.to(device))\n",
    "\n",
    "            positive_d = torch.norm(anchor_vecter - positive_vecter, dim=1, keepdim=True)\n",
    "            negative_d = torch.norm(anchor_vecter - negative_vecter, dim=1, keepdim=True)\n",
    "            p_d += torch.sum(positive_d)\n",
    "            n_d += torch.sum(negative_d)\n",
    "            loss = loss_fn(anchor_vecter, positive_vecter, negative_vecter)\n",
    "\n",
    "            test_loss += loss.item()\n",
    "            \n",
    "    test_loss /= size\n",
    "    return n_d - p_d"
   ]
  },
  {
   "cell_type": "code",
   "execution_count": 8,
   "metadata": {},
   "outputs": [],
   "source": [
    "\n",
    "class Objective:\n",
    "    def __init__(self):\n",
    "        pass\n",
    "    def __call__(self, trial):\n",
    "        # ハイパーパラメータの設定\n",
    "        params = {\n",
    "            'embedding_size': trial.suggest_int('k_l', 32, 1000),\n",
    "            'dropout_prob': trial.suggest_float('dropout_prob', 0, 1),\n",
    "            'LEARNING_LATE': trial.suggest_float('LEARNING_LATE', 1e-6, 1e-4),\n",
    "        }\n",
    "\n",
    "        model = ImageEncoderV3(dropout_prob=params['dropout_prob'],\n",
    "                                embedding_size=params['embedding_size']).to(device)\n",
    "\n",
    "        optimizer = torch.optim.Adam(model.parameters(), lr=params['LEARNING_LATE'])\n",
    "        \n",
    "        for _ in range(EPOCHS):\n",
    "            train_loop(train_dataloader, model, loss_fn, optimizer)\n",
    "        score = test_loop(test_dataloader, model, loss_fn)\n",
    "        print()\n",
    "        return score"
   ]
  },
  {
   "cell_type": "code",
   "execution_count": 9,
   "metadata": {},
   "outputs": [
    {
     "name": "stderr",
     "output_type": "stream",
     "text": [
      "[I 2023-12-29 15:06:04,283] A new study created in memory with name: no-name-52589eb6-0ea8-46c7-a99d-58584528e876\n"
     ]
    },
    {
     "name": "stdout",
     "output_type": "stream",
     "text": [
      "start\n",
      "cuda\n"
     ]
    },
    {
     "name": "stderr",
     "output_type": "stream",
     "text": [
      "c:\\Users\\yuuta\\anaconda3\\envs\\fashion\\Lib\\site-packages\\torchvision\\models\\_utils.py:208: UserWarning: The parameter 'pretrained' is deprecated since 0.13 and may be removed in the future, please use 'weights' instead.\n",
      "  warnings.warn(\n",
      "c:\\Users\\yuuta\\anaconda3\\envs\\fashion\\Lib\\site-packages\\torchvision\\models\\_utils.py:223: UserWarning: Arguments other than a weight enum or `None` for 'weights' are deprecated since 0.13 and may be removed in the future. The current behavior is equivalent to passing `weights=ResNet50_Weights.IMAGENET1K_V1`. You can also use `weights=ResNet50_Weights.DEFAULT` to get the most up-to-date weights.\n",
      "  warnings.warn(msg)\n"
     ]
    },
    {
     "name": "stdout",
     "output_type": "stream",
     "text": [
      "loss:        0.411249  [48000/49000]"
     ]
    },
    {
     "name": "stderr",
     "output_type": "stream",
     "text": [
      "[I 2023-12-29 15:28:46,289] Trial 0 finished with value: 758147.5 and parameters: {'k_l': 206, 'dropout_prob': 0.6958098075569734, 'LEARNING_LATE': 9.59507016520054e-06}. Best is trial 0 with value: 758147.5.\n"
     ]
    },
    {
     "name": "stdout",
     "output_type": "stream",
     "text": [
      "\n",
      "loss:        0.000000  [48000/49000]"
     ]
    },
    {
     "name": "stderr",
     "output_type": "stream",
     "text": [
      "[I 2023-12-29 15:51:21,473] Trial 1 finished with value: 935072.625 and parameters: {'k_l': 142, 'dropout_prob': 0.8272353093910367, 'LEARNING_LATE': 7.013599844555147e-06}. Best is trial 1 with value: 935072.625.\n"
     ]
    },
    {
     "name": "stdout",
     "output_type": "stream",
     "text": [
      "\n",
      "loss:        0.010743  [48000/49000]"
     ]
    },
    {
     "name": "stderr",
     "output_type": "stream",
     "text": [
      "[I 2023-12-29 16:13:52,717] Trial 2 finished with value: 1046619.75 and parameters: {'k_l': 439, 'dropout_prob': 0.5505966132316795, 'LEARNING_LATE': 4.915587831682558e-05}. Best is trial 2 with value: 1046619.75.\n"
     ]
    },
    {
     "name": "stdout",
     "output_type": "stream",
     "text": [
      "\n",
      "loss:        0.000000  [48000/49000]"
     ]
    },
    {
     "name": "stderr",
     "output_type": "stream",
     "text": [
      "[I 2023-12-29 16:36:23,834] Trial 3 finished with value: 1129188.5 and parameters: {'k_l': 868, 'dropout_prob': 0.3441121773637992, 'LEARNING_LATE': 5.539386672742646e-05}. Best is trial 3 with value: 1129188.5.\n"
     ]
    },
    {
     "name": "stdout",
     "output_type": "stream",
     "text": [
      "\n",
      "loss:        0.019764  [48000/49000]"
     ]
    },
    {
     "name": "stderr",
     "output_type": "stream",
     "text": [
      "[I 2023-12-29 16:58:58,902] Trial 4 finished with value: 851603.5625 and parameters: {'k_l': 169, 'dropout_prob': 0.37706806933464965, 'LEARNING_LATE': 2.1669870179582774e-05}. Best is trial 3 with value: 1129188.5.\n"
     ]
    },
    {
     "name": "stdout",
     "output_type": "stream",
     "text": [
      "\n",
      "loss:        0.453198  [48000/49000]"
     ]
    },
    {
     "name": "stderr",
     "output_type": "stream",
     "text": [
      "[I 2023-12-29 17:21:29,150] Trial 5 finished with value: 1271272.5 and parameters: {'k_l': 259, 'dropout_prob': 0.9525601042136301, 'LEARNING_LATE': 1.526569721619949e-05}. Best is trial 5 with value: 1271272.5.\n"
     ]
    },
    {
     "name": "stdout",
     "output_type": "stream",
     "text": [
      "\n",
      "loss:        0.039476  [48000/49000]"
     ]
    },
    {
     "name": "stderr",
     "output_type": "stream",
     "text": [
      "[I 2023-12-29 17:43:59,497] Trial 6 finished with value: 1167758.25 and parameters: {'k_l': 961, 'dropout_prob': 0.10305595367244358, 'LEARNING_LATE': 5.043997526806236e-05}. Best is trial 5 with value: 1271272.5.\n"
     ]
    },
    {
     "name": "stdout",
     "output_type": "stream",
     "text": [
      "\n",
      "loss:        0.083983  [48000/49000]"
     ]
    },
    {
     "name": "stderr",
     "output_type": "stream",
     "text": [
      "[I 2023-12-29 18:06:29,669] Trial 7 finished with value: 1019409.125 and parameters: {'k_l': 912, 'dropout_prob': 0.05846413943466933, 'LEARNING_LATE': 3.461893041287789e-05}. Best is trial 5 with value: 1271272.5.\n"
     ]
    },
    {
     "name": "stdout",
     "output_type": "stream",
     "text": [
      "\n",
      "loss:        0.111336  [48000/49000]"
     ]
    },
    {
     "name": "stderr",
     "output_type": "stream",
     "text": [
      "[I 2023-12-29 18:28:59,659] Trial 8 finished with value: 891227.5 and parameters: {'k_l': 901, 'dropout_prob': 0.455622970023731, 'LEARNING_LATE': 1.2587549617537976e-05}. Best is trial 5 with value: 1271272.5.\n"
     ]
    },
    {
     "name": "stdout",
     "output_type": "stream",
     "text": [
      "\n",
      "loss:        0.000000  [48000/49000]"
     ]
    },
    {
     "name": "stderr",
     "output_type": "stream",
     "text": [
      "[I 2023-12-29 18:51:29,727] Trial 9 finished with value: 1520861.0 and parameters: {'k_l': 869, 'dropout_prob': 0.7789755408063387, 'LEARNING_LATE': 9.119981680984183e-05}. Best is trial 9 with value: 1520861.0.\n"
     ]
    },
    {
     "name": "stdout",
     "output_type": "stream",
     "text": [
      "\n",
      "loss:        0.014817  [48000/49000]"
     ]
    },
    {
     "name": "stderr",
     "output_type": "stream",
     "text": [
      "[I 2023-12-29 19:14:00,163] Trial 10 finished with value: 1321598.0 and parameters: {'k_l': 696, 'dropout_prob': 0.6858811284376616, 'LEARNING_LATE': 9.912402086994842e-05}. Best is trial 9 with value: 1520861.0.\n"
     ]
    },
    {
     "name": "stdout",
     "output_type": "stream",
     "text": [
      "\n",
      "loss:        0.380032  [48000/49000]"
     ]
    },
    {
     "name": "stderr",
     "output_type": "stream",
     "text": [
      "[I 2023-12-29 19:36:30,473] Trial 11 finished with value: 1498187.5 and parameters: {'k_l': 678, 'dropout_prob': 0.7190096099266099, 'LEARNING_LATE': 9.959330589430534e-05}. Best is trial 9 with value: 1520861.0.\n"
     ]
    },
    {
     "name": "stdout",
     "output_type": "stream",
     "text": [
      "\n",
      "loss:        0.000000  [48000/49000]"
     ]
    },
    {
     "name": "stderr",
     "output_type": "stream",
     "text": [
      "[I 2023-12-29 19:59:00,590] Trial 12 finished with value: 650707.5 and parameters: {'k_l': 666, 'dropout_prob': 0.9419298829912572, 'LEARNING_LATE': 9.872066457019555e-05}. Best is trial 9 with value: 1520861.0.\n"
     ]
    },
    {
     "name": "stdout",
     "output_type": "stream",
     "text": [
      "\n",
      "loss:        0.061911  [48000/49000]"
     ]
    },
    {
     "name": "stderr",
     "output_type": "stream",
     "text": [
      "[I 2023-12-29 20:21:31,278] Trial 13 finished with value: 1068873.0 and parameters: {'k_l': 694, 'dropout_prob': 0.7083054165403753, 'LEARNING_LATE': 8.177843552712572e-05}. Best is trial 9 with value: 1520861.0.\n"
     ]
    },
    {
     "name": "stdout",
     "output_type": "stream",
     "text": [
      "\n",
      "loss:        0.000000  [48000/49000]"
     ]
    },
    {
     "name": "stderr",
     "output_type": "stream",
     "text": [
      "[I 2023-12-29 20:44:01,305] Trial 14 finished with value: 1328259.5 and parameters: {'k_l': 482, 'dropout_prob': 0.8145220076111507, 'LEARNING_LATE': 7.87718602503854e-05}. Best is trial 9 with value: 1520861.0.\n"
     ]
    },
    {
     "name": "stdout",
     "output_type": "stream",
     "text": [
      "\n",
      "loss:        0.000000  [48000/49000]"
     ]
    },
    {
     "name": "stderr",
     "output_type": "stream",
     "text": [
      "[I 2023-12-29 21:06:32,076] Trial 15 finished with value: 1438845.5 and parameters: {'k_l': 606, 'dropout_prob': 0.6010811783427824, 'LEARNING_LATE': 8.065367615650768e-05}. Best is trial 9 with value: 1520861.0.\n"
     ]
    },
    {
     "name": "stdout",
     "output_type": "stream",
     "text": [
      "\n",
      "loss:        1.671442  [48000/49000]"
     ]
    },
    {
     "name": "stderr",
     "output_type": "stream",
     "text": [
      "[I 2023-12-29 21:29:02,191] Trial 16 finished with value: 1316360.0 and parameters: {'k_l': 789, 'dropout_prob': 0.8195327708519993, 'LEARNING_LATE': 6.716657074184101e-05}. Best is trial 9 with value: 1520861.0.\n"
     ]
    },
    {
     "name": "stdout",
     "output_type": "stream",
     "text": [
      "\n",
      "loss:        0.018846  [48000/49000]"
     ]
    },
    {
     "name": "stderr",
     "output_type": "stream",
     "text": [
      "[I 2023-12-29 21:51:32,820] Trial 17 finished with value: 771317.25 and parameters: {'k_l': 393, 'dropout_prob': 0.26040964674621214, 'LEARNING_LATE': 8.947139145291193e-05}. Best is trial 9 with value: 1520861.0.\n"
     ]
    },
    {
     "name": "stdout",
     "output_type": "stream",
     "text": [
      "\n",
      "loss:        0.082492  [48000/49000]"
     ]
    },
    {
     "name": "stderr",
     "output_type": "stream",
     "text": [
      "[I 2023-12-29 22:14:03,172] Trial 18 finished with value: 844390.25 and parameters: {'k_l': 569, 'dropout_prob': 0.6050721313906958, 'LEARNING_LATE': 6.820590653313778e-05}. Best is trial 9 with value: 1520861.0.\n"
     ]
    },
    {
     "name": "stdout",
     "output_type": "stream",
     "text": [
      "\n",
      "loss:        0.063620  [48000/49000]"
     ]
    },
    {
     "name": "stderr",
     "output_type": "stream",
     "text": [
      "[I 2023-12-29 22:36:33,610] Trial 19 finished with value: 1926256.0 and parameters: {'k_l': 793, 'dropout_prob': 0.9876693178500056, 'LEARNING_LATE': 9.030500837441643e-05}. Best is trial 19 with value: 1926256.0.\n"
     ]
    },
    {
     "name": "stdout",
     "output_type": "stream",
     "text": [
      "\n",
      "loss:        1.338254  [48000/49000]"
     ]
    },
    {
     "name": "stderr",
     "output_type": "stream",
     "text": [
      "[I 2023-12-29 22:59:04,691] Trial 20 finished with value: -40317.25 and parameters: {'k_l': 805, 'dropout_prob': 0.9991230651005562, 'LEARNING_LATE': 6.78848045336524e-05}. Best is trial 19 with value: 1926256.0.\n"
     ]
    },
    {
     "name": "stdout",
     "output_type": "stream",
     "text": [
      "\n",
      "loss:        0.152963  [48000/49000]"
     ]
    },
    {
     "name": "stderr",
     "output_type": "stream",
     "text": [
      "[I 2023-12-29 23:21:35,132] Trial 21 finished with value: 2353579.0 and parameters: {'k_l': 799, 'dropout_prob': 0.8908784873295871, 'LEARNING_LATE': 8.783203962162393e-05}. Best is trial 21 with value: 2353579.0.\n"
     ]
    },
    {
     "name": "stdout",
     "output_type": "stream",
     "text": [
      "\n",
      "loss:        0.105501  [48000/49000]"
     ]
    },
    {
     "name": "stderr",
     "output_type": "stream",
     "text": [
      "[I 2023-12-29 23:44:05,740] Trial 22 finished with value: 1509052.0 and parameters: {'k_l': 787, 'dropout_prob': 0.8926590273367867, 'LEARNING_LATE': 8.997739125858904e-05}. Best is trial 21 with value: 2353579.0.\n"
     ]
    },
    {
     "name": "stdout",
     "output_type": "stream",
     "text": [
      "\n",
      "loss:        0.001049  [48000/49000]"
     ]
    },
    {
     "name": "stderr",
     "output_type": "stream",
     "text": [
      "[I 2023-12-30 00:06:35,882] Trial 23 finished with value: 2217384.0 and parameters: {'k_l': 980, 'dropout_prob': 0.8732214354889997, 'LEARNING_LATE': 8.903922669034357e-05}. Best is trial 21 with value: 2353579.0.\n"
     ]
    },
    {
     "name": "stdout",
     "output_type": "stream",
     "text": [
      "\n",
      "loss:        0.072974  [48000/49000]"
     ]
    },
    {
     "name": "stderr",
     "output_type": "stream",
     "text": [
      "[I 2023-12-30 00:29:06,075] Trial 24 finished with value: 1124166.0 and parameters: {'k_l': 997, 'dropout_prob': 0.8889141792984825, 'LEARNING_LATE': 7.401815672408813e-05}. Best is trial 21 with value: 2353579.0.\n"
     ]
    },
    {
     "name": "stdout",
     "output_type": "stream",
     "text": [
      "\n",
      "loss:        0.031462  [48000/49000]"
     ]
    },
    {
     "name": "stderr",
     "output_type": "stream",
     "text": [
      "[I 2023-12-30 00:51:39,164] Trial 25 finished with value: 808211.5 and parameters: {'k_l': 786, 'dropout_prob': 0.9951648830901477, 'LEARNING_LATE': 5.7536324396174324e-05}. Best is trial 21 with value: 2353579.0.\n"
     ]
    },
    {
     "name": "stdout",
     "output_type": "stream",
     "text": [
      "\n",
      "loss:        0.169354  [48000/49000]"
     ]
    },
    {
     "name": "stderr",
     "output_type": "stream",
     "text": [
      "[I 2023-12-30 01:14:09,485] Trial 26 finished with value: 1542898.0 and parameters: {'k_l': 994, 'dropout_prob': 0.894971955065553, 'LEARNING_LATE': 8.567256643314212e-05}. Best is trial 21 with value: 2353579.0.\n"
     ]
    },
    {
     "name": "stdout",
     "output_type": "stream",
     "text": [
      "\n",
      "loss:        0.000000  [48000/49000]"
     ]
    },
    {
     "name": "stderr",
     "output_type": "stream",
     "text": [
      "[I 2023-12-30 01:36:39,837] Trial 27 finished with value: 1320843.0 and parameters: {'k_l': 842, 'dropout_prob': 0.7637936721401317, 'LEARNING_LATE': 7.257119881494119e-05}. Best is trial 21 with value: 2353579.0.\n"
     ]
    },
    {
     "name": "stdout",
     "output_type": "stream",
     "text": [
      "\n",
      "loss:        0.062087  [48000/49000]"
     ]
    },
    {
     "name": "stderr",
     "output_type": "stream",
     "text": [
      "[I 2023-12-30 01:59:10,580] Trial 28 finished with value: 1763403.0 and parameters: {'k_l': 737, 'dropout_prob': 0.8832424523821412, 'LEARNING_LATE': 3.895952318887969e-05}. Best is trial 21 with value: 2353579.0.\n"
     ]
    },
    {
     "name": "stdout",
     "output_type": "stream",
     "text": [
      "\n",
      "loss:        0.000000  [48000/49000]"
     ]
    },
    {
     "name": "stderr",
     "output_type": "stream",
     "text": [
      "[I 2023-12-30 02:21:41,058] Trial 29 finished with value: 2162070.0 and parameters: {'k_l': 562, 'dropout_prob': 0.94193389762582, 'LEARNING_LATE': 6.07511611818218e-05}. Best is trial 21 with value: 2353579.0.\n"
     ]
    },
    {
     "name": "stdout",
     "output_type": "stream",
     "text": [
      "\n",
      "loss:        0.368424  [48000/49000]"
     ]
    },
    {
     "name": "stderr",
     "output_type": "stream",
     "text": [
      "[I 2023-12-30 02:44:11,845] Trial 30 finished with value: 789313.75 and parameters: {'k_l': 281, 'dropout_prob': 0.6560459202333302, 'LEARNING_LATE': 6.0764181940125146e-05}. Best is trial 21 with value: 2353579.0.\n"
     ]
    },
    {
     "name": "stdout",
     "output_type": "stream",
     "text": [
      "\n",
      "loss:        0.000000  [48000/49000]"
     ]
    },
    {
     "name": "stderr",
     "output_type": "stream",
     "text": [
      "[I 2023-12-30 03:06:42,637] Trial 31 finished with value: 1078430.5 and parameters: {'k_l': 381, 'dropout_prob': 0.9367327886129189, 'LEARNING_LATE': 9.249942231198597e-05}. Best is trial 21 with value: 2353579.0.\n"
     ]
    },
    {
     "name": "stdout",
     "output_type": "stream",
     "text": [
      "\n",
      "loss:        0.078080  [48000/49000]"
     ]
    },
    {
     "name": "stderr",
     "output_type": "stream",
     "text": [
      "[I 2023-12-30 03:29:12,939] Trial 32 finished with value: 1542401.5 and parameters: {'k_l': 592, 'dropout_prob': 0.8433558949302469, 'LEARNING_LATE': 7.658854341106476e-05}. Best is trial 21 with value: 2353579.0.\n"
     ]
    },
    {
     "name": "stdout",
     "output_type": "stream",
     "text": [
      "\n",
      "loss:        0.547941  [48000/49000]"
     ]
    },
    {
     "name": "stderr",
     "output_type": "stream",
     "text": [
      "[I 2023-12-30 03:51:42,744] Trial 33 finished with value: 1244737.0 and parameters: {'k_l': 47, 'dropout_prob': 0.9870583880872082, 'LEARNING_LATE': 4.294440596376828e-05}. Best is trial 21 with value: 2353579.0.\n"
     ]
    },
    {
     "name": "stdout",
     "output_type": "stream",
     "text": [
      "\n",
      "loss:        0.007231  [48000/49000]"
     ]
    },
    {
     "name": "stderr",
     "output_type": "stream",
     "text": [
      "[I 2023-12-30 04:14:12,674] Trial 34 finished with value: 1145614.5 and parameters: {'k_l': 537, 'dropout_prob': 0.8656236704118019, 'LEARNING_LATE': 8.46651738471538e-05}. Best is trial 21 with value: 2353579.0.\n"
     ]
    },
    {
     "name": "stdout",
     "output_type": "stream",
     "text": [
      "\n",
      "loss:        0.000000  [48000/49000]"
     ]
    },
    {
     "name": "stderr",
     "output_type": "stream",
     "text": [
      "[I 2023-12-30 04:36:42,806] Trial 35 finished with value: 1485143.5 and parameters: {'k_l': 920, 'dropout_prob': 0.7643891070113409, 'LEARNING_LATE': 9.344298213499725e-05}. Best is trial 21 with value: 2353579.0.\n"
     ]
    },
    {
     "name": "stdout",
     "output_type": "stream",
     "text": [
      "\n",
      "loss:        0.000000  [48000/49000]"
     ]
    },
    {
     "name": "stderr",
     "output_type": "stream",
     "text": [
      "[I 2023-12-30 04:59:12,859] Trial 36 finished with value: 1615273.5 and parameters: {'k_l': 631, 'dropout_prob': 0.9324284877638529, 'LEARNING_LATE': 2.6438372372026284e-05}. Best is trial 21 with value: 2353579.0.\n"
     ]
    },
    {
     "name": "stdout",
     "output_type": "stream",
     "text": [
      "\n",
      "loss:        0.139893  [48000/49000]"
     ]
    },
    {
     "name": "stderr",
     "output_type": "stream",
     "text": [
      "[I 2023-12-30 05:21:42,238] Trial 37 finished with value: 872620.75 and parameters: {'k_l': 472, 'dropout_prob': 0.23467095745656108, 'LEARNING_LATE': 6.475132014363382e-05}. Best is trial 21 with value: 2353579.0.\n"
     ]
    },
    {
     "name": "stdout",
     "output_type": "stream",
     "text": [
      "\n",
      "loss:        0.000810  [48000/49000]"
     ]
    },
    {
     "name": "stderr",
     "output_type": "stream",
     "text": [
      "[I 2023-12-30 05:44:12,465] Trial 38 finished with value: 645154.0 and parameters: {'k_l': 744, 'dropout_prob': 0.5402875919609567, 'LEARNING_LATE': 2.7522362275632777e-06}. Best is trial 21 with value: 2353579.0.\n"
     ]
    },
    {
     "name": "stdout",
     "output_type": "stream",
     "text": [
      "\n",
      "loss:        0.021698  [48000/49000]"
     ]
    },
    {
     "name": "stderr",
     "output_type": "stream",
     "text": [
      "[I 2023-12-30 06:06:44,573] Trial 39 finished with value: 963652.0 and parameters: {'k_l': 954, 'dropout_prob': 0.43151968334252144, 'LEARNING_LATE': 5.405695491434734e-05}. Best is trial 21 with value: 2353579.0.\n"
     ]
    },
    {
     "name": "stdout",
     "output_type": "stream",
     "text": [
      "\n",
      "loss:        0.000000  [48000/49000]"
     ]
    },
    {
     "name": "stderr",
     "output_type": "stream",
     "text": [
      "[I 2023-12-30 06:29:14,677] Trial 40 finished with value: 1495610.5 and parameters: {'k_l': 731, 'dropout_prob': 0.8047737099670553, 'LEARNING_LATE': 4.514881780889905e-05}. Best is trial 21 with value: 2353579.0.\n"
     ]
    },
    {
     "name": "stdout",
     "output_type": "stream",
     "text": [
      "\n",
      "loss:        0.000000  [48000/49000]"
     ]
    },
    {
     "name": "stderr",
     "output_type": "stream",
     "text": [
      "[I 2023-12-30 06:51:44,785] Trial 41 finished with value: 1280917.0 and parameters: {'k_l': 843, 'dropout_prob': 0.9146187697596163, 'LEARNING_LATE': 3.302907035134554e-05}. Best is trial 21 with value: 2353579.0.\n"
     ]
    },
    {
     "name": "stdout",
     "output_type": "stream",
     "text": [
      "\n",
      "loss:        0.137877  [48000/49000]"
     ]
    },
    {
     "name": "stderr",
     "output_type": "stream",
     "text": [
      "[I 2023-12-30 07:14:15,113] Trial 42 finished with value: 1023412.0 and parameters: {'k_l': 739, 'dropout_prob': 0.8534156143220798, 'LEARNING_LATE': 4.247920045389971e-05}. Best is trial 21 with value: 2353579.0.\n"
     ]
    },
    {
     "name": "stdout",
     "output_type": "stream",
     "text": [
      "\n",
      "loss:        0.000000  [48000/49000]"
     ]
    },
    {
     "name": "stderr",
     "output_type": "stream",
     "text": [
      "[I 2023-12-30 07:36:45,548] Trial 43 finished with value: 731024.0 and parameters: {'k_l': 891, 'dropout_prob': 0.9628216022885238, 'LEARNING_LATE': 3.5487015608157996e-05}. Best is trial 21 with value: 2353579.0.\n"
     ]
    },
    {
     "name": "stdout",
     "output_type": "stream",
     "text": [
      "\n",
      "loss:        1.277142  [48000/49000]"
     ]
    },
    {
     "name": "stderr",
     "output_type": "stream",
     "text": [
      "[I 2023-12-30 07:59:15,799] Trial 44 finished with value: 1367431.0 and parameters: {'k_l': 652, 'dropout_prob': 0.8778285792930938, 'LEARNING_LATE': 2.0620471159026266e-05}. Best is trial 21 with value: 2353579.0.\n"
     ]
    },
    {
     "name": "stdout",
     "output_type": "stream",
     "text": [
      "\n",
      "loss:        0.002577  [48000/49000]"
     ]
    },
    {
     "name": "stderr",
     "output_type": "stream",
     "text": [
      "[I 2023-12-30 08:21:46,095] Trial 45 finished with value: 1464629.0 and parameters: {'k_l': 834, 'dropout_prob': 0.7486231153443762, 'LEARNING_LATE': 8.605503189280246e-05}. Best is trial 21 with value: 2353579.0.\n"
     ]
    },
    {
     "name": "stdout",
     "output_type": "stream",
     "text": [
      "\n",
      "loss:        0.001140  [48000/49000]"
     ]
    },
    {
     "name": "stderr",
     "output_type": "stream",
     "text": [
      "[I 2023-12-30 08:44:16,629] Trial 46 finished with value: 1321399.0 and parameters: {'k_l': 729, 'dropout_prob': 0.9564449062116068, 'LEARNING_LATE': 9.575721236939659e-05}. Best is trial 21 with value: 2353579.0.\n"
     ]
    },
    {
     "name": "stdout",
     "output_type": "stream",
     "text": [
      "\n",
      "loss:        0.000000  [48000/49000]"
     ]
    },
    {
     "name": "stderr",
     "output_type": "stream",
     "text": [
      "[I 2023-12-30 09:06:47,133] Trial 47 finished with value: 1243539.5 and parameters: {'k_l': 919, 'dropout_prob': 0.8020494601956165, 'LEARNING_LATE': 3.0638899256813355e-05}. Best is trial 21 with value: 2353579.0.\n"
     ]
    },
    {
     "name": "stdout",
     "output_type": "stream",
     "text": [
      "\n",
      "loss:        0.000000  [48000/49000]"
     ]
    },
    {
     "name": "stderr",
     "output_type": "stream",
     "text": [
      "[I 2023-12-30 09:29:17,225] Trial 48 finished with value: 1049466.5 and parameters: {'k_l': 557, 'dropout_prob': 0.676406530853437, 'LEARNING_LATE': 5.051847078894532e-05}. Best is trial 21 with value: 2353579.0.\n"
     ]
    },
    {
     "name": "stdout",
     "output_type": "stream",
     "text": [
      "\n",
      "loss:        0.006516  [48000/49000]"
     ]
    },
    {
     "name": "stderr",
     "output_type": "stream",
     "text": [
      "[I 2023-12-30 09:51:47,222] Trial 49 finished with value: 1045984.75 and parameters: {'k_l': 506, 'dropout_prob': 0.7288095117883975, 'LEARNING_LATE': 4.0208868065836286e-05}. Best is trial 21 with value: 2353579.0.\n"
     ]
    },
    {
     "name": "stdout",
     "output_type": "stream",
     "text": [
      "\n",
      "loss:        0.025232  [48000/49000]"
     ]
    },
    {
     "name": "stderr",
     "output_type": "stream",
     "text": [
      "[I 2023-12-30 10:14:17,715] Trial 50 finished with value: 1538627.5 and parameters: {'k_l': 941, 'dropout_prob': 0.8389386366767947, 'LEARNING_LATE': 7.354597267573992e-05}. Best is trial 21 with value: 2353579.0.\n"
     ]
    },
    {
     "name": "stdout",
     "output_type": "stream",
     "text": [
      "\n",
      "loss:        0.000000  [48000/49000]"
     ]
    },
    {
     "name": "stderr",
     "output_type": "stream",
     "text": [
      "[I 2023-12-30 10:36:48,047] Trial 51 finished with value: 1628493.0 and parameters: {'k_l': 656, 'dropout_prob': 0.931826484169507, 'LEARNING_LATE': 2.657628364862509e-05}. Best is trial 21 with value: 2353579.0.\n"
     ]
    },
    {
     "name": "stdout",
     "output_type": "stream",
     "text": [
      "\n",
      "loss:        0.000000  [48000/49000]"
     ]
    },
    {
     "name": "stderr",
     "output_type": "stream",
     "text": [
      "[I 2023-12-30 10:59:17,594] Trial 52 finished with value: 1291445.0 and parameters: {'k_l': 619, 'dropout_prob': 0.9230949375759762, 'LEARNING_LATE': 2.4306201202312163e-05}. Best is trial 21 with value: 2353579.0.\n"
     ]
    },
    {
     "name": "stdout",
     "output_type": "stream",
     "text": [
      "\n",
      "loss:        0.000000  [48000/49000]"
     ]
    },
    {
     "name": "stderr",
     "output_type": "stream",
     "text": [
      "[I 2023-12-30 11:21:48,252] Trial 53 finished with value: 1615627.0 and parameters: {'k_l': 698, 'dropout_prob': 0.9629422274258688, 'LEARNING_LATE': 1.387254128194198e-05}. Best is trial 21 with value: 2353579.0.\n"
     ]
    },
    {
     "name": "stdout",
     "output_type": "stream",
     "text": [
      "\n",
      "loss:        0.000000  [48000/49000]"
     ]
    },
    {
     "name": "stderr",
     "output_type": "stream",
     "text": [
      "[I 2023-12-30 11:44:18,666] Trial 54 finished with value: 1237019.0 and parameters: {'k_l': 661, 'dropout_prob': 0.8666993354707319, 'LEARNING_LATE': 1.8252812320961914e-05}. Best is trial 21 with value: 2353579.0.\n"
     ]
    },
    {
     "name": "stdout",
     "output_type": "stream",
     "text": [
      "\n",
      "loss:        0.032024  [48000/49000]"
     ]
    },
    {
     "name": "stderr",
     "output_type": "stream",
     "text": [
      "[I 2023-12-30 12:06:49,138] Trial 55 finished with value: 831903.625 and parameters: {'k_l': 771, 'dropout_prob': 0.015190500821469555, 'LEARNING_LATE': 2.8751789923885227e-05}. Best is trial 21 with value: 2353579.0.\n"
     ]
    },
    {
     "name": "stdout",
     "output_type": "stream",
     "text": [
      "\n",
      "loss:        0.000000  [48000/49000]"
     ]
    },
    {
     "name": "stderr",
     "output_type": "stream",
     "text": [
      "[I 2023-12-30 12:28:54,844] Trial 56 finished with value: 2018532.0 and parameters: {'k_l': 825, 'dropout_prob': 0.9116671341563676, 'LEARNING_LATE': 3.6051584121766273e-05}. Best is trial 21 with value: 2353579.0.\n"
     ]
    },
    {
     "name": "stdout",
     "output_type": "stream",
     "text": [
      "\n",
      "loss:        0.000000  [48000/49000]"
     ]
    },
    {
     "name": "stderr",
     "output_type": "stream",
     "text": [
      "[I 2023-12-30 12:51:28,634] Trial 57 finished with value: 456573.25 and parameters: {'k_l': 862, 'dropout_prob': 0.7842515483802417, 'LEARNING_LATE': 8.262115916371829e-05}. Best is trial 21 with value: 2353579.0.\n"
     ]
    },
    {
     "name": "stdout",
     "output_type": "stream",
     "text": [
      "\n",
      "loss:        0.000000  [48000/49000]"
     ]
    },
    {
     "name": "stderr",
     "output_type": "stream",
     "text": [
      "[I 2023-12-30 13:13:59,235] Trial 58 finished with value: 1302632.0 and parameters: {'k_l': 831, 'dropout_prob': 0.9031362142405354, 'LEARNING_LATE': 4.807763462452075e-05}. Best is trial 21 with value: 2353579.0.\n"
     ]
    },
    {
     "name": "stdout",
     "output_type": "stream",
     "text": [
      "\n",
      "loss:        0.000000  [48000/49000]"
     ]
    },
    {
     "name": "stderr",
     "output_type": "stream",
     "text": [
      "[I 2023-12-30 13:36:29,781] Trial 59 finished with value: 2295773.0 and parameters: {'k_l': 879, 'dropout_prob': 0.9780102147809266, 'LEARNING_LATE': 3.798647823866759e-05}. Best is trial 21 with value: 2353579.0.\n"
     ]
    },
    {
     "name": "stdout",
     "output_type": "stream",
     "text": [
      "\n",
      "loss:        0.000000  [48000/49000]"
     ]
    },
    {
     "name": "stderr",
     "output_type": "stream",
     "text": [
      "[I 2023-12-30 13:59:00,354] Trial 60 finished with value: 4189490.0 and parameters: {'k_l': 980, 'dropout_prob': 0.9929983065311458, 'LEARNING_LATE': 8.866167607274448e-05}. Best is trial 60 with value: 4189490.0.\n"
     ]
    },
    {
     "name": "stdout",
     "output_type": "stream",
     "text": [
      "\n",
      "loss:        0.055638  [48000/49000]"
     ]
    },
    {
     "name": "stderr",
     "output_type": "stream",
     "text": [
      "[I 2023-12-30 14:21:31,451] Trial 61 finished with value: 2380002.0 and parameters: {'k_l': 968, 'dropout_prob': 0.9945231891745878, 'LEARNING_LATE': 9.492829378371564e-05}. Best is trial 60 with value: 4189490.0.\n"
     ]
    },
    {
     "name": "stdout",
     "output_type": "stream",
     "text": [
      "\n",
      "loss:        1.083059  [48000/49000]"
     ]
    },
    {
     "name": "stderr",
     "output_type": "stream",
     "text": [
      "[I 2023-12-30 14:44:02,280] Trial 62 finished with value: 31.25 and parameters: {'k_l': 969, 'dropout_prob': 0.9980151911372134, 'LEARNING_LATE': 9.662305915660512e-05}. Best is trial 60 with value: 4189490.0.\n"
     ]
    },
    {
     "name": "stdout",
     "output_type": "stream",
     "text": [
      "\n",
      "loss:        0.000000  [48000/49000]"
     ]
    },
    {
     "name": "stderr",
     "output_type": "stream",
     "text": [
      "[I 2023-12-30 15:06:36,191] Trial 63 finished with value: 1287660.5 and parameters: {'k_l': 895, 'dropout_prob': 0.9623078488825061, 'LEARNING_LATE': 8.750461422568076e-05}. Best is trial 60 with value: 4189490.0.\n"
     ]
    },
    {
     "name": "stdout",
     "output_type": "stream",
     "text": [
      "\n",
      "loss:        0.000000  [48000/49000]"
     ]
    },
    {
     "name": "stderr",
     "output_type": "stream",
     "text": [
      "[I 2023-12-30 15:29:06,510] Trial 64 finished with value: 1749470.0 and parameters: {'k_l': 946, 'dropout_prob': 0.9625591093741942, 'LEARNING_LATE': 7.987477459089711e-05}. Best is trial 60 with value: 4189490.0.\n"
     ]
    },
    {
     "name": "stdout",
     "output_type": "stream",
     "text": [
      "\n",
      "loss:        0.000000  [48000/49000]"
     ]
    },
    {
     "name": "stderr",
     "output_type": "stream",
     "text": [
      "[I 2023-12-30 15:51:36,493] Trial 65 finished with value: 1245349.0 and parameters: {'k_l': 874, 'dropout_prob': 0.9112051777288863, 'LEARNING_LATE': 9.962722248683766e-05}. Best is trial 60 with value: 4189490.0.\n"
     ]
    },
    {
     "name": "stdout",
     "output_type": "stream",
     "text": [
      "\n",
      "loss:        0.007204  [48000/49000]"
     ]
    },
    {
     "name": "stderr",
     "output_type": "stream",
     "text": [
      "[I 2023-12-30 16:14:06,982] Trial 66 finished with value: 1357734.5 and parameters: {'k_l': 973, 'dropout_prob': 0.8410363608003844, 'LEARNING_LATE': 7.655548353628473e-05}. Best is trial 60 with value: 4189490.0.\n"
     ]
    },
    {
     "name": "stdout",
     "output_type": "stream",
     "text": [
      "\n",
      "loss:        0.146065  [48000/49000]"
     ]
    },
    {
     "name": "stderr",
     "output_type": "stream",
     "text": [
      "[I 2023-12-30 16:36:24,498] Trial 67 finished with value: 4762844.0 and parameters: {'k_l': 923, 'dropout_prob': 0.9967079885108864, 'LEARNING_LATE': 9.423835681221296e-05}. Best is trial 67 with value: 4762844.0.\n"
     ]
    },
    {
     "name": "stdout",
     "output_type": "stream",
     "text": [
      "\n",
      "loss:        0.098508  [48000/49000]"
     ]
    },
    {
     "name": "stderr",
     "output_type": "stream",
     "text": [
      "[I 2023-12-30 16:58:38,338] Trial 68 finished with value: 1297851.0 and parameters: {'k_l': 998, 'dropout_prob': 0.9780573073608405, 'LEARNING_LATE': 9.567586164971297e-05}. Best is trial 67 with value: 4762844.0.\n"
     ]
    },
    {
     "name": "stdout",
     "output_type": "stream",
     "text": [
      "\n",
      "loss:        1.422705  [48000/49000]"
     ]
    },
    {
     "name": "stderr",
     "output_type": "stream",
     "text": [
      "[I 2023-12-30 17:20:52,214] Trial 69 finished with value: 7817.0 and parameters: {'k_l': 924, 'dropout_prob': 0.9982438296469129, 'LEARNING_LATE': 8.955518515161619e-05}. Best is trial 67 with value: 4762844.0.\n"
     ]
    },
    {
     "name": "stdout",
     "output_type": "stream",
     "text": [
      "\n",
      "loss:        0.000000  [48000/49000]"
     ]
    },
    {
     "name": "stderr",
     "output_type": "stream",
     "text": [
      "[I 2023-12-30 17:43:04,636] Trial 70 finished with value: 764982.75 and parameters: {'k_l': 887, 'dropout_prob': 0.14521441343482777, 'LEARNING_LATE': 9.245661380158246e-05}. Best is trial 67 with value: 4762844.0.\n"
     ]
    },
    {
     "name": "stdout",
     "output_type": "stream",
     "text": [
      "\n",
      "loss:        0.277358  [48000/49000]"
     ]
    },
    {
     "name": "stderr",
     "output_type": "stream",
     "text": [
      "[I 2023-12-30 18:05:17,789] Trial 71 finished with value: 785421.5 and parameters: {'k_l': 973, 'dropout_prob': 0.9358624028949759, 'LEARNING_LATE': 8.304861069499724e-05}. Best is trial 67 with value: 4762844.0.\n"
     ]
    },
    {
     "name": "stdout",
     "output_type": "stream",
     "text": [
      "\n",
      "loss:        0.000000  [48000/49000]"
     ]
    },
    {
     "name": "stderr",
     "output_type": "stream",
     "text": [
      "[I 2023-12-30 18:27:30,074] Trial 72 finished with value: 709831.5 and parameters: {'k_l': 814, 'dropout_prob': 0.887827215048161, 'LEARNING_LATE': 8.891517607499928e-05}. Best is trial 67 with value: 4762844.0.\n"
     ]
    },
    {
     "name": "stdout",
     "output_type": "stream",
     "text": [
      "\n",
      "loss:        0.063740  [48000/49000]"
     ]
    },
    {
     "name": "stderr",
     "output_type": "stream",
     "text": [
      "[I 2023-12-30 18:49:43,175] Trial 73 finished with value: 1838165.0 and parameters: {'k_l': 932, 'dropout_prob': 0.9417125275628417, 'LEARNING_LATE': 3.763545539617153e-05}. Best is trial 67 with value: 4762844.0.\n"
     ]
    },
    {
     "name": "stdout",
     "output_type": "stream",
     "text": [
      "\n",
      "loss:        0.000000  [48000/49000]"
     ]
    },
    {
     "name": "stderr",
     "output_type": "stream",
     "text": [
      "[I 2023-12-30 19:11:57,287] Trial 74 finished with value: 1032591.0 and parameters: {'k_l': 862, 'dropout_prob': 0.9134599640094289, 'LEARNING_LATE': 9.610599845171709e-05}. Best is trial 67 with value: 4762844.0.\n"
     ]
    },
    {
     "name": "stdout",
     "output_type": "stream",
     "text": [
      "\n",
      "loss:        0.389808  [48000/49000]"
     ]
    },
    {
     "name": "stderr",
     "output_type": "stream",
     "text": [
      "[I 2023-12-30 19:34:09,815] Trial 75 finished with value: 1022574.5 and parameters: {'k_l': 237, 'dropout_prob': 0.9673216780927928, 'LEARNING_LATE': 9.339176169793994e-05}. Best is trial 67 with value: 4762844.0.\n"
     ]
    },
    {
     "name": "stdout",
     "output_type": "stream",
     "text": [
      "\n",
      "loss:        0.178435  [48000/49000]"
     ]
    },
    {
     "name": "stderr",
     "output_type": "stream",
     "text": [
      "[I 2023-12-30 19:56:23,061] Trial 76 finished with value: 1817578.5 and parameters: {'k_l': 416, 'dropout_prob': 0.873787767339698, 'LEARNING_LATE': 6.983818424869049e-05}. Best is trial 67 with value: 4762844.0.\n"
     ]
    },
    {
     "name": "stdout",
     "output_type": "stream",
     "text": [
      "\n",
      "loss:        0.008423  [48000/49000]"
     ]
    },
    {
     "name": "stderr",
     "output_type": "stream",
     "text": [
      "[I 2023-12-30 20:18:35,631] Trial 77 finished with value: 1461552.5 and parameters: {'k_l': 910, 'dropout_prob': 0.8188395515458124, 'LEARNING_LATE': 8.422439892392163e-05}. Best is trial 67 with value: 4762844.0.\n"
     ]
    },
    {
     "name": "stdout",
     "output_type": "stream",
     "text": [
      "\n",
      "loss:        0.327345  [48000/49000]"
     ]
    },
    {
     "name": "stderr",
     "output_type": "stream",
     "text": [
      "[I 2023-12-30 20:40:48,231] Trial 78 finished with value: 977837.25 and parameters: {'k_l': 353, 'dropout_prob': 0.3117656537949218, 'LEARNING_LATE': 6.202942568752914e-05}. Best is trial 67 with value: 4762844.0.\n"
     ]
    },
    {
     "name": "stdout",
     "output_type": "stream",
     "text": [
      "\n",
      "loss:        0.000000  [48000/49000]"
     ]
    },
    {
     "name": "stderr",
     "output_type": "stream",
     "text": [
      "[I 2023-12-30 21:03:01,076] Trial 79 finished with value: 1064570.0 and parameters: {'k_l': 975, 'dropout_prob': 0.9017496443019641, 'LEARNING_LATE': 7.80104510658366e-05}. Best is trial 67 with value: 4762844.0.\n"
     ]
    },
    {
     "name": "stdout",
     "output_type": "stream",
     "text": [
      "\n",
      "loss:        0.043941  [48000/49000]"
     ]
    },
    {
     "name": "stderr",
     "output_type": "stream",
     "text": [
      "[I 2023-12-30 21:25:14,023] Trial 80 finished with value: 1154932.5 and parameters: {'k_l': 812, 'dropout_prob': 0.9466829524105441, 'LEARNING_LATE': 8.656960713183406e-05}. Best is trial 67 with value: 4762844.0.\n"
     ]
    },
    {
     "name": "stdout",
     "output_type": "stream",
     "text": [
      "\n",
      "loss:        1.550858  [48000/49000]"
     ]
    },
    {
     "name": "stderr",
     "output_type": "stream",
     "text": [
      "[I 2023-12-30 21:47:26,126] Trial 81 finished with value: -2672.5 and parameters: {'k_l': 862, 'dropout_prob': 0.9980870071480663, 'LEARNING_LATE': 9.210233348353494e-05}. Best is trial 67 with value: 4762844.0.\n"
     ]
    },
    {
     "name": "stdout",
     "output_type": "stream",
     "text": [
      "\n",
      "loss:        0.000000  [48000/49000]"
     ]
    },
    {
     "name": "stderr",
     "output_type": "stream",
     "text": [
      "[I 2023-12-30 22:09:38,583] Trial 82 finished with value: 2200263.0 and parameters: {'k_l': 768, 'dropout_prob': 0.9659702268736694, 'LEARNING_LATE': 9.062813430752955e-05}. Best is trial 67 with value: 4762844.0.\n"
     ]
    },
    {
     "name": "stdout",
     "output_type": "stream",
     "text": [
      "\n",
      "loss:        0.000000  [48000/49000]"
     ]
    },
    {
     "name": "stderr",
     "output_type": "stream",
     "text": [
      "[I 2023-12-30 22:31:51,568] Trial 83 finished with value: 1172056.0 and parameters: {'k_l': 958, 'dropout_prob': 0.9745900651529078, 'LEARNING_LATE': 9.733204921547478e-05}. Best is trial 67 with value: 4762844.0.\n"
     ]
    },
    {
     "name": "stdout",
     "output_type": "stream",
     "text": [
      "\n",
      "loss:        0.017456  [48000/49000]"
     ]
    },
    {
     "name": "stderr",
     "output_type": "stream",
     "text": [
      "[I 2023-12-30 22:54:10,225] Trial 84 finished with value: 597453.0 and parameters: {'k_l': 897, 'dropout_prob': 0.922339795004252, 'LEARNING_LATE': 8.806723291891324e-05}. Best is trial 67 with value: 4762844.0.\n"
     ]
    },
    {
     "name": "stdout",
     "output_type": "stream",
     "text": [
      "\n",
      "loss:        0.010360  [48000/49000]"
     ]
    },
    {
     "name": "stderr",
     "output_type": "stream",
     "text": [
      "[I 2023-12-30 23:16:34,154] Trial 85 finished with value: 1166245.5 and parameters: {'k_l': 777, 'dropout_prob': 0.8529776802421669, 'LEARNING_LATE': 9.396735674258663e-05}. Best is trial 67 with value: 4762844.0.\n"
     ]
    },
    {
     "name": "stdout",
     "output_type": "stream",
     "text": [
      "\n",
      "loss:        0.006328  [48000/49000]"
     ]
    },
    {
     "name": "stderr",
     "output_type": "stream",
     "text": [
      "[I 2023-12-30 23:38:58,385] Trial 86 finished with value: 1828309.0 and parameters: {'k_l': 766, 'dropout_prob': 0.9431346909541312, 'LEARNING_LATE': 9.07704767511299e-05}. Best is trial 67 with value: 4762844.0.\n"
     ]
    },
    {
     "name": "stdout",
     "output_type": "stream",
     "text": [
      "\n",
      "loss:        0.377476  [48000/49000]"
     ]
    },
    {
     "name": "stderr",
     "output_type": "stream",
     "text": [
      "[I 2023-12-31 00:01:22,064] Trial 87 finished with value: 1111117.0 and parameters: {'k_l': 939, 'dropout_prob': 0.6304467442090582, 'LEARNING_LATE': 9.991905551703036e-05}. Best is trial 67 with value: 4762844.0.\n"
     ]
    },
    {
     "name": "stdout",
     "output_type": "stream",
     "text": [
      "\n",
      "loss:        0.067722  [48000/49000]"
     ]
    },
    {
     "name": "stderr",
     "output_type": "stream",
     "text": [
      "[I 2023-12-31 00:23:45,638] Trial 88 finished with value: 1960647.5 and parameters: {'k_l': 710, 'dropout_prob': 0.9726092419981908, 'LEARNING_LATE': 5.5586338626347977e-05}. Best is trial 67 with value: 4762844.0.\n"
     ]
    },
    {
     "name": "stdout",
     "output_type": "stream",
     "text": [
      "\n",
      "loss:        0.039517  [48000/49000]"
     ]
    },
    {
     "name": "stderr",
     "output_type": "stream",
     "text": [
      "[I 2023-12-31 00:46:15,360] Trial 89 finished with value: 1107713.0 and parameters: {'k_l': 999, 'dropout_prob': 0.465572804766701, 'LEARNING_LATE': 8.114030790712806e-05}. Best is trial 67 with value: 4762844.0.\n"
     ]
    },
    {
     "name": "stdout",
     "output_type": "stream",
     "text": [
      "\n",
      "loss:        0.001025  [48000/49000]"
     ]
    },
    {
     "name": "stderr",
     "output_type": "stream",
     "text": [
      "[I 2023-12-31 01:08:43,121] Trial 90 finished with value: 1585461.0 and parameters: {'k_l': 850, 'dropout_prob': 0.8924646991015647, 'LEARNING_LATE': 3.353583036702222e-05}. Best is trial 67 with value: 4762844.0.\n"
     ]
    },
    {
     "name": "stdout",
     "output_type": "stream",
     "text": [
      "\n",
      "loss:        0.000000  [48000/49000]"
     ]
    },
    {
     "name": "stderr",
     "output_type": "stream",
     "text": [
      "[I 2023-12-31 01:31:09,940] Trial 91 finished with value: 1782240.0 and parameters: {'k_l': 821, 'dropout_prob': 0.9796070178821106, 'LEARNING_LATE': 5.599474099040576e-05}. Best is trial 67 with value: 4762844.0.\n"
     ]
    },
    {
     "name": "stdout",
     "output_type": "stream",
     "text": [
      "\n",
      "loss:        0.000000  [48000/49000]"
     ]
    },
    {
     "name": "stderr",
     "output_type": "stream",
     "text": [
      "[I 2023-12-31 01:53:33,863] Trial 92 finished with value: 2844761.0 and parameters: {'k_l': 697, 'dropout_prob': 0.9468568854568599, 'LEARNING_LATE': 5.145309642026588e-05}. Best is trial 67 with value: 4762844.0.\n"
     ]
    },
    {
     "name": "stdout",
     "output_type": "stream",
     "text": [
      "\n",
      "loss:        0.000000  [48000/49000]"
     ]
    },
    {
     "name": "stderr",
     "output_type": "stream",
     "text": [
      "[I 2023-12-31 02:15:57,426] Trial 93 finished with value: 1794188.0 and parameters: {'k_l': 801, 'dropout_prob': 0.9173404362875301, 'LEARNING_LATE': 5.1868344759682003e-05}. Best is trial 67 with value: 4762844.0.\n"
     ]
    },
    {
     "name": "stdout",
     "output_type": "stream",
     "text": [
      "\n",
      "loss:        0.000000  [48000/49000]"
     ]
    },
    {
     "name": "stderr",
     "output_type": "stream",
     "text": [
      "[I 2023-12-31 02:38:21,396] Trial 94 finished with value: 2031010.0 and parameters: {'k_l': 748, 'dropout_prob': 0.9476302929751997, 'LEARNING_LATE': 4.6551593852681353e-05}. Best is trial 67 with value: 4762844.0.\n"
     ]
    },
    {
     "name": "stdout",
     "output_type": "stream",
     "text": [
      "\n",
      "loss:        0.000000  [48000/49000]"
     ]
    },
    {
     "name": "stderr",
     "output_type": "stream",
     "text": [
      "[I 2023-12-31 03:00:42,362] Trial 95 finished with value: 1803622.0 and parameters: {'k_l': 755, 'dropout_prob': 0.9483404615981451, 'LEARNING_LATE': 4.690349690379174e-05}. Best is trial 67 with value: 4762844.0.\n"
     ]
    },
    {
     "name": "stdout",
     "output_type": "stream",
     "text": [
      "\n",
      "loss:        1.228243  [48000/49000]"
     ]
    },
    {
     "name": "stderr",
     "output_type": "stream",
     "text": [
      "[I 2023-12-31 03:23:06,748] Trial 96 finished with value: 9178.75 and parameters: {'k_l': 583, 'dropout_prob': 0.9991572069503487, 'LEARNING_LATE': 4.277693794588171e-05}. Best is trial 67 with value: 4762844.0.\n"
     ]
    },
    {
     "name": "stdout",
     "output_type": "stream",
     "text": [
      "\n",
      "loss:        0.000000  [48000/49000]"
     ]
    },
    {
     "name": "stderr",
     "output_type": "stream",
     "text": [
      "[I 2023-12-31 03:45:30,145] Trial 97 finished with value: 1904824.5 and parameters: {'k_l': 719, 'dropout_prob': 0.8677581518329774, 'LEARNING_LATE': 5.8389062161166994e-05}. Best is trial 67 with value: 4762844.0.\n"
     ]
    },
    {
     "name": "stdout",
     "output_type": "stream",
     "text": [
      "\n",
      "loss:        0.639705  [48000/49000]"
     ]
    },
    {
     "name": "stderr",
     "output_type": "stream",
     "text": [
      "[I 2023-12-31 04:07:53,658] Trial 98 finished with value: 1734810.0 and parameters: {'k_l': 684, 'dropout_prob': 0.9531446404825401, 'LEARNING_LATE': 5.281808732966307e-05}. Best is trial 67 with value: 4762844.0.\n"
     ]
    },
    {
     "name": "stdout",
     "output_type": "stream",
     "text": [
      "\n",
      "loss:        0.230126  [48000/49000]"
     ]
    },
    {
     "name": "stderr",
     "output_type": "stream",
     "text": [
      "[I 2023-12-31 04:30:17,164] Trial 99 finished with value: 2391363.0 and parameters: {'k_l': 912, 'dropout_prob': 0.9789422329753378, 'LEARNING_LATE': 4.063367690576573e-05}. Best is trial 67 with value: 4762844.0.\n"
     ]
    },
    {
     "name": "stdout",
     "output_type": "stream",
     "text": [
      "\n",
      "loss:        0.019937  [48000/49000]"
     ]
    },
    {
     "name": "stderr",
     "output_type": "stream",
     "text": [
      "[I 2023-12-31 04:52:41,501] Trial 100 finished with value: 1377139.5 and parameters: {'k_l': 880, 'dropout_prob': 0.8879534895834845, 'LEARNING_LATE': 3.098386504379489e-05}. Best is trial 67 with value: 4762844.0.\n"
     ]
    },
    {
     "name": "stdout",
     "output_type": "stream",
     "text": [
      "\n",
      "loss:        0.000000  [48000/49000]"
     ]
    },
    {
     "name": "stderr",
     "output_type": "stream",
     "text": [
      "[I 2023-12-31 05:15:05,522] Trial 101 finished with value: 1629652.0 and parameters: {'k_l': 910, 'dropout_prob': 0.9819458826302263, 'LEARNING_LATE': 4.551350374631642e-05}. Best is trial 67 with value: 4762844.0.\n"
     ]
    },
    {
     "name": "stdout",
     "output_type": "stream",
     "text": [
      "\n",
      "loss:        0.000000  [48000/49000]"
     ]
    },
    {
     "name": "stderr",
     "output_type": "stream",
     "text": [
      "[I 2023-12-31 05:37:28,843] Trial 102 finished with value: 1711100.0 and parameters: {'k_l': 979, 'dropout_prob': 0.932157413360726, 'LEARNING_LATE': 3.816826286765331e-05}. Best is trial 67 with value: 4762844.0.\n"
     ]
    },
    {
     "name": "stdout",
     "output_type": "stream",
     "text": [
      "\n",
      "loss:        0.024495  [48000/49000]"
     ]
    },
    {
     "name": "stderr",
     "output_type": "stream",
     "text": [
      "[I 2023-12-31 05:59:54,433] Trial 103 finished with value: 1338779.0 and parameters: {'k_l': 938, 'dropout_prob': 0.9625949230206967, 'LEARNING_LATE': 4.106462497738663e-05}. Best is trial 67 with value: 4762844.0.\n"
     ]
    },
    {
     "name": "stdout",
     "output_type": "stream",
     "text": [
      "\n",
      "loss:        0.234131  [48000/49000]"
     ]
    },
    {
     "name": "stderr",
     "output_type": "stream",
     "text": [
      "[I 2023-12-31 06:22:19,366] Trial 104 finished with value: 1776475.0 and parameters: {'k_l': 786, 'dropout_prob': 0.9791014504744744, 'LEARNING_LATE': 4.438873813898981e-05}. Best is trial 67 with value: 4762844.0.\n"
     ]
    },
    {
     "name": "stdout",
     "output_type": "stream",
     "text": [
      "\n",
      "loss:        0.000000  [48000/49000]"
     ]
    },
    {
     "name": "stderr",
     "output_type": "stream",
     "text": [
      "[I 2023-12-31 06:44:43,750] Trial 105 finished with value: 1269837.0 and parameters: {'k_l': 919, 'dropout_prob': 0.9275075668570599, 'LEARNING_LATE': 9.483883955351719e-05}. Best is trial 67 with value: 4762844.0.\n"
     ]
    },
    {
     "name": "stdout",
     "output_type": "stream",
     "text": [
      "\n",
      "loss:        0.000000  [48000/49000]"
     ]
    },
    {
     "name": "stderr",
     "output_type": "stream",
     "text": [
      "[I 2023-12-31 07:07:09,293] Trial 106 finished with value: 995018.0 and parameters: {'k_l': 959, 'dropout_prob': 0.9447869600138412, 'LEARNING_LATE': 4.856502062169654e-05}. Best is trial 67 with value: 4762844.0.\n"
     ]
    },
    {
     "name": "stdout",
     "output_type": "stream",
     "text": [
      "\n",
      "loss:        0.024846  [48000/49000]"
     ]
    },
    {
     "name": "stderr",
     "output_type": "stream",
     "text": [
      "[I 2023-12-31 07:29:34,059] Trial 107 finished with value: 1624667.5 and parameters: {'k_l': 629, 'dropout_prob': 0.8986168021309088, 'LEARNING_LATE': 9.118524482831535e-05}. Best is trial 67 with value: 4762844.0.\n"
     ]
    },
    {
     "name": "stdout",
     "output_type": "stream",
     "text": [
      "\n",
      "loss:        0.068870  [48000/49000]"
     ]
    },
    {
     "name": "stderr",
     "output_type": "stream",
     "text": [
      "[I 2023-12-31 07:51:59,199] Trial 108 finished with value: 1168516.0 and parameters: {'k_l': 847, 'dropout_prob': 0.8298382462247492, 'LEARNING_LATE': 9.759104621633287e-05}. Best is trial 67 with value: 4762844.0.\n"
     ]
    },
    {
     "name": "stdout",
     "output_type": "stream",
     "text": [
      "\n",
      "loss:        0.173875  [48000/49000]"
     ]
    },
    {
     "name": "stderr",
     "output_type": "stream",
     "text": [
      "[I 2023-12-31 08:14:24,217] Trial 109 finished with value: 1659454.0 and parameters: {'k_l': 755, 'dropout_prob': 0.9816689497799018, 'LEARNING_LATE': 8.527799191448088e-05}. Best is trial 67 with value: 4762844.0.\n"
     ]
    },
    {
     "name": "stdout",
     "output_type": "stream",
     "text": [
      "\n",
      "loss:        1.040962  [48000/49000]"
     ]
    },
    {
     "name": "stderr",
     "output_type": "stream",
     "text": [
      "[I 2023-12-31 08:36:46,016] Trial 110 finished with value: 1006512.25 and parameters: {'k_l': 525, 'dropout_prob': 0.5356719150212572, 'LEARNING_LATE': 5.0052016158090986e-05}. Best is trial 67 with value: 4762844.0.\n"
     ]
    },
    {
     "name": "stdout",
     "output_type": "stream",
     "text": [
      "\n",
      "loss:        2.433426  [48000/49000]"
     ]
    },
    {
     "name": "stderr",
     "output_type": "stream",
     "text": [
      "[I 2023-12-31 08:59:10,491] Trial 111 finished with value: 1827191.5 and parameters: {'k_l': 824, 'dropout_prob': 0.9173527764822836, 'LEARNING_LATE': 3.644033502492905e-05}. Best is trial 67 with value: 4762844.0.\n"
     ]
    },
    {
     "name": "stdout",
     "output_type": "stream",
     "text": [
      "\n",
      "loss:        0.104189  [48000/49000]"
     ]
    },
    {
     "name": "stderr",
     "output_type": "stream",
     "text": [
      "[I 2023-12-31 09:21:35,344] Trial 112 finished with value: 1516294.5 and parameters: {'k_l': 881, 'dropout_prob': 0.8608357320753939, 'LEARNING_LATE': 4.014455594134309e-05}. Best is trial 67 with value: 4762844.0.\n"
     ]
    },
    {
     "name": "stdout",
     "output_type": "stream",
     "text": [
      "\n",
      "loss:        0.000000  [48000/49000]"
     ]
    },
    {
     "name": "stderr",
     "output_type": "stream",
     "text": [
      "[I 2023-12-31 09:43:59,896] Trial 113 finished with value: 1620822.0 and parameters: {'k_l': 902, 'dropout_prob': 0.956658242998124, 'LEARNING_LATE': 3.544083217946943e-05}. Best is trial 67 with value: 4762844.0.\n"
     ]
    },
    {
     "name": "stdout",
     "output_type": "stream",
     "text": [
      "\n",
      "loss:        0.000000  [48000/49000]"
     ]
    },
    {
     "name": "stderr",
     "output_type": "stream",
     "text": [
      "[I 2023-12-31 10:06:23,979] Trial 114 finished with value: 1718181.0 and parameters: {'k_l': 481, 'dropout_prob': 0.9072864082997608, 'LEARNING_LATE': 8.87239384544418e-05}. Best is trial 67 with value: 4762844.0.\n"
     ]
    },
    {
     "name": "stdout",
     "output_type": "stream",
     "text": [
      "\n",
      "loss:        0.000000  [48000/49000]"
     ]
    },
    {
     "name": "stderr",
     "output_type": "stream",
     "text": [
      "[I 2023-12-31 10:28:48,436] Trial 115 finished with value: 1015362.5 and parameters: {'k_l': 97, 'dropout_prob': 0.9334450778678792, 'LEARNING_LATE': 3.2285157505093786e-05}. Best is trial 67 with value: 4762844.0.\n"
     ]
    },
    {
     "name": "stdout",
     "output_type": "stream",
     "text": [
      "\n",
      "loss:        0.118089  [48000/49000]"
     ]
    },
    {
     "name": "stderr",
     "output_type": "stream",
     "text": [
      "[I 2023-12-31 10:51:13,441] Trial 116 finished with value: 3590722.0 and parameters: {'k_l': 984, 'dropout_prob': 0.9972574607990561, 'LEARNING_LATE': 6.216409174656682e-05}. Best is trial 67 with value: 4762844.0.\n"
     ]
    },
    {
     "name": "stdout",
     "output_type": "stream",
     "text": [
      "\n",
      "loss:        0.611024  [48000/49000]"
     ]
    },
    {
     "name": "stderr",
     "output_type": "stream",
     "text": [
      "[I 2023-12-31 11:13:38,103] Trial 117 finished with value: 2149148.0 and parameters: {'k_l': 983, 'dropout_prob': 0.9975802529185581, 'LEARNING_LATE': 6.465641555196626e-05}. Best is trial 67 with value: 4762844.0.\n"
     ]
    },
    {
     "name": "stdout",
     "output_type": "stream",
     "text": [
      "\n",
      "loss:        0.832015  [48000/49000]"
     ]
    },
    {
     "name": "stderr",
     "output_type": "stream",
     "text": [
      "[I 2023-12-31 11:36:02,481] Trial 118 finished with value: 604652.0 and parameters: {'k_l': 984, 'dropout_prob': 0.997862961594131, 'LEARNING_LATE': 6.433344443637878e-05}. Best is trial 67 with value: 4762844.0.\n"
     ]
    },
    {
     "name": "stdout",
     "output_type": "stream",
     "text": [
      "\n",
      "loss:        0.177723  [48000/49000]"
     ]
    },
    {
     "name": "stderr",
     "output_type": "stream",
     "text": [
      "[I 2023-12-31 11:58:28,217] Trial 119 finished with value: 2035519.0 and parameters: {'k_l': 955, 'dropout_prob': 0.9768220189682504, 'LEARNING_LATE': 5.914865074274194e-05}. Best is trial 67 with value: 4762844.0.\n"
     ]
    },
    {
     "name": "stdout",
     "output_type": "stream",
     "text": [
      "\n",
      "loss:        1.294243  [48000/49000]"
     ]
    },
    {
     "name": "stderr",
     "output_type": "stream",
     "text": [
      "[I 2023-12-31 12:20:53,778] Trial 120 finished with value: 33.5 and parameters: {'k_l': 1000, 'dropout_prob': 0.9985426287233103, 'LEARNING_LATE': 7.128544443621584e-05}. Best is trial 67 with value: 4762844.0.\n"
     ]
    },
    {
     "name": "stdout",
     "output_type": "stream",
     "text": [
      "\n",
      "loss:        0.255619  [48000/49000]"
     ]
    },
    {
     "name": "stderr",
     "output_type": "stream",
     "text": [
      "[I 2023-12-31 12:43:18,932] Trial 121 finished with value: 1374835.0 and parameters: {'k_l': 954, 'dropout_prob': 0.9741595723867796, 'LEARNING_LATE': 6.112786541633519e-05}. Best is trial 67 with value: 4762844.0.\n"
     ]
    },
    {
     "name": "stdout",
     "output_type": "stream",
     "text": [
      "\n",
      "loss:        0.000000  [48000/49000]"
     ]
    },
    {
     "name": "stderr",
     "output_type": "stream",
     "text": [
      "[I 2023-12-31 13:05:43,159] Trial 122 finished with value: 2287427.0 and parameters: {'k_l': 932, 'dropout_prob': 0.9669486844081011, 'LEARNING_LATE': 6.444671564738924e-05}. Best is trial 67 with value: 4762844.0.\n"
     ]
    },
    {
     "name": "stdout",
     "output_type": "stream",
     "text": [
      "\n",
      "loss:        0.000000  [48000/49000]"
     ]
    },
    {
     "name": "stderr",
     "output_type": "stream",
     "text": [
      "[I 2023-12-31 13:28:08,115] Trial 123 finished with value: 1639232.0 and parameters: {'k_l': 924, 'dropout_prob': 0.9709168448690778, 'LEARNING_LATE': 6.620036110432638e-05}. Best is trial 67 with value: 4762844.0.\n"
     ]
    },
    {
     "name": "stdout",
     "output_type": "stream",
     "text": [
      "\n",
      "loss:        0.000000  [48000/49000]"
     ]
    },
    {
     "name": "stderr",
     "output_type": "stream",
     "text": [
      "[I 2023-12-31 13:50:35,591] Trial 124 finished with value: 2206260.0 and parameters: {'k_l': 938, 'dropout_prob': 0.9580873606104127, 'LEARNING_LATE': 6.991299140965824e-05}. Best is trial 67 with value: 4762844.0.\n"
     ]
    },
    {
     "name": "stdout",
     "output_type": "stream",
     "text": [
      "\n",
      "loss:        0.000000  [48000/49000]"
     ]
    },
    {
     "name": "stderr",
     "output_type": "stream",
     "text": [
      "[I 2023-12-31 14:12:48,825] Trial 125 finished with value: 1471952.0 and parameters: {'k_l': 938, 'dropout_prob': 0.952787585679806, 'LEARNING_LATE': 6.207615656609122e-05}. Best is trial 67 with value: 4762844.0.\n"
     ]
    },
    {
     "name": "stdout",
     "output_type": "stream",
     "text": [
      "\n",
      "loss:        0.037781  [48000/49000]"
     ]
    },
    {
     "name": "stderr",
     "output_type": "stream",
     "text": [
      "[I 2023-12-31 14:35:02,107] Trial 126 finished with value: 1045813.5 and parameters: {'k_l': 901, 'dropout_prob': 0.9233651444749218, 'LEARNING_LATE': 8.701744474163741e-05}. Best is trial 67 with value: 4762844.0.\n"
     ]
    },
    {
     "name": "stdout",
     "output_type": "stream",
     "text": [
      "\n",
      "loss:        0.000000  [32000/49000]"
     ]
    },
    {
     "name": "stderr",
     "output_type": "stream",
     "text": [
      "[W 2023-12-31 14:47:50,372] Trial 127 failed with parameters: {'k_l': 969, 'dropout_prob': 0.882650761789302, 'LEARNING_LATE': 6.776723277712564e-05} because of the following error: KeyboardInterrupt().\n",
      "Traceback (most recent call last):\n",
      "  File \"c:\\Users\\yuuta\\anaconda3\\envs\\fashion\\Lib\\site-packages\\optuna\\study\\_optimize.py\", line 200, in _run_trial\n",
      "    value_or_values = func(trial)\n",
      "                      ^^^^^^^^^^^\n",
      "  File \"C:\\Users\\yuuta\\AppData\\Local\\Temp\\ipykernel_14168\\1874164383.py\", line 18, in __call__\n",
      "    train_loop(train_dataloader, model, loss_fn, optimizer)\n",
      "  File \"C:\\Users\\yuuta\\AppData\\Local\\Temp\\ipykernel_14168\\2378078362.py\", line 8, in train_loop\n",
      "    negative_vecter = model(negative.to(device))\n",
      "                            ^^^^^^^^^^^^^^^^^^^\n",
      "KeyboardInterrupt\n",
      "[W 2023-12-31 14:47:50,374] Trial 127 failed with value None.\n"
     ]
    },
    {
     "ename": "KeyboardInterrupt",
     "evalue": "",
     "output_type": "error",
     "traceback": [
      "\u001b[1;31m---------------------------------------------------------------------------\u001b[0m",
      "\u001b[1;31mKeyboardInterrupt\u001b[0m                         Traceback (most recent call last)",
      "Cell \u001b[1;32mIn[9], line 5\u001b[0m\n\u001b[0;32m      3\u001b[0m objective \u001b[38;5;241m=\u001b[39m Objective()\n\u001b[0;32m      4\u001b[0m study \u001b[38;5;241m=\u001b[39m optuna\u001b[38;5;241m.\u001b[39mcreate_study(direction\u001b[38;5;241m=\u001b[39m\u001b[38;5;124m'\u001b[39m\u001b[38;5;124mmaximize\u001b[39m\u001b[38;5;124m'\u001b[39m) \u001b[38;5;66;03m# 最大化\u001b[39;00m\n\u001b[1;32m----> 5\u001b[0m \u001b[43mstudy\u001b[49m\u001b[38;5;241;43m.\u001b[39;49m\u001b[43moptimize\u001b[49m\u001b[43m(\u001b[49m\u001b[43mobjective\u001b[49m\u001b[43m,\u001b[49m\u001b[43m \u001b[49m\u001b[43mtimeout\u001b[49m\u001b[38;5;241;43m=\u001b[39;49m\u001b[38;5;241;43m7200\u001b[39;49m\u001b[43m \u001b[49m\u001b[38;5;241;43m*\u001b[39;49m\u001b[43m \u001b[49m\u001b[38;5;241;43m30\u001b[39;49m\u001b[43m)\u001b[49m\n",
      "File \u001b[1;32mc:\\Users\\yuuta\\anaconda3\\envs\\fashion\\Lib\\site-packages\\optuna\\study\\study.py:451\u001b[0m, in \u001b[0;36mStudy.optimize\u001b[1;34m(self, func, n_trials, timeout, n_jobs, catch, callbacks, gc_after_trial, show_progress_bar)\u001b[0m\n\u001b[0;32m    348\u001b[0m \u001b[38;5;28;01mdef\u001b[39;00m \u001b[38;5;21moptimize\u001b[39m(\n\u001b[0;32m    349\u001b[0m     \u001b[38;5;28mself\u001b[39m,\n\u001b[0;32m    350\u001b[0m     func: ObjectiveFuncType,\n\u001b[1;32m   (...)\u001b[0m\n\u001b[0;32m    357\u001b[0m     show_progress_bar: \u001b[38;5;28mbool\u001b[39m \u001b[38;5;241m=\u001b[39m \u001b[38;5;28;01mFalse\u001b[39;00m,\n\u001b[0;32m    358\u001b[0m ) \u001b[38;5;241m-\u001b[39m\u001b[38;5;241m>\u001b[39m \u001b[38;5;28;01mNone\u001b[39;00m:\n\u001b[0;32m    359\u001b[0m \u001b[38;5;250m    \u001b[39m\u001b[38;5;124;03m\"\"\"Optimize an objective function.\u001b[39;00m\n\u001b[0;32m    360\u001b[0m \n\u001b[0;32m    361\u001b[0m \u001b[38;5;124;03m    Optimization is done by choosing a suitable set of hyperparameter values from a given\u001b[39;00m\n\u001b[1;32m   (...)\u001b[0m\n\u001b[0;32m    449\u001b[0m \u001b[38;5;124;03m            If nested invocation of this method occurs.\u001b[39;00m\n\u001b[0;32m    450\u001b[0m \u001b[38;5;124;03m    \"\"\"\u001b[39;00m\n\u001b[1;32m--> 451\u001b[0m     \u001b[43m_optimize\u001b[49m\u001b[43m(\u001b[49m\n\u001b[0;32m    452\u001b[0m \u001b[43m        \u001b[49m\u001b[43mstudy\u001b[49m\u001b[38;5;241;43m=\u001b[39;49m\u001b[38;5;28;43mself\u001b[39;49m\u001b[43m,\u001b[49m\n\u001b[0;32m    453\u001b[0m \u001b[43m        \u001b[49m\u001b[43mfunc\u001b[49m\u001b[38;5;241;43m=\u001b[39;49m\u001b[43mfunc\u001b[49m\u001b[43m,\u001b[49m\n\u001b[0;32m    454\u001b[0m \u001b[43m        \u001b[49m\u001b[43mn_trials\u001b[49m\u001b[38;5;241;43m=\u001b[39;49m\u001b[43mn_trials\u001b[49m\u001b[43m,\u001b[49m\n\u001b[0;32m    455\u001b[0m \u001b[43m        \u001b[49m\u001b[43mtimeout\u001b[49m\u001b[38;5;241;43m=\u001b[39;49m\u001b[43mtimeout\u001b[49m\u001b[43m,\u001b[49m\n\u001b[0;32m    456\u001b[0m \u001b[43m        \u001b[49m\u001b[43mn_jobs\u001b[49m\u001b[38;5;241;43m=\u001b[39;49m\u001b[43mn_jobs\u001b[49m\u001b[43m,\u001b[49m\n\u001b[0;32m    457\u001b[0m \u001b[43m        \u001b[49m\u001b[43mcatch\u001b[49m\u001b[38;5;241;43m=\u001b[39;49m\u001b[38;5;28;43mtuple\u001b[39;49m\u001b[43m(\u001b[49m\u001b[43mcatch\u001b[49m\u001b[43m)\u001b[49m\u001b[43m \u001b[49m\u001b[38;5;28;43;01mif\u001b[39;49;00m\u001b[43m \u001b[49m\u001b[38;5;28;43misinstance\u001b[39;49m\u001b[43m(\u001b[49m\u001b[43mcatch\u001b[49m\u001b[43m,\u001b[49m\u001b[43m \u001b[49m\u001b[43mIterable\u001b[49m\u001b[43m)\u001b[49m\u001b[43m \u001b[49m\u001b[38;5;28;43;01melse\u001b[39;49;00m\u001b[43m \u001b[49m\u001b[43m(\u001b[49m\u001b[43mcatch\u001b[49m\u001b[43m,\u001b[49m\u001b[43m)\u001b[49m\u001b[43m,\u001b[49m\n\u001b[0;32m    458\u001b[0m \u001b[43m        \u001b[49m\u001b[43mcallbacks\u001b[49m\u001b[38;5;241;43m=\u001b[39;49m\u001b[43mcallbacks\u001b[49m\u001b[43m,\u001b[49m\n\u001b[0;32m    459\u001b[0m \u001b[43m        \u001b[49m\u001b[43mgc_after_trial\u001b[49m\u001b[38;5;241;43m=\u001b[39;49m\u001b[43mgc_after_trial\u001b[49m\u001b[43m,\u001b[49m\n\u001b[0;32m    460\u001b[0m \u001b[43m        \u001b[49m\u001b[43mshow_progress_bar\u001b[49m\u001b[38;5;241;43m=\u001b[39;49m\u001b[43mshow_progress_bar\u001b[49m\u001b[43m,\u001b[49m\n\u001b[0;32m    461\u001b[0m \u001b[43m    \u001b[49m\u001b[43m)\u001b[49m\n",
      "File \u001b[1;32mc:\\Users\\yuuta\\anaconda3\\envs\\fashion\\Lib\\site-packages\\optuna\\study\\_optimize.py:66\u001b[0m, in \u001b[0;36m_optimize\u001b[1;34m(study, func, n_trials, timeout, n_jobs, catch, callbacks, gc_after_trial, show_progress_bar)\u001b[0m\n\u001b[0;32m     64\u001b[0m \u001b[38;5;28;01mtry\u001b[39;00m:\n\u001b[0;32m     65\u001b[0m     \u001b[38;5;28;01mif\u001b[39;00m n_jobs \u001b[38;5;241m==\u001b[39m \u001b[38;5;241m1\u001b[39m:\n\u001b[1;32m---> 66\u001b[0m         \u001b[43m_optimize_sequential\u001b[49m\u001b[43m(\u001b[49m\n\u001b[0;32m     67\u001b[0m \u001b[43m            \u001b[49m\u001b[43mstudy\u001b[49m\u001b[43m,\u001b[49m\n\u001b[0;32m     68\u001b[0m \u001b[43m            \u001b[49m\u001b[43mfunc\u001b[49m\u001b[43m,\u001b[49m\n\u001b[0;32m     69\u001b[0m \u001b[43m            \u001b[49m\u001b[43mn_trials\u001b[49m\u001b[43m,\u001b[49m\n\u001b[0;32m     70\u001b[0m \u001b[43m            \u001b[49m\u001b[43mtimeout\u001b[49m\u001b[43m,\u001b[49m\n\u001b[0;32m     71\u001b[0m \u001b[43m            \u001b[49m\u001b[43mcatch\u001b[49m\u001b[43m,\u001b[49m\n\u001b[0;32m     72\u001b[0m \u001b[43m            \u001b[49m\u001b[43mcallbacks\u001b[49m\u001b[43m,\u001b[49m\n\u001b[0;32m     73\u001b[0m \u001b[43m            \u001b[49m\u001b[43mgc_after_trial\u001b[49m\u001b[43m,\u001b[49m\n\u001b[0;32m     74\u001b[0m \u001b[43m            \u001b[49m\u001b[43mreseed_sampler_rng\u001b[49m\u001b[38;5;241;43m=\u001b[39;49m\u001b[38;5;28;43;01mFalse\u001b[39;49;00m\u001b[43m,\u001b[49m\n\u001b[0;32m     75\u001b[0m \u001b[43m            \u001b[49m\u001b[43mtime_start\u001b[49m\u001b[38;5;241;43m=\u001b[39;49m\u001b[38;5;28;43;01mNone\u001b[39;49;00m\u001b[43m,\u001b[49m\n\u001b[0;32m     76\u001b[0m \u001b[43m            \u001b[49m\u001b[43mprogress_bar\u001b[49m\u001b[38;5;241;43m=\u001b[39;49m\u001b[43mprogress_bar\u001b[49m\u001b[43m,\u001b[49m\n\u001b[0;32m     77\u001b[0m \u001b[43m        \u001b[49m\u001b[43m)\u001b[49m\n\u001b[0;32m     78\u001b[0m     \u001b[38;5;28;01melse\u001b[39;00m:\n\u001b[0;32m     79\u001b[0m         \u001b[38;5;28;01mif\u001b[39;00m n_jobs \u001b[38;5;241m==\u001b[39m \u001b[38;5;241m-\u001b[39m\u001b[38;5;241m1\u001b[39m:\n",
      "File \u001b[1;32mc:\\Users\\yuuta\\anaconda3\\envs\\fashion\\Lib\\site-packages\\optuna\\study\\_optimize.py:163\u001b[0m, in \u001b[0;36m_optimize_sequential\u001b[1;34m(study, func, n_trials, timeout, catch, callbacks, gc_after_trial, reseed_sampler_rng, time_start, progress_bar)\u001b[0m\n\u001b[0;32m    160\u001b[0m         \u001b[38;5;28;01mbreak\u001b[39;00m\n\u001b[0;32m    162\u001b[0m \u001b[38;5;28;01mtry\u001b[39;00m:\n\u001b[1;32m--> 163\u001b[0m     frozen_trial \u001b[38;5;241m=\u001b[39m \u001b[43m_run_trial\u001b[49m\u001b[43m(\u001b[49m\u001b[43mstudy\u001b[49m\u001b[43m,\u001b[49m\u001b[43m \u001b[49m\u001b[43mfunc\u001b[49m\u001b[43m,\u001b[49m\u001b[43m \u001b[49m\u001b[43mcatch\u001b[49m\u001b[43m)\u001b[49m\n\u001b[0;32m    164\u001b[0m \u001b[38;5;28;01mfinally\u001b[39;00m:\n\u001b[0;32m    165\u001b[0m     \u001b[38;5;66;03m# The following line mitigates memory problems that can be occurred in some\u001b[39;00m\n\u001b[0;32m    166\u001b[0m     \u001b[38;5;66;03m# environments (e.g., services that use computing containers such as GitHub Actions).\u001b[39;00m\n\u001b[0;32m    167\u001b[0m     \u001b[38;5;66;03m# Please refer to the following PR for further details:\u001b[39;00m\n\u001b[0;32m    168\u001b[0m     \u001b[38;5;66;03m# https://github.com/optuna/optuna/pull/325.\u001b[39;00m\n\u001b[0;32m    169\u001b[0m     \u001b[38;5;28;01mif\u001b[39;00m gc_after_trial:\n",
      "File \u001b[1;32mc:\\Users\\yuuta\\anaconda3\\envs\\fashion\\Lib\\site-packages\\optuna\\study\\_optimize.py:251\u001b[0m, in \u001b[0;36m_run_trial\u001b[1;34m(study, func, catch)\u001b[0m\n\u001b[0;32m    244\u001b[0m         \u001b[38;5;28;01massert\u001b[39;00m \u001b[38;5;28;01mFalse\u001b[39;00m, \u001b[38;5;124m\"\u001b[39m\u001b[38;5;124mShould not reach.\u001b[39m\u001b[38;5;124m\"\u001b[39m\n\u001b[0;32m    246\u001b[0m \u001b[38;5;28;01mif\u001b[39;00m (\n\u001b[0;32m    247\u001b[0m     frozen_trial\u001b[38;5;241m.\u001b[39mstate \u001b[38;5;241m==\u001b[39m TrialState\u001b[38;5;241m.\u001b[39mFAIL\n\u001b[0;32m    248\u001b[0m     \u001b[38;5;129;01mand\u001b[39;00m func_err \u001b[38;5;129;01mis\u001b[39;00m \u001b[38;5;129;01mnot\u001b[39;00m \u001b[38;5;28;01mNone\u001b[39;00m\n\u001b[0;32m    249\u001b[0m     \u001b[38;5;129;01mand\u001b[39;00m \u001b[38;5;129;01mnot\u001b[39;00m \u001b[38;5;28misinstance\u001b[39m(func_err, catch)\n\u001b[0;32m    250\u001b[0m ):\n\u001b[1;32m--> 251\u001b[0m     \u001b[38;5;28;01mraise\u001b[39;00m func_err\n\u001b[0;32m    252\u001b[0m \u001b[38;5;28;01mreturn\u001b[39;00m frozen_trial\n",
      "File \u001b[1;32mc:\\Users\\yuuta\\anaconda3\\envs\\fashion\\Lib\\site-packages\\optuna\\study\\_optimize.py:200\u001b[0m, in \u001b[0;36m_run_trial\u001b[1;34m(study, func, catch)\u001b[0m\n\u001b[0;32m    198\u001b[0m \u001b[38;5;28;01mwith\u001b[39;00m get_heartbeat_thread(trial\u001b[38;5;241m.\u001b[39m_trial_id, study\u001b[38;5;241m.\u001b[39m_storage):\n\u001b[0;32m    199\u001b[0m     \u001b[38;5;28;01mtry\u001b[39;00m:\n\u001b[1;32m--> 200\u001b[0m         value_or_values \u001b[38;5;241m=\u001b[39m \u001b[43mfunc\u001b[49m\u001b[43m(\u001b[49m\u001b[43mtrial\u001b[49m\u001b[43m)\u001b[49m\n\u001b[0;32m    201\u001b[0m     \u001b[38;5;28;01mexcept\u001b[39;00m exceptions\u001b[38;5;241m.\u001b[39mTrialPruned \u001b[38;5;28;01mas\u001b[39;00m e:\n\u001b[0;32m    202\u001b[0m         \u001b[38;5;66;03m# TODO(mamu): Handle multi-objective cases.\u001b[39;00m\n\u001b[0;32m    203\u001b[0m         state \u001b[38;5;241m=\u001b[39m TrialState\u001b[38;5;241m.\u001b[39mPRUNED\n",
      "Cell \u001b[1;32mIn[8], line 18\u001b[0m, in \u001b[0;36mObjective.__call__\u001b[1;34m(self, trial)\u001b[0m\n\u001b[0;32m     15\u001b[0m optimizer \u001b[38;5;241m=\u001b[39m torch\u001b[38;5;241m.\u001b[39moptim\u001b[38;5;241m.\u001b[39mAdam(model\u001b[38;5;241m.\u001b[39mparameters(), lr\u001b[38;5;241m=\u001b[39mparams[\u001b[38;5;124m'\u001b[39m\u001b[38;5;124mLEARNING_LATE\u001b[39m\u001b[38;5;124m'\u001b[39m])\n\u001b[0;32m     17\u001b[0m \u001b[38;5;28;01mfor\u001b[39;00m _ \u001b[38;5;129;01min\u001b[39;00m \u001b[38;5;28mrange\u001b[39m(EPOCHS):\n\u001b[1;32m---> 18\u001b[0m     \u001b[43mtrain_loop\u001b[49m\u001b[43m(\u001b[49m\u001b[43mtrain_dataloader\u001b[49m\u001b[43m,\u001b[49m\u001b[43m \u001b[49m\u001b[43mmodel\u001b[49m\u001b[43m,\u001b[49m\u001b[43m \u001b[49m\u001b[43mloss_fn\u001b[49m\u001b[43m,\u001b[49m\u001b[43m \u001b[49m\u001b[43moptimizer\u001b[49m\u001b[43m)\u001b[49m\n\u001b[0;32m     19\u001b[0m score \u001b[38;5;241m=\u001b[39m test_loop(test_dataloader, model, loss_fn)\n\u001b[0;32m     20\u001b[0m \u001b[38;5;28mprint\u001b[39m()\n",
      "Cell \u001b[1;32mIn[7], line 8\u001b[0m, in \u001b[0;36mtrain_loop\u001b[1;34m(dataloader, model, loss_fn, optimizer)\u001b[0m\n\u001b[0;32m      6\u001b[0m anchor_vecter \u001b[38;5;241m=\u001b[39m model(anchor\u001b[38;5;241m.\u001b[39mto(device))\n\u001b[0;32m      7\u001b[0m positive_vecter \u001b[38;5;241m=\u001b[39m model(positive\u001b[38;5;241m.\u001b[39mto(device))\n\u001b[1;32m----> 8\u001b[0m negative_vecter \u001b[38;5;241m=\u001b[39m model(\u001b[43mnegative\u001b[49m\u001b[38;5;241;43m.\u001b[39;49m\u001b[43mto\u001b[49m\u001b[43m(\u001b[49m\u001b[43mdevice\u001b[49m\u001b[43m)\u001b[49m)\n\u001b[0;32m     10\u001b[0m loss \u001b[38;5;241m=\u001b[39m loss_fn(anchor_vecter, positive_vecter, negative_vecter)\n\u001b[0;32m     12\u001b[0m \u001b[38;5;66;03m# バックプロパゲーション\u001b[39;00m\n",
      "\u001b[1;31mKeyboardInterrupt\u001b[0m: "
     ]
    }
   ],
   "source": [
    "print(\"start\")\n",
    "print(device)\n",
    "objective = Objective()\n",
    "study = optuna.create_study(direction='maximize') # 最大化\n",
    "study.optimize(objective, timeout=7200 * 30)"
   ]
  },
  {
   "cell_type": "code",
   "execution_count": null,
   "metadata": {},
   "outputs": [],
   "source": [
    "# ベストパラメータを出力\n",
    "print('params:', study.best_params)"
   ]
  }
 ],
 "metadata": {
  "kernelspec": {
   "display_name": "fashion",
   "language": "python",
   "name": "python3"
  },
  "language_info": {
   "codemirror_mode": {
    "name": "ipython",
    "version": 3
   },
   "file_extension": ".py",
   "mimetype": "text/x-python",
   "name": "python",
   "nbconvert_exporter": "python",
   "pygments_lexer": "ipython3",
   "version": "3.11.5"
  }
 },
 "nbformat": 4,
 "nbformat_minor": 2
}
