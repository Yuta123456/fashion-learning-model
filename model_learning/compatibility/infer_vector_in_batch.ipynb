{
 "cells": [
  {
   "cell_type": "code",
   "execution_count": 14,
   "metadata": {},
   "outputs": [],
   "source": [
    "\n",
    "import sys\n",
    "import os\n",
    "import torch\n",
    "import pandas as pd\n",
    "sys.path.append(\"C:/Users/yuuta/Documents/fashion\")\n",
    "from utils.util import filter_basic_items, open_json\n",
    "from utils.util import is_target_category\n",
    "from utils.util import calculate_euclid_sum\n",
    "from utils.infer import id_to_vector\n",
    "from utils.util import calc_roc_auc\n",
    "import json\n",
    "from torchvision import transforms\n",
    "import matplotlib.pyplot as plt\n",
    "import glob\n",
    "from PIL import Image\n"
   ]
  },
  {
   "cell_type": "code",
   "execution_count": 15,
   "metadata": {},
   "outputs": [
    {
     "data": {
      "text/plain": [
       "<module 'utils.util' from 'C:\\\\Users/yuuta/Documents/fashion\\\\utils\\\\util.py'>"
      ]
     },
     "execution_count": 15,
     "metadata": {},
     "output_type": "execute_result"
    }
   ],
   "source": [
    "import importlib\n",
    "import utils\n",
    "importlib.reload(utils.util)"
   ]
  },
  {
   "cell_type": "code",
   "execution_count": 16,
   "metadata": {},
   "outputs": [],
   "source": [
    "if torch.cuda.is_available():\n",
    "    device = torch.device(\"cuda\")  # GPUデバイスを取得\n",
    "else:\n",
    "    device = torch.device(\"cpu\")  # CPUデバイスを取得"
   ]
  },
  {
   "cell_type": "code",
   "execution_count": 17,
   "metadata": {},
   "outputs": [],
   "source": [
    "positive_path = glob.glob(\n",
    "    # \"C:/Users/yuuta/Documents/fashion/data/negative_coordinates/**.json\"\n",
    "    \"C:/Users/yuuta/Documents/fashion/data/test/**/*.json\"\n",
    "    # negative_coordinates_random\n",
    ")"
   ]
  },
  {
   "cell_type": "code",
   "execution_count": 18,
   "metadata": {},
   "outputs": [],
   "source": [
    "targets = []\n",
    "p_cnt = 0\n",
    "for fp in positive_path:\n",
    "    json_dict = open_json(fp)\n",
    "    items = filter_basic_items(json_dict[\"items\"])\n",
    "    attributes = []\n",
    "    vectors = []\n",
    "    for item in items:\n",
    "        try:\n",
    "            itemId = str(item[\"itemId\"])\n",
    "        except Exception as e:\n",
    "            print(fp, \" : \", e)\n",
    "            continue\n",
    "\n",
    "        targets.append(itemId)"
   ]
  },
  {
   "cell_type": "code",
   "execution_count": 19,
   "metadata": {},
   "outputs": [
    {
     "name": "stderr",
     "output_type": "stream",
     "text": [
      "c:\\Users\\yuuta\\anaconda3\\envs\\fashion\\Lib\\site-packages\\torchvision\\models\\_utils.py:208: UserWarning: The parameter 'pretrained' is deprecated since 0.13 and may be removed in the future, please use 'weights' instead.\n",
      "  warnings.warn(\n",
      "c:\\Users\\yuuta\\anaconda3\\envs\\fashion\\Lib\\site-packages\\torchvision\\models\\_utils.py:223: UserWarning: Arguments other than a weight enum or `None` for 'weights' are deprecated since 0.13 and may be removed in the future. The current behavior is equivalent to passing `weights=ResNet50_Weights.IMAGENET1K_V1`. You can also use `weights=ResNet50_Weights.DEFAULT` to get the most up-to-date weights.\n",
      "  warnings.warn(msg)\n"
     ]
    }
   ],
   "source": [
    "from model_learning.model_structure.image_encoder import ImageEncoderV2\n",
    "\n",
    "\n",
    "model = ImageEncoderV2().to(device)\n",
    "\n",
    "model.load_state_dict(\n",
    "    torch.load(\n",
    "        \"C:/Users/yuuta/Documents/fashion/model_learning/compatibility/models/triplet-image-2024-01-09.pth\"\n",
    "    )\n",
    ")\n",
    "def infer(input_img):\n",
    "    with torch.no_grad():\n",
    "        pred = model(input_img)\n",
    "    return pred"
   ]
  },
  {
   "cell_type": "code",
   "execution_count": 24,
   "metadata": {},
   "outputs": [],
   "source": [
    "transform = transforms.Compose(\n",
    "    [\n",
    "        transforms.Resize(256),\n",
    "        transforms.CenterCrop(224),\n",
    "        transforms.ToTensor(),\n",
    "        transforms.Normalize(mean=[0.485, 0.456, 0.406], std=[0.229, 0.224, 0.225]),\n",
    "    ]\n",
    ")\n",
    "\n",
    "\n",
    "def to_image(itemId):\n",
    "    image_path = f\"C:/Users/yuuta/Documents/fashion/data/images/{itemId}.jpg\"\n",
    "    image = Image.open(image_path)\n",
    "    if image.mode != \"RGB\":\n",
    "        image = image.convert(\"L\")\n",
    "        image = Image.merge(\"RGB\", [image] * 3)\n",
    "\n",
    "    image = transform(image)\n",
    "    return image\n",
    "\n",
    "\n",
    "ids = []\n",
    "# captions = []\n",
    "images = []\n",
    "vectors = {}\n",
    "BATCH_SIZE = 32\n",
    "cnt = 0\n"
   ]
  },
  {
   "cell_type": "code",
   "execution_count": 32,
   "metadata": {},
   "outputs": [
    {
     "name": "stdout",
     "output_type": "stream",
     "text": [
      "0.0 %0.6838132847825901 %1.3676265695651801 %2.0514398543477705 %"
     ]
    }
   ],
   "source": [
    "\n",
    "for i in range(0, len(targets), BATCH_SIZE):\n",
    "    if i % 100 == 0:\n",
    "        print(\"{i * 100 / len(targets)} %\", end='')\n",
    "    s = i\n",
    "    e = min(i + BATCH_SIZE, len(targets))\n",
    "\n",
    "    images = torch.stack(list(map(to_image, targets[s:e]))).to(torch.device(\"cuda\"))\n",
    "    pred = infer(images)\n",
    "    pred_ids = targets[s:e]\n",
    "    for id, vector in zip(targets[s:e], pred):\n",
    "        vectors[id] = vector.to(\"cpu\").tolist()\n"
   ]
  },
  {
   "cell_type": "code",
   "execution_count": 26,
   "metadata": {},
   "outputs": [
    {
     "ename": "TypeError",
     "evalue": "Object of type Tensor is not JSON serializable",
     "output_type": "error",
     "traceback": [
      "\u001b[1;31m---------------------------------------------------------------------------\u001b[0m",
      "\u001b[1;31mTypeError\u001b[0m                                 Traceback (most recent call last)",
      "Cell \u001b[1;32mIn[26], line 2\u001b[0m\n\u001b[0;32m      1\u001b[0m \u001b[38;5;28;01mwith\u001b[39;00m \u001b[38;5;28mopen\u001b[39m(\u001b[38;5;124m\"\u001b[39m\u001b[38;5;124mC:/Users/yuuta/Documents/fashion/model_learning/compatibility/data/id_to_vector.json\u001b[39m\u001b[38;5;124m\"\u001b[39m, \u001b[38;5;124m\"\u001b[39m\u001b[38;5;124mw\u001b[39m\u001b[38;5;124m\"\u001b[39m) \u001b[38;5;28;01mas\u001b[39;00m f:\n\u001b[1;32m----> 2\u001b[0m     \u001b[43mjson\u001b[49m\u001b[38;5;241;43m.\u001b[39;49m\u001b[43mdump\u001b[49m\u001b[43m(\u001b[49m\u001b[43mvectors\u001b[49m\u001b[43m,\u001b[49m\u001b[43m \u001b[49m\u001b[43mf\u001b[49m\u001b[43m)\u001b[49m\n",
      "File \u001b[1;32mc:\\Users\\yuuta\\anaconda3\\envs\\fashion\\Lib\\json\\__init__.py:179\u001b[0m, in \u001b[0;36mdump\u001b[1;34m(obj, fp, skipkeys, ensure_ascii, check_circular, allow_nan, cls, indent, separators, default, sort_keys, **kw)\u001b[0m\n\u001b[0;32m    173\u001b[0m     iterable \u001b[38;5;241m=\u001b[39m \u001b[38;5;28mcls\u001b[39m(skipkeys\u001b[38;5;241m=\u001b[39mskipkeys, ensure_ascii\u001b[38;5;241m=\u001b[39mensure_ascii,\n\u001b[0;32m    174\u001b[0m         check_circular\u001b[38;5;241m=\u001b[39mcheck_circular, allow_nan\u001b[38;5;241m=\u001b[39mallow_nan, indent\u001b[38;5;241m=\u001b[39mindent,\n\u001b[0;32m    175\u001b[0m         separators\u001b[38;5;241m=\u001b[39mseparators,\n\u001b[0;32m    176\u001b[0m         default\u001b[38;5;241m=\u001b[39mdefault, sort_keys\u001b[38;5;241m=\u001b[39msort_keys, \u001b[38;5;241m*\u001b[39m\u001b[38;5;241m*\u001b[39mkw)\u001b[38;5;241m.\u001b[39miterencode(obj)\n\u001b[0;32m    177\u001b[0m \u001b[38;5;66;03m# could accelerate with writelines in some versions of Python, at\u001b[39;00m\n\u001b[0;32m    178\u001b[0m \u001b[38;5;66;03m# a debuggability cost\u001b[39;00m\n\u001b[1;32m--> 179\u001b[0m \u001b[43m\u001b[49m\u001b[38;5;28;43;01mfor\u001b[39;49;00m\u001b[43m \u001b[49m\u001b[43mchunk\u001b[49m\u001b[43m \u001b[49m\u001b[38;5;129;43;01min\u001b[39;49;00m\u001b[43m \u001b[49m\u001b[43miterable\u001b[49m\u001b[43m:\u001b[49m\n\u001b[0;32m    180\u001b[0m \u001b[43m    \u001b[49m\u001b[43mfp\u001b[49m\u001b[38;5;241;43m.\u001b[39;49m\u001b[43mwrite\u001b[49m\u001b[43m(\u001b[49m\u001b[43mchunk\u001b[49m\u001b[43m)\u001b[49m\n",
      "File \u001b[1;32mc:\\Users\\yuuta\\anaconda3\\envs\\fashion\\Lib\\json\\encoder.py:432\u001b[0m, in \u001b[0;36m_make_iterencode.<locals>._iterencode\u001b[1;34m(o, _current_indent_level)\u001b[0m\n\u001b[0;32m    430\u001b[0m     \u001b[38;5;28;01myield from\u001b[39;00m _iterencode_list(o, _current_indent_level)\n\u001b[0;32m    431\u001b[0m \u001b[38;5;28;01melif\u001b[39;00m \u001b[38;5;28misinstance\u001b[39m(o, \u001b[38;5;28mdict\u001b[39m):\n\u001b[1;32m--> 432\u001b[0m     \u001b[38;5;28;01myield from\u001b[39;00m _iterencode_dict(o, _current_indent_level)\n\u001b[0;32m    433\u001b[0m \u001b[38;5;28;01melse\u001b[39;00m:\n\u001b[0;32m    434\u001b[0m     \u001b[38;5;28;01mif\u001b[39;00m markers \u001b[38;5;129;01mis\u001b[39;00m \u001b[38;5;129;01mnot\u001b[39;00m \u001b[38;5;28;01mNone\u001b[39;00m:\n",
      "File \u001b[1;32mc:\\Users\\yuuta\\anaconda3\\envs\\fashion\\Lib\\json\\encoder.py:406\u001b[0m, in \u001b[0;36m_make_iterencode.<locals>._iterencode_dict\u001b[1;34m(dct, _current_indent_level)\u001b[0m\n\u001b[0;32m    404\u001b[0m         \u001b[38;5;28;01melse\u001b[39;00m:\n\u001b[0;32m    405\u001b[0m             chunks \u001b[38;5;241m=\u001b[39m _iterencode(value, _current_indent_level)\n\u001b[1;32m--> 406\u001b[0m         \u001b[38;5;28;01myield from\u001b[39;00m chunks\n\u001b[0;32m    407\u001b[0m \u001b[38;5;28;01mif\u001b[39;00m newline_indent \u001b[38;5;129;01mis\u001b[39;00m \u001b[38;5;129;01mnot\u001b[39;00m \u001b[38;5;28;01mNone\u001b[39;00m:\n\u001b[0;32m    408\u001b[0m     _current_indent_level \u001b[38;5;241m-\u001b[39m\u001b[38;5;241m=\u001b[39m \u001b[38;5;241m1\u001b[39m\n",
      "File \u001b[1;32mc:\\Users\\yuuta\\anaconda3\\envs\\fashion\\Lib\\json\\encoder.py:439\u001b[0m, in \u001b[0;36m_make_iterencode.<locals>._iterencode\u001b[1;34m(o, _current_indent_level)\u001b[0m\n\u001b[0;32m    437\u001b[0m         \u001b[38;5;28;01mraise\u001b[39;00m \u001b[38;5;167;01mValueError\u001b[39;00m(\u001b[38;5;124m\"\u001b[39m\u001b[38;5;124mCircular reference detected\u001b[39m\u001b[38;5;124m\"\u001b[39m)\n\u001b[0;32m    438\u001b[0m     markers[markerid] \u001b[38;5;241m=\u001b[39m o\n\u001b[1;32m--> 439\u001b[0m o \u001b[38;5;241m=\u001b[39m \u001b[43m_default\u001b[49m\u001b[43m(\u001b[49m\u001b[43mo\u001b[49m\u001b[43m)\u001b[49m\n\u001b[0;32m    440\u001b[0m \u001b[38;5;28;01myield from\u001b[39;00m _iterencode(o, _current_indent_level)\n\u001b[0;32m    441\u001b[0m \u001b[38;5;28;01mif\u001b[39;00m markers \u001b[38;5;129;01mis\u001b[39;00m \u001b[38;5;129;01mnot\u001b[39;00m \u001b[38;5;28;01mNone\u001b[39;00m:\n",
      "File \u001b[1;32mc:\\Users\\yuuta\\anaconda3\\envs\\fashion\\Lib\\json\\encoder.py:180\u001b[0m, in \u001b[0;36mJSONEncoder.default\u001b[1;34m(self, o)\u001b[0m\n\u001b[0;32m    161\u001b[0m \u001b[38;5;28;01mdef\u001b[39;00m \u001b[38;5;21mdefault\u001b[39m(\u001b[38;5;28mself\u001b[39m, o):\n\u001b[0;32m    162\u001b[0m \u001b[38;5;250m    \u001b[39m\u001b[38;5;124;03m\"\"\"Implement this method in a subclass such that it returns\u001b[39;00m\n\u001b[0;32m    163\u001b[0m \u001b[38;5;124;03m    a serializable object for ``o``, or calls the base implementation\u001b[39;00m\n\u001b[0;32m    164\u001b[0m \u001b[38;5;124;03m    (to raise a ``TypeError``).\u001b[39;00m\n\u001b[1;32m   (...)\u001b[0m\n\u001b[0;32m    178\u001b[0m \n\u001b[0;32m    179\u001b[0m \u001b[38;5;124;03m    \"\"\"\u001b[39;00m\n\u001b[1;32m--> 180\u001b[0m     \u001b[38;5;28;01mraise\u001b[39;00m \u001b[38;5;167;01mTypeError\u001b[39;00m(\u001b[38;5;124mf\u001b[39m\u001b[38;5;124m'\u001b[39m\u001b[38;5;124mObject of type \u001b[39m\u001b[38;5;132;01m{\u001b[39;00mo\u001b[38;5;241m.\u001b[39m\u001b[38;5;18m__class__\u001b[39m\u001b[38;5;241m.\u001b[39m\u001b[38;5;18m__name__\u001b[39m\u001b[38;5;132;01m}\u001b[39;00m\u001b[38;5;124m \u001b[39m\u001b[38;5;124m'\u001b[39m\n\u001b[0;32m    181\u001b[0m                     \u001b[38;5;124mf\u001b[39m\u001b[38;5;124m'\u001b[39m\u001b[38;5;124mis not JSON serializable\u001b[39m\u001b[38;5;124m'\u001b[39m)\n",
      "\u001b[1;31mTypeError\u001b[0m: Object of type Tensor is not JSON serializable"
     ]
    }
   ],
   "source": [
    "\n",
    "with open(\"C:/Users/yuuta/Documents/fashion/model_learning/compatibility/data/id_to_vector.json\", \"w\") as f:\n",
    "    json.dump(vectors, f)"
   ]
  },
  {
   "cell_type": "code",
   "execution_count": 30,
   "metadata": {},
   "outputs": [
    {
     "data": {
      "text/plain": [
       "[tensor([-10.7023, -12.5416, -17.5678,  -6.4852,   6.3120,  15.4253,   6.4901,\n",
       "          18.5119,  -9.4319,  37.4372, -18.5005,  19.6943, -20.1225,  17.4573,\n",
       "         -18.2823,  -1.4168, -23.8998, -12.5234, -23.0396, -19.0081,  -2.4001,\n",
       "           8.8445,  36.8185,   2.5115, -13.4946,  19.3297,  16.2160, -38.0593,\n",
       "           1.2427, -12.4501,   2.5666,  11.4934,  10.1989,  11.5499,  -5.5777,\n",
       "         -11.0189,  19.1889, -28.0704,   6.8150, -31.7473,   9.6765, -19.9543,\n",
       "          21.8306, -34.8923, -19.3117, -21.4430,  23.8191,  -7.1323,  38.2197,\n",
       "         -16.1099, -16.8643,   9.9377,  -1.5241,  -9.7206,   0.4001,  28.0984,\n",
       "         -36.6874,  10.8236,  42.3823, -18.4551, -18.4919,  -2.7195,  17.0498,\n",
       "          -5.8643], device='cuda:0'),\n",
       " tensor([-42.9708,  33.2625,  -5.2875,  48.3588,   1.5704,  30.3841,  32.8135,\n",
       "         -32.9735,  37.3370,  22.0613, -12.7042, -12.9986, -27.4082,  41.2355,\n",
       "           1.9496,   4.5776, -43.3037,  -4.0376, -35.3809, -16.3294, -34.8197,\n",
       "          -5.6955, -10.2434, -13.0799, -30.2228,  -6.0353,  13.4559,   1.1523,\n",
       "          82.1096, -17.4611,  44.8185,  17.9434,  10.5361, -14.8961,  26.3470,\n",
       "         -10.5464,  36.7728,  56.4019,  95.8492, -58.2964,  53.3430, -32.0720,\n",
       "         -38.1786,  -1.3364,  12.0633,  10.0157,  -8.7890, -22.7422,  -7.0133,\n",
       "         -35.1905,  14.7068,  -5.4257,  13.5895, -55.2892,  25.7682,  89.6628,\n",
       "          10.9461, -45.3064,   6.4482, -56.7897, -16.3455,  24.4252,  17.5186,\n",
       "          58.4387], device='cuda:0'),\n",
       " tensor([-22.4552,  -7.8712,  -1.7643, -10.0830,  -3.3126, -18.5765,   8.5873,\n",
       "         -17.5878, -11.5384,  11.0265,  -9.4198,  26.2798,  23.6670,   0.6758,\n",
       "         -12.9329, -19.3229,   9.1129,  -1.5846,  -7.2816,  -6.7812,  37.3232,\n",
       "         -16.3199,  24.2193,  16.3045,   3.0199,   0.4206,  -0.5950, -15.5733,\n",
       "           2.7999,  -1.9823, -11.4501,  -2.9768,   8.9494, -10.6267, -11.8805,\n",
       "          13.1550,  18.9687,  19.9381,  12.8605, -23.9264,  10.1504, -24.4032,\n",
       "          15.7111, -21.0069,   7.4231,   0.1157,   1.5145, -26.0313,  25.7607,\n",
       "         -11.3305,   1.9147,   7.3355,   3.7043, -22.7381, -18.6176,  -0.6028,\n",
       "         -19.4902,   0.7787,   7.7766, -14.3688,  21.2902,   5.1506,   6.5097,\n",
       "          -6.2591], device='cuda:0'),\n",
       " tensor([-14.8964,   2.2592, -30.8353, -17.7615,  -2.6662,  -0.4439,  11.5135,\n",
       "          41.2231,   2.7680,  42.2752,  11.2167,  13.6061, -25.3496,  -1.1538,\n",
       "         -30.0396,   7.8849, -20.0745, -10.5251,  -2.1207, -19.5217,  -6.2852,\n",
       "           6.4576,  18.1988,   1.5419,   7.0522,  -3.7046,  -1.3036, -39.8549,\n",
       "           2.8891,  -1.7273,  16.6370,   5.0941,  10.3500,  -7.1698,  14.7506,\n",
       "         -29.9868,  25.5860,  -7.8195,   2.7377, -36.5495,   3.8234, -13.1068,\n",
       "          16.5067,  -9.8302, -18.8256, -23.3734,  27.3660,  -3.1880,  46.3405,\n",
       "          -4.2833, -10.5336,  15.4971, -11.1898, -16.0289,  22.3888,  29.6885,\n",
       "         -18.5731,  -2.2734,  26.0597, -15.1673, -18.8777,  -9.6474,  18.5458,\n",
       "           1.6567], device='cuda:0'),\n",
       " tensor([-28.8989,  18.9161, -17.4177,  11.4480,  -8.3289,  -6.1181,  14.3066,\n",
       "           6.6383,  10.7808,  27.1977,   3.2012,  -3.7156,  -5.0284,   2.9342,\n",
       "         -20.7849,  -4.5524, -15.6473, -11.1968,  -1.6788, -24.8974,  -7.2275,\n",
       "          -9.4625,  -2.4356, -13.0984,   1.2076,  -6.7284,  20.1495, -13.7159,\n",
       "          31.5538,  12.6369,  15.9276,  -7.1775,  10.2777, -22.2976,   6.3037,\n",
       "         -12.3414,  21.6489,  12.6353,  33.5410, -54.1113,  20.3832, -18.3751,\n",
       "          -0.9144, -10.9991,  -0.7814,  -1.7318,   5.5067,  -2.6348,   9.5897,\n",
       "          -7.8862,   9.5218,  16.7545,   1.6375, -43.4096,  18.4108,  41.1233,\n",
       "          -6.5578, -19.0701,   5.1129, -32.3477,   1.7290,  19.5802,  20.9716,\n",
       "          21.5440], device='cuda:0')]"
      ]
     },
     "execution_count": 30,
     "metadata": {},
     "output_type": "execute_result"
    }
   ],
   "source": [
    "list(vectors.values())[:5]"
   ]
  },
  {
   "cell_type": "code",
   "execution_count": null,
   "metadata": {},
   "outputs": [],
   "source": []
  }
 ],
 "metadata": {
  "kernelspec": {
   "display_name": "fashion",
   "language": "python",
   "name": "python3"
  },
  "language_info": {
   "codemirror_mode": {
    "name": "ipython",
    "version": 3
   },
   "file_extension": ".py",
   "mimetype": "text/x-python",
   "name": "python",
   "nbconvert_exporter": "python",
   "pygments_lexer": "ipython3",
   "version": "3.11.5"
  }
 },
 "nbformat": 4,
 "nbformat_minor": 2
}
