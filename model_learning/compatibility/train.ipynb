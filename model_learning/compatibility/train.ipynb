{
 "cells": [
  {
   "cell_type": "code",
   "execution_count": 42,
   "metadata": {},
   "outputs": [],
   "source": [
    "import torch\n",
    "import torch.nn as nn\n",
    "import sys\n",
    "from torch.utils.data import DataLoader\n",
    "from datetime import datetime\n",
    "\n",
    "sys.path.append(\"C:/Users/yuuta/Documents/fashion\")\n",
    "from model_learning.model_structure.image_encoder import  ImageEncoderV2\n",
    "from model_learning.model_structure.dataset import TripletDataset"
   ]
  },
  {
   "cell_type": "code",
   "execution_count": 43,
   "metadata": {},
   "outputs": [],
   "source": [
    "if torch.cuda.is_available():\n",
    "    device = torch.device(\"cuda\")  # GPUデバイスを取得\n",
    "else:\n",
    "    device = torch.device(\"cpu\")  # CPUデバイスを取得"
   ]
  },
  {
   "cell_type": "code",
   "execution_count": 44,
   "metadata": {},
   "outputs": [
    {
     "data": {
      "text/plain": [
       "<module 'model_learning.model_structure.image_encoder' from 'C:\\\\Users/yuuta/Documents/fashion\\\\model_learning\\\\model_structure\\\\image_encoder.py'>"
      ]
     },
     "execution_count": 44,
     "metadata": {},
     "output_type": "execute_result"
    }
   ],
   "source": [
    "import importlib\n",
    "import model_learning\n",
    "importlib.reload(model_learning.model_structure.image_encoder)"
   ]
  },
  {
   "cell_type": "code",
   "execution_count": 45,
   "metadata": {},
   "outputs": [],
   "source": [
    "dataset = TripletDataset('C:/Users/yuuta/Documents/fashion/model_learning/compatibility/data/triplet_n_pair.csv', limit=5000000)\n",
    "test_dataset = TripletDataset('C:/Users/yuuta/Documents/fashion/model_learning/compatibility/data/triplet_n_pair_test.csv', limit=100000)"
   ]
  },
  {
   "cell_type": "code",
   "execution_count": 46,
   "metadata": {},
   "outputs": [],
   "source": [
    "LEARNING_LATE = 1e-5\n",
    "BATCH_SIZE = 32\n",
    "EPOCHS = 10"
   ]
  },
  {
   "cell_type": "code",
   "execution_count": 47,
   "metadata": {},
   "outputs": [],
   "source": [
    "train_size = int(0.8 * len(dataset))\n",
    "val_size = len(dataset) - train_size\n",
    "\n",
    "# train_dataset, test_dataset = torch.utils.data.random_split(\n",
    "#     dataset, [train_size, val_size]\n",
    "# )\n",
    "\n",
    "train_dataloader = DataLoader(dataset, batch_size=BATCH_SIZE, shuffle=True, pin_memory=True)\n",
    "test_dataloader = DataLoader(test_dataset, batch_size=BATCH_SIZE, shuffle=True, pin_memory=True)"
   ]
  },
  {
   "cell_type": "code",
   "execution_count": 57,
   "metadata": {},
   "outputs": [
    {
     "name": "stderr",
     "output_type": "stream",
     "text": [
      "c:\\Users\\yuuta\\anaconda3\\envs\\fashion\\Lib\\site-packages\\torchvision\\models\\_utils.py:208: UserWarning: The parameter 'pretrained' is deprecated since 0.13 and may be removed in the future, please use 'weights' instead.\n",
      "  warnings.warn(\n",
      "c:\\Users\\yuuta\\anaconda3\\envs\\fashion\\Lib\\site-packages\\torchvision\\models\\_utils.py:223: UserWarning: Arguments other than a weight enum or `None` for 'weights' are deprecated since 0.13 and may be removed in the future. The current behavior is equivalent to passing `weights=ResNet50_Weights.IMAGENET1K_V1`. You can also use `weights=ResNet50_Weights.DEFAULT` to get the most up-to-date weights.\n",
      "  warnings.warn(msg)\n"
     ]
    }
   ],
   "source": [
    "model = ImageEncoderV2().to(device)\n",
    "# \n",
    "model.load_state_dict(torch.load('C:/Users/yuuta/Documents/fashion/model_learning/compatibility/models/triplet-image-2024-01-09.pth'))\n",
    "optimizer = torch.optim.Adam(model.parameters(), lr=LEARNING_LATE)\n",
    "\n",
    "loss_fn = nn.TripletMarginLoss(margin=20.0, p=2, eps=1e-7) # , reduction='sum'"
   ]
  },
  {
   "cell_type": "code",
   "execution_count": 66,
   "metadata": {},
   "outputs": [],
   "source": [
    "def train_loop(dataloader, model, loss_fn, optimizer):\n",
    "    model.train()\n",
    "    size = len(dataloader.dataset)\n",
    "    for batch, (anchor, positive, negative) in enumerate(dataloader):        \n",
    "        optimizer.zero_grad()\n",
    "\n",
    "        anchor_vecter = model(anchor.to(device))\n",
    "        positive_vecter = model(positive.to(device))\n",
    "        negative_vecter = model(negative.to(device))\n",
    "\n",
    "        loss = loss_fn(anchor_vecter, positive_vecter, negative_vecter)\n",
    "\n",
    "        # バックプロパゲーション\n",
    "        loss.backward()\n",
    "        optimizer.step()\n",
    "\n",
    "        if batch % 1000 == 0:\n",
    "            loss, current = loss.item() / BATCH_SIZE, batch * BATCH_SIZE\n",
    "            print(f\"loss: {loss:>15f}  [{current:>5d}/{size:>5d}]\")\n",
    "\n",
    "        if batch % 3000 == 0:\n",
    "            now = datetime.now()\n",
    "            formatted_date = now.strftime(\"%Y-%m-%d\")\n",
    "\n",
    "            torch.save(model.state_dict(), f'C:/Users/yuuta/Documents/fashion/model_learning/compatibility/models/triplet-image-{formatted_date}.pth')\n",
    "\n",
    "\n",
    "def test_loop(dataloader, model, loss_fn):\n",
    "    size = len(dataloader.dataset)\n",
    "    model.eval()\n",
    "    test_loss = 0\n",
    "    p_d = 0\n",
    "    n_d = 0\n",
    "    with torch.no_grad():\n",
    "        for (anchor, positive, negative) in dataloader:\n",
    "            anchor_vecter = model(anchor.to(device))\n",
    "            positive_vecter = model(positive.to(device))\n",
    "            negative_vecter = model(negative.to(device))\n",
    "            # print(anchor_vecter.shape)\n",
    "            positive_d = torch.norm(anchor_vecter - positive_vecter, dim=1, keepdim=True)\n",
    "            negative_d = torch.norm(anchor_vecter - negative_vecter, dim=1, keepdim=True)\n",
    "            # print('=====positive_d====')\n",
    "            # print(torch.norm(anchor_vecter[0] - positive_vecter[0]))\n",
    "            # print('=====negative_d====')\n",
    "            # print(torch.norm(anchor_vecter[0] - negative_vecter[0]))\n",
    "\n",
    "            p_d += torch.sum(positive_d)\n",
    "            n_d += torch.sum(negative_d)\n",
    "            loss = loss_fn(anchor_vecter, positive_vecter, negative_vecter)\n",
    "\n",
    "            test_loss += loss.item()\n",
    "            \n",
    "    test_loss /= size\n",
    "    print(f\"Avg loss: {test_loss:>8f} \\n average distance: {(p_d - n_d) / size} posi_ave: {p_d / size} nega_ave: {n_d / size}\")"
   ]
  },
  {
   "cell_type": "code",
   "execution_count": 67,
   "metadata": {},
   "outputs": [
    {
     "name": "stdout",
     "output_type": "stream",
     "text": [
      "start\n",
      "Epoch 1\\-------------------------------\n",
      "Avg loss: 0.668217 \n",
      " average distance: -1.8793599605560303 posi_ave: 85.38084411621094 nega_ave: 87.26020812988281\n",
      "loss:        0.000000  [    0/5000000]\n",
      "loss:        0.000000  [32000/5000000]\n",
      "loss:        0.000000  [64000/5000000]\n",
      "loss:        0.000000  [96000/5000000]\n",
      "loss:        0.000000  [128000/5000000]\n",
      "loss:        0.000000  [160000/5000000]\n",
      "loss:        0.000000  [192000/5000000]\n",
      "loss:        0.000000  [224000/5000000]\n",
      "loss:        0.000000  [256000/5000000]\n"
     ]
    },
    {
     "ename": "KeyboardInterrupt",
     "evalue": "",
     "output_type": "error",
     "traceback": [
      "\u001b[1;31m---------------------------------------------------------------------------\u001b[0m",
      "\u001b[1;31mKeyboardInterrupt\u001b[0m                         Traceback (most recent call last)",
      "Cell \u001b[1;32mIn[67], line 5\u001b[0m\n\u001b[0;32m      3\u001b[0m     \u001b[38;5;28mprint\u001b[39m(\u001b[38;5;124mf\u001b[39m\u001b[38;5;124m\"\u001b[39m\u001b[38;5;124mEpoch \u001b[39m\u001b[38;5;132;01m{\u001b[39;00mt\u001b[38;5;241m+\u001b[39m\u001b[38;5;241m1\u001b[39m\u001b[38;5;132;01m}\u001b[39;00m\u001b[38;5;124m\\\u001b[39m\u001b[38;5;124m-------------------------------\u001b[39m\u001b[38;5;124m\"\u001b[39m)\n\u001b[0;32m      4\u001b[0m     test_loop(test_dataloader, model, loss_fn)\n\u001b[1;32m----> 5\u001b[0m     \u001b[43mtrain_loop\u001b[49m\u001b[43m(\u001b[49m\u001b[43mtrain_dataloader\u001b[49m\u001b[43m,\u001b[49m\u001b[43m \u001b[49m\u001b[43mmodel\u001b[49m\u001b[43m,\u001b[49m\u001b[43m \u001b[49m\u001b[43mloss_fn\u001b[49m\u001b[43m,\u001b[49m\u001b[43m \u001b[49m\u001b[43moptimizer\u001b[49m\u001b[43m)\u001b[49m\n\u001b[0;32m      6\u001b[0m \u001b[38;5;28mprint\u001b[39m(\u001b[38;5;124m\"\u001b[39m\u001b[38;5;124mDone!\u001b[39m\u001b[38;5;124m\"\u001b[39m)\n",
      "Cell \u001b[1;32mIn[66], line 7\u001b[0m, in \u001b[0;36mtrain_loop\u001b[1;34m(dataloader, model, loss_fn, optimizer)\u001b[0m\n\u001b[0;32m      4\u001b[0m \u001b[38;5;28;01mfor\u001b[39;00m batch, (anchor, positive, negative) \u001b[38;5;129;01min\u001b[39;00m \u001b[38;5;28menumerate\u001b[39m(dataloader):        \n\u001b[0;32m      5\u001b[0m     optimizer\u001b[38;5;241m.\u001b[39mzero_grad()\n\u001b[1;32m----> 7\u001b[0m     anchor_vecter \u001b[38;5;241m=\u001b[39m model(\u001b[43manchor\u001b[49m\u001b[38;5;241;43m.\u001b[39;49m\u001b[43mto\u001b[49m\u001b[43m(\u001b[49m\u001b[43mdevice\u001b[49m\u001b[43m)\u001b[49m)\n\u001b[0;32m      8\u001b[0m     positive_vecter \u001b[38;5;241m=\u001b[39m model(positive\u001b[38;5;241m.\u001b[39mto(device))\n\u001b[0;32m      9\u001b[0m     negative_vecter \u001b[38;5;241m=\u001b[39m model(negative\u001b[38;5;241m.\u001b[39mto(device))\n",
      "\u001b[1;31mKeyboardInterrupt\u001b[0m: "
     ]
    }
   ],
   "source": [
    "print(\"start\")\n",
    "for t in range(EPOCHS):\n",
    "    print(f\"Epoch {t+1}\\-------------------------------\")\n",
    "    test_loop(test_dataloader, model, loss_fn)\n",
    "    train_loop(train_dataloader, model, loss_fn, optimizer)\n",
    "print(\"Done!\")"
   ]
  },
  {
   "cell_type": "code",
   "execution_count": 51,
   "metadata": {},
   "outputs": [],
   "source": [
    "now = datetime.now()\n",
    "formatted_date = now.strftime(\"%Y-%m-%d\")\n",
    "\n",
    "torch.save(model.state_dict(), f'C:/Users/yuuta/Documents/fashion/model_learning/compatibility/models/triplet-image-{formatted_date}.pth')"
   ]
  }
 ],
 "metadata": {
  "kernelspec": {
   "display_name": "fashion",
   "language": "python",
   "name": "python3"
  },
  "language_info": {
   "codemirror_mode": {
    "name": "ipython",
    "version": 3
   },
   "file_extension": ".py",
   "mimetype": "text/x-python",
   "name": "python",
   "nbconvert_exporter": "python",
   "pygments_lexer": "ipython3",
   "version": "3.11.5"
  }
 },
 "nbformat": 4,
 "nbformat_minor": 2
}
