{
 "cells": [
  {
   "cell_type": "code",
   "execution_count": 1,
   "metadata": {},
   "outputs": [],
   "source": [
    "import numpy as np\n",
    "from sklearn.cluster import KMeans\n",
    "import torch\n",
    "import matplotlib.pyplot as plt\n",
    "import pandas as pd\n",
    "import torch\n",
    "from sklearn.manifold import TSNE\n",
    "import numpy as np\n",
    "import matplotlib\n",
    "import japanize_matplotlib\n",
    "import glob\n",
    "from utils.util import open_json\n",
    "from utils.util import filter_basic_items"
   ]
  },
  {
   "cell_type": "code",
   "execution_count": null,
   "metadata": {},
   "outputs": [],
   "source": [
    "N = 300\n",
    "tensor = torch.load('C:/Users/yuuta/Documents/fashion/model_learning/versatility/cluster/test_tensor.pt').numpy()"
   ]
  },
  {
   "cell_type": "code",
   "execution_count": null,
   "metadata": {},
   "outputs": [],
   "source": [
    "path = glob.glob(\n",
    "    \"C:/Users/yuuta/Documents/fashion/data/test/**/*.json\"\n",
    ")"
   ]
  },
  {
   "cell_type": "code",
   "execution_count": null,
   "metadata": {},
   "outputs": [],
   "source": [
    "id_to_vector = open_json('C:/Users/yuuta/Documents/fashion/model_learning/versatility/data/id_to_vector.json')"
   ]
  },
  {
   "cell_type": "code",
   "execution_count": null,
   "metadata": {},
   "outputs": [],
   "source": [
    "labels = []\n",
    "vectors = []"
   ]
  },
  {
   "cell_type": "code",
   "execution_count": null,
   "metadata": {},
   "outputs": [],
   "source": [
    "for fp in path:\n",
    "    json_dict = open_json(fp)\n",
    "    items = filter_basic_items(json_dict[\"items\"])\n",
    "    for item in items:\n",
    "        labels.append(item[\"category x color\"])\n",
    "        vectors.append(id_to_vector[item['itemId']])"
   ]
  },
  {
   "cell_type": "code",
   "execution_count": null,
   "metadata": {},
   "outputs": [],
   "source": [
    "labels_list = list(set(labels))\n",
    "labels = [labels_list.index(l) for l in labels]"
   ]
  },
  {
   "cell_type": "code",
   "execution_count": null,
   "metadata": {},
   "outputs": [],
   "source": [
    "p = torch.ones(len(tensor))\n",
    "index = p.multinomial(num_samples=40000, replacement=False)\n",
    "sampling_tensor = tensor[index]\n",
    "sampling_label = np.array(labels)\n",
    "sampling_label = sampling_label[index]"
   ]
  },
  {
   "cell_type": "code",
   "execution_count": null,
   "metadata": {},
   "outputs": [],
   "source": [
    "tsne = TSNE(n_components=2, random_state = 0, perplexity = 30, n_iter = 1000)\n",
    "X_embedded = tsne.fit_transform(sampling_tensor)\n",
    "X = pd.DataFrame(X_embedded, columns = ['col1', 'col2'])"
   ]
  },
  {
   "cell_type": "code",
   "execution_count": null,
   "metadata": {},
   "outputs": [],
   "source": [
    "fig = plt.figure(figsize = (50, 50))\n",
    "colors = list(matplotlib.colors.CSS4_COLORS.values())\n",
    "for i, v in enumerate(labels):\n",
    "    category_mask = sampling_label == np.array(v)\n",
    "    tmp_df = X[category_mask]\n",
    "    # print(tmp_df)\n",
    "    plt.scatter(tmp_df['col1'],\n",
    "                tmp_df['col2'],\n",
    "                label = v,\n",
    "                color = colors[i])\n",
    "\n",
    "fig.savefig(f'C:/Users/yuuta/Documents/fashion/model_learning/versatility/result/clustering_{N}.png')"
   ]
  }
 ],
 "metadata": {
  "kernelspec": {
   "display_name": "fashion",
   "language": "python",
   "name": "python3"
  },
  "language_info": {
   "codemirror_mode": {
    "name": "ipython",
    "version": 3
   },
   "file_extension": ".py",
   "mimetype": "text/x-python",
   "name": "python",
   "nbconvert_exporter": "python",
   "pygments_lexer": "ipython3",
   "version": "3.11.5"
  }
 },
 "nbformat": 4,
 "nbformat_minor": 2
}
