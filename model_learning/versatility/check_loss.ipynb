{
 "cells": [
  {
   "cell_type": "code",
   "execution_count": null,
   "metadata": {},
   "outputs": [],
   "source": [
    "\n",
    "import sys\n",
    "import os\n",
    "import random\n",
    "import glob\n",
    "import torch\n",
    "import pandas as pd\n",
    "sys.path.append(\"C:/Users/yuuta/Documents/fashion\")\n",
    "from utils.util import filter_basic_items, open_json\n",
    "from utils.util import is_target_category\n",
    "from utils.util import calculate_euclid_sum\n",
    "from utils.infer import id_to_vector_in_versatility, id_to_vector\n",
    "from utils.util import calc_roc_auc\n",
    "from utils.util import  show_item\n"
   ]
  },
  {
   "cell_type": "code",
   "execution_count": null,
   "metadata": {},
   "outputs": [],
   "source": [
    "import importlib\n",
    "import utils\n",
    "importlib.reload(utils.util)"
   ]
  },
  {
   "cell_type": "code",
   "execution_count": null,
   "metadata": {},
   "outputs": [],
   "source": [
    "if torch.cuda.is_available():\n",
    "    device = torch.device(\"cuda\")  # GPUデバイスを取得\n",
    "else:\n",
    "    device = torch.device(\"cpu\")  # CPUデバイスを取得"
   ]
  },
  {
   "cell_type": "code",
   "execution_count": null,
   "metadata": {},
   "outputs": [],
   "source": [
    "path = glob.glob(\n",
    "    \"C:/Users/yuuta/Documents/fashion/data/test/**/*.json\"\n",
    ")"
   ]
  },
  {
   "cell_type": "code",
   "execution_count": null,
   "metadata": {},
   "outputs": [],
   "source": [
    "vector_items = []\n",
    "\n",
    "for fp in path:\n",
    "    json_dict = open_json(fp)\n",
    "    items = filter_basic_items(json_dict[\"items\"])\n",
    "    for item in items:\n",
    "        try:\n",
    "            itemId = str(item[\"itemId\"])\n",
    "        except Exception as e:\n",
    "            print(fp,':', itemId, \" : \", e)\n",
    "            continue\n",
    "\n",
    "        # vector = id_to_vector_in_versatility(itemId)\n",
    "        vector = id_to_vector(itemId)\n",
    "        vector_items.append((itemId, torch.tensor(vector)))"
   ]
  }
 ],
 "metadata": {
  "language_info": {
   "name": "python"
  }
 },
 "nbformat": 4,
 "nbformat_minor": 2
}
