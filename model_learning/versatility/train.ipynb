{
 "cells": [
  {
   "cell_type": "code",
   "execution_count": 1,
   "metadata": {},
   "outputs": [
    {
     "name": "stderr",
     "output_type": "stream",
     "text": [
      "c:\\Users\\yuuta\\anaconda3\\envs\\fashion\\Lib\\site-packages\\tqdm\\auto.py:21: TqdmWarning: IProgress not found. Please update jupyter and ipywidgets. See https://ipywidgets.readthedocs.io/en/stable/user_install.html\n",
      "  from .autonotebook import tqdm as notebook_tqdm\n"
     ]
    }
   ],
   "source": [
    "import torch\n",
    "import torch.nn as nn\n",
    "import sys\n",
    "from torch.utils.data import DataLoader\n",
    "from datetime import datetime\n",
    "\n",
    "sys.path.append(\"C:/Users/yuuta/Documents/fashion\")\n",
    "from model_learning.model_structure.image_encoder import  ImageEncoderV2\n",
    "from model_learning.model_structure.dataset import TripletDataset"
   ]
  },
  {
   "cell_type": "code",
   "execution_count": 2,
   "metadata": {},
   "outputs": [],
   "source": [
    "if torch.cuda.is_available():\n",
    "    device = torch.device(\"cuda\")  # GPUデバイスを取得\n",
    "else:\n",
    "    device = torch.device(\"cpu\")  # CPUデバイスを取得"
   ]
  },
  {
   "cell_type": "code",
   "execution_count": 3,
   "metadata": {},
   "outputs": [],
   "source": [
    "dataset = TripletDataset('C:/Users/yuuta/Documents/fashion/model_learning/versatility/data/triplet_n_pair_train.csv', limit=5000000)"
   ]
  },
  {
   "cell_type": "code",
   "execution_count": 4,
   "metadata": {},
   "outputs": [],
   "source": [
    "from torch.utils.data import DataLoader\n",
    "LEARNING_LATE = 1e-4\n",
    "BATCH_SIZE = 32\n",
    "EPOCHS = 10\n",
    "train_size = int(0.9 * len(dataset))\n",
    "val_size = len(dataset) - train_size\n",
    "\n",
    "train_dataset, test_dataset = torch.utils.data.random_split(\n",
    "    dataset, [train_size, val_size]\n",
    ")\n",
    "\n",
    "train_dataloader = DataLoader(train_dataset, batch_size=BATCH_SIZE, shuffle=True, pin_memory=True)\n",
    "test_dataloader = DataLoader(test_dataset, batch_size=BATCH_SIZE, shuffle=True, pin_memory=True)"
   ]
  },
  {
   "cell_type": "code",
   "execution_count": 5,
   "metadata": {},
   "outputs": [
    {
     "name": "stderr",
     "output_type": "stream",
     "text": [
      "c:\\Users\\yuuta\\anaconda3\\envs\\fashion\\Lib\\site-packages\\torchvision\\models\\_utils.py:208: UserWarning: The parameter 'pretrained' is deprecated since 0.13 and may be removed in the future, please use 'weights' instead.\n",
      "  warnings.warn(\n",
      "c:\\Users\\yuuta\\anaconda3\\envs\\fashion\\Lib\\site-packages\\torchvision\\models\\_utils.py:223: UserWarning: Arguments other than a weight enum or `None` for 'weights' are deprecated since 0.13 and may be removed in the future. The current behavior is equivalent to passing `weights=ResNet50_Weights.IMAGENET1K_V1`. You can also use `weights=ResNet50_Weights.DEFAULT` to get the most up-to-date weights.\n",
      "  warnings.warn(msg)\n"
     ]
    }
   ],
   "source": [
    "\n",
    "model = ImageEncoderV2().to(device)\n",
    "# \n",
    "# model.load_state_dict(torch.load('C:/Users/yuuta/Documents/fashion/model_learning/versatility/models/triplet-image-2024-01-09.pth'))\n",
    "optimizer = torch.optim.Adam(model.parameters(), lr=LEARNING_LATE)\n",
    "\n",
    "loss_fn = nn.TripletMarginLoss(margin=20.0, p=2, eps=1e-7) # , reduction='sum'"
   ]
  },
  {
   "cell_type": "code",
   "execution_count": 6,
   "metadata": {},
   "outputs": [],
   "source": [
    "def train_loop(dataloader, model, loss_fn, optimizer):\n",
    "    model.train()\n",
    "    size = len(dataloader.dataset)\n",
    "    for batch, (anchor, positive, negative) in enumerate(dataloader):        \n",
    "        optimizer.zero_grad()\n",
    "\n",
    "        anchor_vecter = model(anchor.to(device))\n",
    "        positive_vecter = model(positive.to(device))\n",
    "        negative_vecter = model(negative.to(device))\n",
    "\n",
    "        loss = loss_fn(anchor_vecter, positive_vecter, negative_vecter)\n",
    "\n",
    "        # バックプロパゲーション\n",
    "        loss.backward()\n",
    "        optimizer.step()\n",
    "\n",
    "        if batch % 1000 == 0:\n",
    "            loss, current = loss.item() / BATCH_SIZE, batch * BATCH_SIZE\n",
    "            print(f\"loss: {loss:>15.12f}  [{current:>5d}/{size:>5d}]\")\n",
    "\n",
    "        if batch % 3000 == 0:\n",
    "            now = datetime.now()\n",
    "            formatted_date = now.strftime(\"%Y-%m-%d\")\n",
    "\n",
    "            torch.save(model.state_dict(), f'C:/Users/yuuta/Documents/fashion/model_learning/versatility/models/triplet-image-{formatted_date}.pth')\n",
    "\n",
    "\n",
    "def test_loop(dataloader, model, loss_fn):\n",
    "    size = len(dataloader.dataset)\n",
    "    model.eval()\n",
    "    test_loss = 0\n",
    "    p_d = 0\n",
    "    n_d = 0\n",
    "    with torch.no_grad():\n",
    "        for (anchor, positive, negative) in dataloader:\n",
    "            anchor_vecter = model(anchor.to(device))\n",
    "            positive_vecter = model(positive.to(device))\n",
    "            negative_vecter = model(negative.to(device))\n",
    "            # print(anchor_vecter.shape)\n",
    "            positive_d = torch.norm(anchor_vecter - positive_vecter, dim=1, keepdim=True)\n",
    "            negative_d = torch.norm(anchor_vecter - negative_vecter, dim=1, keepdim=True)\n",
    "            # print('=====positive_d====')\n",
    "            # print(torch.norm(anchor_vecter[0] - positive_vecter[0]))\n",
    "            # print('=====negative_d====')\n",
    "            # print(torch.norm(anchor_vecter[0] - negative_vecter[0]))\n",
    "\n",
    "            p_d += torch.sum(positive_d)\n",
    "            n_d += torch.sum(negative_d)\n",
    "            loss = loss_fn(anchor_vecter, positive_vecter, negative_vecter)\n",
    "\n",
    "            test_loss += loss.item()\n",
    "            \n",
    "    test_loss /= size\n",
    "    print(f\"Avg loss: {test_loss:>15.12f} \\n average distance: {(p_d - n_d) / size} posi_ave: {p_d / size} nega_ave: {n_d / size}\")"
   ]
  },
  {
   "cell_type": "code",
   "execution_count": null,
   "metadata": {},
   "outputs": [],
   "source": [
    "print(\"start\")\n",
    "for t in range(EPOCHS):\n",
    "    print(f\"Epoch {t+1}\\-------------------------------\")\n",
    "    test_loop(test_dataloader, model, loss_fn)\n",
    "    train_loop(train_dataloader, model, loss_fn, optimizer)\n",
    "print(\"Done!\")"
   ]
  },
  {
   "cell_type": "code",
   "execution_count": 8,
   "metadata": {},
   "outputs": [],
   "source": [
    "now = datetime.now()\n",
    "formatted_date = now.strftime(\"%Y-%m-%d\")\n",
    "torch.save(model.state_dict(), f'C:/Users/yuuta/Documents/fashion/model_learning/versatility/models/triplet-image-{formatted_date}.pth')\n"
   ]
  }
 ],
 "metadata": {
  "kernelspec": {
   "display_name": "fashion",
   "language": "python",
   "name": "python3"
  },
  "language_info": {
   "codemirror_mode": {
    "name": "ipython",
    "version": 3
   },
   "file_extension": ".py",
   "mimetype": "text/x-python",
   "name": "python",
   "nbconvert_exporter": "python",
   "pygments_lexer": "ipython3",
   "version": "3.11.5"
  }
 },
 "nbformat": 4,
 "nbformat_minor": 2
}
