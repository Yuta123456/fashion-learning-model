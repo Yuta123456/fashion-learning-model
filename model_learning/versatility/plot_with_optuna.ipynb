{
 "cells": [
  {
   "cell_type": "code",
   "execution_count": 1,
   "metadata": {},
   "outputs": [
    {
     "name": "stderr",
     "output_type": "stream",
     "text": [
      "c:\\Users\\yuuta\\anaconda3\\envs\\fashion\\Lib\\site-packages\\tqdm\\auto.py:21: TqdmWarning: IProgress not found. Please update jupyter and ipywidgets. See https://ipywidgets.readthedocs.io/en/stable/user_install.html\n",
      "  from .autonotebook import tqdm as notebook_tqdm\n"
     ]
    }
   ],
   "source": [
    "import numpy as np\n",
    "from sklearn.cluster import KMeans\n",
    "import torch\n",
    "import matplotlib.pyplot as plt\n",
    "import pandas as pd\n",
    "import torch\n",
    "from sklearn.manifold import TSNE\n",
    "import numpy as np\n",
    "import matplotlib\n",
    "import japanize_matplotlib\n",
    "import glob\n",
    "import sys\n",
    "import optuna\n",
    "sys.path.append(\"C:/Users/yuuta/Documents/fashion\")\n",
    "from utils.util import open_json\n",
    "from utils.util import filter_basic_items"
   ]
  },
  {
   "cell_type": "code",
   "execution_count": 2,
   "metadata": {},
   "outputs": [],
   "source": [
    "path = glob.glob(\n",
    "    # \"C:/Users/yuuta/Documents/fashion/data/test/**/*.json\"\n",
    "    \"C:/Users/yuuta/Documents/fashion/data/train/**/*.json\"\n",
    ")"
   ]
  },
  {
   "cell_type": "code",
   "execution_count": 3,
   "metadata": {},
   "outputs": [],
   "source": [
    "id_to_vector = open_json('C:/Users/yuuta/Documents/fashion/model_learning/versatility/data/id_to_vector_train.json')"
   ]
  },
  {
   "cell_type": "code",
   "execution_count": 4,
   "metadata": {},
   "outputs": [],
   "source": [
    "labels = []\n",
    "vectors = []"
   ]
  },
  {
   "cell_type": "code",
   "execution_count": 5,
   "metadata": {},
   "outputs": [],
   "source": [
    "for fp in path:\n",
    "    json_dict = open_json(fp)\n",
    "    items = filter_basic_items(json_dict[\"items\"])\n",
    "    for item in items:\n",
    "        labels.append(item[\"category x color\"])\n",
    "        itemId = str(item['itemId'])\n",
    "        v = torch.tensor(id_to_vector[itemId])\n",
    "        vectors.append(v)"
   ]
  },
  {
   "cell_type": "code",
   "execution_count": 6,
   "metadata": {},
   "outputs": [],
   "source": [
    "labels_list = list(set(labels))\n",
    "labels = [labels_list.index(l) for l in labels]"
   ]
  },
  {
   "cell_type": "code",
   "execution_count": 7,
   "metadata": {},
   "outputs": [],
   "source": [
    "tensor = torch.stack(vectors).numpy()"
   ]
  },
  {
   "cell_type": "code",
   "execution_count": 8,
   "metadata": {},
   "outputs": [],
   "source": [
    "p = torch.ones(len(tensor))\n",
    "index = p.multinomial(num_samples=50000, replacement=False)\n",
    "sampling_tensor = tensor[index]\n",
    "sampling_label = np.array(labels)\n",
    "sampling_label = sampling_label[index]"
   ]
  },
  {
   "cell_type": "code",
   "execution_count": 17,
   "metadata": {},
   "outputs": [],
   "source": [
    "def classification_scorer(X, Y):\n",
    "    s = 0\n",
    "    for i, (x1, y1) in enumerate(zip(X, Y)):\n",
    "        for j, (x2, y2) in enumerate(zip(X, Y)):\n",
    "            if i > j and y1 != y2:\n",
    "                dist = np.linalg.norm(np.array(x1) - np.array(x2))\n",
    "                s += dist\n",
    "    return s "
   ]
  },
  {
   "cell_type": "code",
   "execution_count": 19,
   "metadata": {},
   "outputs": [],
   "source": [
    "class SupervisedTSNE:\n",
    "    def __init__(self, X, Y):\n",
    "        self.X = X\n",
    "        self.Y = Y\n",
    "        self.scorer = classification_scorer\n",
    "        self.best_score = 0\n",
    "        self.best_model = None\n",
    "\n",
    "    def __call__(self, trial):\n",
    "        perplexity = trial.suggest_float(\"perplexity\", 5, 50)\n",
    "        early_exaggeration = trial.suggest_float(\"early_exaggeration\", 6, 48)\n",
    "        init = trial.suggest_categorical(\"init\", [\"random\", \"pca\"])\n",
    "\n",
    "        mapper = TSNE(\n",
    "            n_components=2,\n",
    "            random_state = 0,\n",
    "            n_iter = 1000,\n",
    "            perplexity=perplexity,\n",
    "            early_exaggeration=early_exaggeration,\n",
    "            init=init\n",
    "        )\n",
    "        embedding = mapper.fit_transform(self.X)\n",
    "        score = self.scorer(embedding, self.Y)\n",
    "\n",
    "        if self.best_score > score:\n",
    "            self.best_score = score\n",
    "            self.best_model = mapper\n",
    "            \n",
    "            print(self.best_model)\n",
    "            title='trial={0}, score={1:.3e}'.format(trial.number, score)\n",
    "            plt.title(title)\n",
    "            plt.scatter(embedding[:, 0], embedding[:, 1], c=self.Y, alpha=0.5)\n",
    "            plt.colorbar()\n",
    "            plt.show()      \n",
    "\n",
    "        return score"
   ]
  },
  {
   "cell_type": "code",
   "execution_count": 20,
   "metadata": {},
   "outputs": [
    {
     "name": "stderr",
     "output_type": "stream",
     "text": [
      "[I 2024-01-13 18:42:42,490] A new study created in memory with name: no-name-c6188a6a-1284-4c86-b2ff-c5c5b25f972d\n"
     ]
    }
   ],
   "source": [
    "objective = SupervisedTSNE(sampling_tensor, sampling_label)\n",
    "study = optuna.create_study(direction=\"maximize\")\n",
    "study.optimize(objective, timeout=7200 * 2)\n",
    "\n",
    "print('params:', study.best_params)"
   ]
  },
  {
   "cell_type": "code",
   "execution_count": null,
   "metadata": {},
   "outputs": [],
   "source": [
    "fig = plt.figure(figsize = (50, 50))\n",
    "colors = list(matplotlib.colors.CSS4_COLORS.values())\n",
    "for i in range(100):\n",
    "    category_mask = sampling_label == np.array(i)\n",
    "    tmp_df = X[category_mask]\n",
    "    plt.scatter(tmp_df['col1'],\n",
    "                tmp_df['col2'],\n",
    "                color = colors[i])"
   ]
  }
 ],
 "metadata": {
  "kernelspec": {
   "display_name": "fashion",
   "language": "python",
   "name": "python3"
  },
  "language_info": {
   "codemirror_mode": {
    "name": "ipython",
    "version": 3
   },
   "file_extension": ".py",
   "mimetype": "text/x-python",
   "name": "python",
   "nbconvert_exporter": "python",
   "pygments_lexer": "ipython3",
   "version": "3.11.5"
  }
 },
 "nbformat": 4,
 "nbformat_minor": 2
}
