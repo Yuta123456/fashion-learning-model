{
 "cells": [
  {
   "cell_type": "code",
   "execution_count": 13,
   "metadata": {},
   "outputs": [],
   "source": [
    "import numpy as np\n",
    "from sklearn.cluster import KMeans\n",
    "import torch\n",
    "import matplotlib.pyplot as plt\n",
    "import pandas as pd\n",
    "import torch\n",
    "from sklearn.manifold import TSNE\n",
    "import numpy as np\n",
    "import matplotlib\n",
    "import japanize_matplotlib"
   ]
  },
  {
   "cell_type": "code",
   "execution_count": 14,
   "metadata": {},
   "outputs": [
    {
     "name": "stdout",
     "output_type": "stream",
     "text": [
      "tensor finished\n"
     ]
    },
    {
     "name": "stderr",
     "output_type": "stream",
     "text": [
      "c:\\Users\\yuuta\\anaconda3\\envs\\fashion\\Lib\\site-packages\\sklearn\\cluster\\_kmeans.py:870: FutureWarning: The default value of `n_init` will change from 10 to 'auto' in 1.4. Set the value of `n_init` explicitly to suppress the warning\n",
      "  warnings.warn(\n"
     ]
    }
   ],
   "source": [
    "N = 100\n",
    "tensor = torch.load('C:/Users/yuuta/Documents/fashion/model_learning/versatility/data/train_tensors.pt').to('cpu').numpy()\n",
    "print('tensor finished')\n",
    "kmeans_model = KMeans(n_clusters=N, random_state=10).fit(tensor)\n",
    "\n",
    "# 分類先となったラベルを取得する\n",
    "labels = kmeans_model.labels_"
   ]
  },
  {
   "cell_type": "code",
   "execution_count": 15,
   "metadata": {},
   "outputs": [],
   "source": [
    "# C:\\Users\\yuuta\\Documents\\fashion\\model_learning\\versatility\\cluster\n",
    "with open(f'C:/Users/yuuta/Documents/fashion/model_learning/versatility/cluster/cluster_label_{N}.txt', 'w') as f:\n",
    "    [f.write(f'{l}\\n') for l in labels]"
   ]
  },
  {
   "cell_type": "code",
   "execution_count": 16,
   "metadata": {},
   "outputs": [
    {
     "name": "stdout",
     "output_type": "stream",
     "text": [
      "(100, 64)\n"
     ]
    }
   ],
   "source": [
    "center_vectors = np.array([])\n",
    "for l in range(N):\n",
    "    center_vector = np.mean(tensor[labels == l], axis = 0)\n",
    "    # print(center_vector.shape, tensor[labels == l].shape)\n",
    "    center_vectors = np.append(center_vectors, center_vector, axis=0)\n",
    "center_vectors = center_vectors.reshape(N, 64)\n",
    "print(center_vectors.shape)\n",
    "center_tensors = torch.from_numpy(center_vectors.astype(np.float32)).clone()\n",
    "torch.save(center_tensors, f'C:/Users/yuuta/Documents/fashion/model_learning/versatility/cluster/center_tensors_{N}.pt')"
   ]
  }
 ],
 "metadata": {
  "kernelspec": {
   "display_name": "fashion",
   "language": "python",
   "name": "python3"
  },
  "language_info": {
   "codemirror_mode": {
    "name": "ipython",
    "version": 3
   },
   "file_extension": ".py",
   "mimetype": "text/x-python",
   "name": "python",
   "nbconvert_exporter": "python",
   "pygments_lexer": "ipython3",
   "version": "3.11.5"
  }
 },
 "nbformat": 4,
 "nbformat_minor": 2
}
